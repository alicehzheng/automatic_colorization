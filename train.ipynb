{
 "cells": [
  {
   "cell_type": "code",
   "execution_count": 1,
   "metadata": {},
   "outputs": [
    {
     "name": "stdout",
     "output_type": "stream",
     "text": [
      "----------------- Options ---------------\n",
      "                   ab_max: 110.0                         \n",
      "                  ab_norm: 110.0                         \n",
      "                 ab_quant: 10.0                          \n",
      "             aspect_ratio: 1.0                           \n",
      "           avg_loss_alpha: 0.986                         \n",
      "               batch_size: 8                             \n",
      "                    beta1: 0.9                           \n",
      "          checkpoints_dir: ./colorization_pytorch/checkpoints\n",
      "           classification: False                         \n",
      "             dataset_mode: aligned                       \n",
      "             display_freq: 200                           \n",
      "               display_id: 1                             \n",
      "            display_ncols: 5                             \n",
      "             display_port: 8097                          \n",
      "           display_server: http://localhost              \n",
      "          display_winsize: 384                           \n",
      "              epoch_count: 0                             \n",
      "                 fineSize: 384                           \n",
      "                  gpu_ids: 0                             \n",
      "                     half: False                         \n",
      "                 how_many: 200                           \n",
      "                init_type: normal                        \n",
      "                 input_nc: 1                             \n",
      "                  isTrain: True                          \t[default: None]\n",
      "                   l_cent: 50.0                          \n",
      "                   l_norm: 100.0                         \n",
      "                 lambda_A: 1.0                           \n",
      "                 lambda_B: 1.0                           \n",
      "               lambda_GAN: 0.0                           \n",
      "          lambda_identity: 0.5                           \n",
      "                 loadSize: 384                           \n",
      "               load_model: True                          \n",
      "                       lr: 0.0001                        \n",
      "           lr_decay_iters: 50                            \n",
      "                lr_policy: lambda                        \n",
      "                mask_cent: 0.5                           \n",
      "         max_dataset_size: inf                           \n",
      "                    model: pix2pix                       \n",
      "                 nThreads: 4                             \n",
      "               n_layers_D: 3                             \n",
      "                     name: siggraph_retrained            \n",
      "                      ndf: 64                            \n",
      "                      ngf: 64                            \n",
      "                    niter: 100                           \n",
      "              niter_decay: 100                           \n",
      "               no_dropout: False                         \n",
      "                  no_flip: False                         \n",
      "                  no_html: False                         \n",
      "                 no_lsgan: False                         \n",
      "                     norm: batch                         \n",
      "                output_nc: 2                             \n",
      "                    phase: val                           \n",
      "                pool_size: 50                            \n",
      "               print_freq: 200                           \n",
      "           resize_or_crop: resize_and_crop               \n",
      "              results_dir: ./results/                    \n",
      "                sample_Ps: [1, 2, 3, 4, 5, 6, 7, 8, 9]   \n",
      "                 sample_p: 1.0                           \n",
      "          save_epoch_freq: 1                             \n",
      "         save_latest_freq: 5000                          \n",
      "           serial_batches: False                         \n",
      "                   suffix:                               \n",
      "         update_html_freq: 10000                         \n",
      "                  verbose: False                         \n",
      "          which_direction: AtoB                          \n",
      "              which_epoch: latest                        \n",
      "         which_model_netD: basic                         \n",
      "         which_model_netG: siggraph                      \n",
      "----------------- End -------------------\n",
      "1\n",
      "1\n",
      "siggraph\n",
      "initialize network with normal\n",
      "<bound method Module.type of SIGGRAPHGenerator(\n",
      "  (model1): Sequential(\n",
      "    (0): Conv2d(4, 64, kernel_size=(3, 3), stride=(1, 1), padding=(1, 1))\n",
      "    (1): ReLU(inplace)\n",
      "    (2): Conv2d(64, 64, kernel_size=(3, 3), stride=(1, 1), padding=(1, 1))\n",
      "    (3): ReLU(inplace)\n",
      "    (4): BatchNorm2d(64, eps=1e-05, momentum=0.1, affine=True, track_running_stats=True)\n",
      "  )\n",
      "  (model2): Sequential(\n",
      "    (0): Conv2d(64, 128, kernel_size=(3, 3), stride=(1, 1), padding=(1, 1))\n",
      "    (1): ReLU(inplace)\n",
      "    (2): Conv2d(128, 128, kernel_size=(3, 3), stride=(1, 1), padding=(1, 1))\n",
      "    (3): ReLU(inplace)\n",
      "    (4): BatchNorm2d(128, eps=1e-05, momentum=0.1, affine=True, track_running_stats=True)\n",
      "  )\n",
      "  (model3): Sequential(\n",
      "    (0): Conv2d(128, 256, kernel_size=(3, 3), stride=(1, 1), padding=(1, 1))\n",
      "    (1): ReLU(inplace)\n",
      "    (2): Conv2d(256, 256, kernel_size=(3, 3), stride=(1, 1), padding=(1, 1))\n",
      "    (3): ReLU(inplace)\n",
      "    (4): Conv2d(256, 256, kernel_size=(3, 3), stride=(1, 1), padding=(1, 1))\n",
      "    (5): ReLU(inplace)\n",
      "    (6): BatchNorm2d(256, eps=1e-05, momentum=0.1, affine=True, track_running_stats=True)\n",
      "  )\n",
      "  (model4): Sequential(\n",
      "    (0): Conv2d(256, 512, kernel_size=(3, 3), stride=(1, 1), padding=(1, 1))\n",
      "    (1): ReLU(inplace)\n",
      "    (2): Conv2d(512, 512, kernel_size=(3, 3), stride=(1, 1), padding=(1, 1))\n",
      "    (3): ReLU(inplace)\n",
      "    (4): Conv2d(512, 512, kernel_size=(3, 3), stride=(1, 1), padding=(1, 1))\n",
      "    (5): ReLU(inplace)\n",
      "    (6): BatchNorm2d(512, eps=1e-05, momentum=0.1, affine=True, track_running_stats=True)\n",
      "  )\n",
      "  (model5): Sequential(\n",
      "    (0): Conv2d(512, 512, kernel_size=(3, 3), stride=(1, 1), padding=(2, 2), dilation=(2, 2))\n",
      "    (1): ReLU(inplace)\n",
      "    (2): Conv2d(512, 512, kernel_size=(3, 3), stride=(1, 1), padding=(2, 2), dilation=(2, 2))\n",
      "    (3): ReLU(inplace)\n",
      "    (4): Conv2d(512, 512, kernel_size=(3, 3), stride=(1, 1), padding=(2, 2), dilation=(2, 2))\n",
      "    (5): ReLU(inplace)\n",
      "    (6): BatchNorm2d(512, eps=1e-05, momentum=0.1, affine=True, track_running_stats=True)\n",
      "  )\n",
      "  (model6): Sequential(\n",
      "    (0): Conv2d(512, 512, kernel_size=(3, 3), stride=(1, 1), padding=(2, 2), dilation=(2, 2))\n",
      "    (1): ReLU(inplace)\n",
      "    (2): Conv2d(512, 512, kernel_size=(3, 3), stride=(1, 1), padding=(2, 2), dilation=(2, 2))\n",
      "    (3): ReLU(inplace)\n",
      "    (4): Conv2d(512, 512, kernel_size=(3, 3), stride=(1, 1), padding=(2, 2), dilation=(2, 2))\n",
      "    (5): ReLU(inplace)\n",
      "    (6): BatchNorm2d(512, eps=1e-05, momentum=0.1, affine=True, track_running_stats=True)\n",
      "  )\n",
      "  (model7): Sequential(\n",
      "    (0): Conv2d(512, 512, kernel_size=(3, 3), stride=(1, 1), padding=(1, 1))\n",
      "    (1): ReLU(inplace)\n",
      "    (2): Conv2d(512, 512, kernel_size=(3, 3), stride=(1, 1), padding=(1, 1))\n",
      "    (3): ReLU(inplace)\n",
      "    (4): Conv2d(512, 512, kernel_size=(3, 3), stride=(1, 1), padding=(1, 1))\n",
      "    (5): ReLU(inplace)\n",
      "    (6): BatchNorm2d(512, eps=1e-05, momentum=0.1, affine=True, track_running_stats=True)\n",
      "  )\n",
      "  (model8up): Sequential(\n",
      "    (0): ConvTranspose2d(512, 256, kernel_size=(4, 4), stride=(2, 2), padding=(1, 1))\n",
      "  )\n",
      "  (model8): Sequential(\n",
      "    (0): ReLU(inplace)\n",
      "    (1): Conv2d(256, 256, kernel_size=(3, 3), stride=(1, 1), padding=(1, 1))\n",
      "    (2): ReLU(inplace)\n",
      "    (3): Conv2d(256, 256, kernel_size=(3, 3), stride=(1, 1), padding=(1, 1))\n",
      "    (4): ReLU(inplace)\n",
      "    (5): BatchNorm2d(256, eps=1e-05, momentum=0.1, affine=True, track_running_stats=True)\n",
      "  )\n",
      "  (model9up): Sequential(\n",
      "    (0): ConvTranspose2d(256, 128, kernel_size=(4, 4), stride=(2, 2), padding=(1, 1))\n",
      "  )\n",
      "  (model9): Sequential(\n",
      "    (0): ReLU(inplace)\n",
      "    (1): Conv2d(128, 128, kernel_size=(3, 3), stride=(1, 1), padding=(1, 1))\n",
      "    (2): ReLU(inplace)\n",
      "    (3): BatchNorm2d(128, eps=1e-05, momentum=0.1, affine=True, track_running_stats=True)\n",
      "  )\n",
      "  (model10up): Sequential(\n",
      "    (0): ConvTranspose2d(128, 128, kernel_size=(4, 4), stride=(2, 2), padding=(1, 1))\n",
      "  )\n",
      "  (model10): Sequential(\n",
      "    (0): ReLU(inplace)\n",
      "    (1): Conv2d(128, 128, kernel_size=(3, 3), stride=(1, 1), padding=(1, 1))\n",
      "    (2): LeakyReLU(negative_slope=0.2)\n",
      "  )\n",
      "  (model3short8): Sequential(\n",
      "    (0): Conv2d(256, 256, kernel_size=(3, 3), stride=(1, 1), padding=(1, 1))\n",
      "  )\n",
      "  (model2short9): Sequential(\n",
      "    (0): Conv2d(128, 128, kernel_size=(3, 3), stride=(1, 1), padding=(1, 1))\n",
      "  )\n",
      "  (model1short10): Sequential(\n",
      "    (0): Conv2d(64, 128, kernel_size=(3, 3), stride=(1, 1), padding=(1, 1))\n",
      "  )\n",
      "  (model_class): Sequential(\n",
      "    (0): Conv2d(256, 529, kernel_size=(1, 1), stride=(1, 1))\n",
      "  )\n",
      "  (model_out): Sequential(\n",
      "    (0): Conv2d(128, 2, kernel_size=(1, 1), stride=(1, 1))\n",
      "    (1): Tanh()\n",
      "  )\n",
      "  (upsample4): Sequential(\n",
      "    (0): Upsample(scale_factor=4, mode=nearest)\n",
      "  )\n",
      "  (softmax): Sequential(\n",
      "    (0): Softmax()\n",
      "  )\n",
      ")>\n",
      "model [Pix2PixModel] was created\n",
      "loading the model from ./colorization_pytorch/checkpoints/siggraph_retrained/latest_net_G.pth\n",
      "---------- Networks initialized -------------\n",
      "[Network G] Total number of parameters : 34.187 M\n",
      "-----------------------------------------------\n",
      "---------- Networks initialized -------------\n",
      "[Network G] Total number of parameters : 34.187 M\n",
      "-----------------------------------------------\n"
     ]
    }
   ],
   "source": [
    "import itertools\n",
    "import os\n",
    "import sys\n",
    "import copy\n",
    "sys.path.append(\"colorization_pytorch\")\n",
    "sys.path.append(\"flownet2_pytorch\")\n",
    "import torch\n",
    "import torch.nn as nn\n",
    "from colorization_pytorch.models import create_model\n",
    "from flownet2_pytorch.models import FlowNet2\n",
    "import torch.nn.functional as F\n",
    "import numpy as np\n",
    "from matplotlib import pyplot as plt\n",
    "from datasets import *\n",
    "from torch.utils.data import DataLoader\n",
    "from tqdm import tqdm\n",
    "from colorization_pytorch.options.train_options import TrainOptions\n",
    "from flownet2_pytorch.parser import initialize_args\n",
    "import torchvision.transforms as transforms\n",
    "from colorization_pytorch.util import util\n",
    "\n",
    "class Mask(nn.Module):\n",
    "    def __init__(self, in_channels):\n",
    "        super(Mask,self).__init__()\n",
    "        self.cnn = nn.Sequential(\n",
    "            nn.Conv2d(in_channels=in_channels, out_channels=64, kernel_size=3, stride=1, padding=1),\n",
    "            nn.LeakyReLU(0.1),\n",
    "            nn.Conv2d(in_channels=64, out_channels=8, kernel_size=3, stride=1, padding=1),\n",
    "            nn.LeakyReLU(0.1),\n",
    "            nn.Conv2d(in_channels=8, out_channels=1, kernel_size=3, stride=1, padding=1),\n",
    "            nn.LeakyReLU(0.1),\n",
    "        )\n",
    "\n",
    "    def forward(self, data):\n",
    "        return self.cnn(data)\n",
    "\n",
    "\n",
    "class VideoColorization(nn.Module):\n",
    "    def __init__(self, opt, args, batchNorm=False, div_flow=20.):\n",
    "        super(VideoColorization,self).__init__()\n",
    "        self.opt = opt\n",
    "        self.color_model = create_model(opt)\n",
    "        self.color_model.setup(opt)\n",
    "        self.color_model.print_networks(False)\n",
    "        self.flownet = FlowNet2(args, batchNorm=batchNorm, div_flow=div_flow)\n",
    "        checkpoint = torch.load(args.resume)\n",
    "        self.flownet.load_state_dict(checkpoint['state_dict'])\n",
    "        #self.ori_index = torch.tensor(list(itertools.product(np.arange(H), np.arange(W)))). \\\n",
    "            #reshape(H, W, -1)\n",
    "        self.mask = Mask(256)\n",
    "\n",
    "    def forward(self, color_data, flow_data):\n",
    "        self.color_model.set_input(color_data[0])\n",
    "        _,_, previous_feature_map = self.color_model.encode()\n",
    "        self.color_model.set_input(color_data[1])\n",
    "        conv1_2, conv2_2, feature_map = self.color_model.encode()\n",
    "        flow = self.flownet(flow_data)  # B * 2 * 384 * 1024\n",
    "        #print(\"flow\")\n",
    "        FlowWeight = F.interpolate(flow, previous_feature_map.size()[-2:], mode='bilinear')\n",
    "        B, C, H, W = previous_feature_map.size()\n",
    "        #print(previous_feature_map.shape)\n",
    "        flow_copy = FlowWeight.clone().detach().cpu().long().permute(0, 2, 3, 1)\n",
    "        predicted_feature_map = torch.zeros(previous_feature_map.shape).cuda()\n",
    "        for h in range(H):\n",
    "            for w in range(W):\n",
    "                res_h = h + flow_copy[0,h,w,0]\n",
    "                res_w = w + flow_copy[0,h,w,1]\n",
    "                if res_h < 0:\n",
    "                    res_h = 0\n",
    "                elif res_h > H-1:\n",
    "                    res_h = H-1\n",
    "                if res_w < 0:\n",
    "                    res_w = 0\n",
    "                elif res_w > W-1:\n",
    "                    res_w = W-1\n",
    "                predicted_feature_map[:,:,res_h,res_w] = previous_feature_map[:,:,h,w]\n",
    "            \n",
    "        # B*512*22*22\n",
    "        #print(predicted_feature_map.shape)\n",
    "        delta_feature_map = torch.abs(predicted_feature_map - feature_map)\n",
    "        M = self.mask(delta_feature_map)\n",
    "        #print(M.shape)\n",
    "        output_feature_map = (1 - M) * feature_map + M * predicted_feature_map\n",
    "        fake_B_class, fake_B_reg = self.color_model.decode(conv1_2, conv2_2, output_feature_map)\n",
    "        #print(fake_B_reg.shape)\n",
    "        return fake_B_reg, FlowWeight\n",
    "    \n",
    "    def infer_forward(self, color_data, flow_data, pre_feature_map=None):\n",
    "        if pre_feature_map == None:\n",
    "            self.color_model.set_input(color_data[0])\n",
    "            _,_, previous_feature_map = self.color_model.encode()\n",
    "        self.color_model.set_input(color_data[1])\n",
    "        conv1_2, conv2_2, feature_map = self.color_model.encode()\n",
    "        flow = self.flownet(flow_data)  # B * 2 * 384 * 1024\n",
    "        #print(\"flow\")\n",
    "        FlowWeight = F.interpolate(flow, previous_feature_map.size()[-2:], mode='bilinear')\n",
    "        B, C, H, W = previous_feature_map.size()\n",
    "        #print(previous_feature_map.shape)\n",
    "        flow_copy = FlowWeight.clone().detach().cpu().long().permute(0, 2, 3, 1)\n",
    "        predicted_feature_map = torch.zeros(previous_feature_map.shape).cuda()\n",
    "        for h in range(H):\n",
    "            for w in range(W):\n",
    "                res_h = h + flow_copy[0,h,w,0]\n",
    "                res_w = w + flow_copy[0,h,w,1]\n",
    "                if res_h < 0:\n",
    "                    res_h = 0\n",
    "                elif res_h > H-1:\n",
    "                    res_h = H-1\n",
    "                if res_w < 0:\n",
    "                    res_w = 0\n",
    "                elif res_w > W-1:\n",
    "                    res_w = W-1\n",
    "                predicted_feature_map[:,:,res_h,res_w] = previous_feature_map[:,:,h,w]\n",
    "            \n",
    "        # B*512*22*22\n",
    "        #print(predicted_feature_map.shape)\n",
    "        delta_feature_map = torch.abs(predicted_feature_map - feature_map)\n",
    "        M = self.mask(delta_feature_map)\n",
    "        #print(M.shape)\n",
    "        output_feature_map = (1 - M) * feature_map + M * predicted_feature_map\n",
    "        fake_B_class, fake_B_reg = self.color_model.decode(conv1_2, conv2_2, output_feature_map)\n",
    "        #print(fake_B_reg.shape)\n",
    "        return fake_B_reg, FlowWeight, output_feature_map\n",
    "        \n",
    "\n",
    "        \n",
    "class flow_args():\n",
    "    def __init__(self):\n",
    "        self.rgb_max = 255\n",
    "        self.fp16 = False\n",
    "        self.fp16_scale = 1024.\n",
    "        self.crop_size = [256,256]\n",
    "        self.inference_size = [-1,-1]\n",
    "        self.resume = './check_point/FlowNet2_checkpoint.pth.tar'\n",
    "        \n",
    "\n",
    "opt = TrainOptions().parse()\n",
    "args = flow_args()\n",
    "debug = VideoColorization(opt, args)\n"
   ]
  },
  {
   "cell_type": "code",
   "execution_count": 3,
   "metadata": {},
   "outputs": [],
   "source": [
    "train_set = MpiSintel(args, root = \"data/training/\")\n",
    "train_loader = DataLoader(train_set, batch_size = 8, shuffle=True, num_workers=4)"
   ]
  },
  {
   "cell_type": "code",
   "execution_count": 4,
   "metadata": {},
   "outputs": [],
   "source": [
    "class solver():\n",
    "    def __init__(self, model):\n",
    "        self.model = model\n",
    "        self.lr = 1e-4\n",
    "        self.optimizer_flow = torch.optim.Adam(self.model.flownet.parameters(), lr=2e-4, weight_decay=1e-6)\n",
    "        self.optimizer_color_network = []\n",
    "        self.use_D = opt.lambda_GAN > 0\n",
    "        self.optimizer_G = torch.optim.Adam(self.model.color_model.netG.parameters(),\n",
    "                                            lr=0, betas=(opt.beta1, 0.999)) #lr=opt.lr\n",
    "        self.optimizer_color_network.append(self.optimizer_G)\n",
    "\n",
    "        if self.use_D:\n",
    "            self.optimizer_D = torch.optim.Adam(self.model.color_model.netD.parameters(),\n",
    "                                                    lr=0, betas=(opt.beta1, 0.999))\n",
    "            self.optimizer_color_network.append(self.optimizer_D)\n",
    "        \n",
    "        self.optimizer_mask = torch.optim.Adam(self.model.mask.parameters(), lr=1e-4, weight_decay=1e-6)\n",
    "        self.batch_size = 5\n",
    "        self.epoch = 100\n",
    "        self.H = 384\n",
    "        self.W = 1024\n",
    "        #self.ori_index = torch.tensor(list(itertools.product(np.arange(self.H), np.arange(self.W)))). \\\n",
    "         #   reshape(self.H, self.W, -1)\n",
    "        \n",
    "    def plot_grad_flow(self, named_parameters):\n",
    "        '''Plots the gradients flowing through different layers in the net during training.\n",
    "        Can be used for checking for possible gradient vanishing / exploding problems.\n",
    "    \n",
    "        Usage: Plug this function in Trainer class after loss.backwards() as \n",
    "        \"plot_grad_flow(self.model.named_parameters())\" to visualize the gradient flow'''\n",
    "        ave_grads = []\n",
    "        max_grads= []\n",
    "        layers = []\n",
    "        for n, p in named_parameters:\n",
    "            if(p.requires_grad) and (\"bias\" not in n):\n",
    "                layers.append(n)\n",
    "                ave_grads.append(p.grad.abs().mean())\n",
    "                max_grads.append(p.grad.abs().max())\n",
    "        plt.bar(np.arange(len(max_grads)), max_grads, alpha=0.1, lw=1, color=\"c\")\n",
    "        plt.bar(np.arange(len(max_grads)), ave_grads, alpha=0.1, lw=1, color=\"b\")\n",
    "        plt.hlines(0, 0, len(ave_grads)+1, lw=2, color=\"k\" )\n",
    "        plt.xticks(range(0,len(ave_grads), 1), layers, rotation=\"vertical\")\n",
    "        plt.xlim(left=0, right=len(ave_grads))\n",
    "        plt.ylim(bottom = -0.001, top=0.02) # zoom in on the lower gradient regions\n",
    "        plt.xlabel(\"Layers\")\n",
    "        plt.ylabel(\"average gradient\")\n",
    "        plt.title(\"Gradient flow\")\n",
    "        plt.grid(True)\n",
    "        plt.legend([matplotlib.lines.Line2D([0], [0], color=\"c\", lw=4),\n",
    "                matplotlib.lines.Line2D([0], [0], color=\"b\", lw=4),\n",
    "                matplotlib.lines.Line2D([0], [0], color=\"k\", lw=4)], ['max-gradient', 'mean-gradient', 'zero-gradient'])\n",
    "        plt.show()\n",
    "        \n",
    "    def pixel_flow(self, flow, img):\n",
    "        flow_copy = flow.clone().detach().cpu().long().permute(0, 2, 3, 1)\n",
    "        B, C, H, W = img.size()\n",
    "        next_img = torch.zeros(img.shape).cuda()\n",
    "        for h in range(H):\n",
    "            for w in range(W):\n",
    "                res_h = h + flow_copy[0,h,w,0]\n",
    "                res_w = w + flow_copy[0,h,w,1]\n",
    "                if res_h < 0:\n",
    "                    res_h = 0\n",
    "                elif res_h > H-1:\n",
    "                    res_h = H-1\n",
    "                if res_w < 0:\n",
    "                    res_w = 0\n",
    "                elif res_w > W-1:\n",
    "                    res_w = W-1\n",
    "                next_img[:,:,res_h,res_w] = img[:,:,h,w]\n",
    "        return next_img\n",
    "        \n",
    "    def eval_metric(self, O_1, O_2, flow, mask):\n",
    "        R_2 = self.pixel_flow(flow, O_1)\n",
    "        Estab = torch.sum(mask * (O_2 - R_2) * (O_2 - R_2))\n",
    "        return Estab\n",
    "    \n",
    "    def cohe_loss(self, O_2, S_1, flow, mask):\n",
    "        R_2 = self.pixel_flow(flow, S_1)\n",
    "        L_cohe = torch.sum(mask * (O_2 - R_2) * (O_2 - R_2))\n",
    "        print (self.alpha*L_cohe)\n",
    "        return L_cohe\n",
    "    \n",
    "    def occ_loss(self, O_2, S_2, mask):\n",
    "        L_occ = torch.sum((1-mask) * (O_2 - S_2) * (O_2 - S_2))\n",
    "        print (self.beta*L_occ)\n",
    "        return L_occ\n",
    "        \n",
    "    def flow_loss(self, F_est, flow):\n",
    "        F_down = F.interpolate(flow, F_est.size()[-2:], mode='bilinear')\n",
    "        L_flow = torch.sum((F_est-F_down) * (F_est-F_down))\n",
    "        print (self.gamma*L_flow)\n",
    "        return L_flow\n",
    "        \n",
    "    def train(self, train_loader):\n",
    "        self.alpha = 1e-6\n",
    "        self.beta = 2e-7\n",
    "        self.gamma = 5e-5\n",
    "        self.train_records = []\n",
    "        for epoch in range(1, self.epoch):\n",
    "            batch = 0\n",
    "            epoch_cohe_loss = 0\n",
    "            epoch_occ_loss = 0\n",
    "            epoch_flow_loss = 0\n",
    "            epoch_total_loss = 0\n",
    "            \n",
    "            for Img, flow, mask in tqdm(train_loader):\n",
    "                batch+=1\n",
    "                Img = Img.cuda()\n",
    "                flow = flow.cuda()\n",
    "                mask = mask.type(torch.FloatTensor).cuda()\n",
    "                #print(flow.shape)\n",
    "                #print(mask.shape)\n",
    "                temp_1 = util.get_colorization_data(Img[:,:,0,:,:].unsqueeze(0),self.model.opt)\n",
    "                I_1 = temp_1['A'].unsqueeze(1)\n",
    "                S_1 = temp_1['B']\n",
    "                I_1 = I_1.repeat(1,3,1,1,1)\n",
    "                temp_2 = util.get_colorization_data(Img[:,:,1,:,:].unsqueeze(0),self.model.opt)\n",
    "                I_2 = temp_2['A'].unsqueeze(1)\n",
    "                S_2 = temp_2['B']\n",
    "                I_2 = I_2.repeat(1,3,1,1,1)\n",
    "                inp = torch.cat((I_1,I_2), dim=2)\n",
    "                self.optimizer_flow.zero_grad()\n",
    "#                 self.optimizer_G.zero_grad()\n",
    "                self.optimizer_mask.zero_grad()\n",
    "                O_2, F_est = self.model([temp_1,temp_2],inp)\n",
    "                #print(F_est.shape)\n",
    "                \n",
    "                lcohe = self.alpha*self.cohe_loss(O_2,S_1,flow,mask)\n",
    "                locc = self.beta*self.occ_loss(O_2,S_2,mask)\n",
    "                lflow = self.gamma*self.flow_loss(F_est,flow)\n",
    "                loss = lcohe+locc+lflow\n",
    "                epoch_cohe_loss+=lcohe.cpu().item()\n",
    "                epoch_occ_loss+=locc.cpu().item()\n",
    "                epoch_flow_loss+=lflow.cpu().item()\n",
    "                epoch_total_loss+=loss.cpu().item()\n",
    "                \n",
    "                print(batch, loss)\n",
    "                print(epoch_cohe_loss / batch, epoch_occ_loss / batch, epoch_flow_loss / batch, epoch_total_loss / batch)\n",
    "                loss.backward()\n",
    "                self.optimizer_flow.step()\n",
    "                #self.optimizer_G.step()\n",
    "                self.optimizer_mask.step()\n",
    "                del Img\n",
    "                del flow\n",
    "                del mask\n",
    "            \n",
    "            print ('epoch_cohe_loss', epoch_cohe_loss/batch)\n",
    "            print ('epoch_occ_loss', epoch_occ_loss/batch)\n",
    "            print ('epoch_flow_loss', epoch_flow_loss/batch)\n",
    "            print ('epoch_total_loss', epoch_total_loss/batch)\n",
    "            self.train_records.append([epoch_cohe_loss/batch, epoch_occ_loss/batch, epoch_flow_loss/batch, epoch_total_loss/batch])\n",
    "            \n",
    "    \n",
    "    def inference(self, video, ground_true = True):\n",
    "        self.model.eval()\n",
    "        video = video.cuda()\n",
    "        frame_1 = video[0]\n",
    "        temp_1 = util.get_colorization_data(frame_1.unsqueeze(0),self.model.opt)\n",
    "        I_1 = temp_1['A'].unsqueeze(1)\n",
    "        I_1 = I_1.repeat(1,3,1,1,1)\n",
    "        S_1 = temp_1['B']\n",
    "        res = [S_1]\n",
    "        F_1 = None\n",
    "        for i in range(1,len(video)):\n",
    "            frame_2 = video[i]\n",
    "            temp_2 = util.get_colorization_data(frame_2.unsqueeze(0),self.model.opt)\n",
    "            I_2 = temp_2['A'].unsqueeze(1)\n",
    "            S_2 = temp_2['B']\n",
    "            I_2 = I_2.repeat(1,3,1,1,1)\n",
    "            inp = torch.cat((I_1,I_2), dim=2)\n",
    "            O_2, F_est, F_1 = self.model.infer_forward([temp_1,temp_2],inp, F_1)\n",
    "            res.append(O_2)\n",
    "            I_1 = I_2\n",
    "            temp_1 = temp_2\n",
    "        return res"
   ]
  },
  {
   "cell_type": "code",
   "execution_count": null,
   "metadata": {},
   "outputs": [
    {
     "name": "stderr",
     "output_type": "stream",
     "text": [
      "  0%|          | 0/131 [00:00<?, ?it/s]/opt/anaconda3/lib/python3.7/site-packages/torch/nn/modules/upsampling.py:129: UserWarning: nn.Upsample is deprecated. Use nn.functional.interpolate instead.\n",
      "  warnings.warn(\"nn.{} is deprecated. Use nn.functional.interpolate instead.\".format(self.name))\n",
      "/opt/anaconda3/lib/python3.7/site-packages/torch/nn/functional.py:2423: UserWarning: Default upsampling behavior when mode=bilinear is changed to align_corners=False since 0.4.0. Please specify align_corners=True if the old behavior is desired. See the documentation of nn.Upsample for details.\n",
      "  \"See the documentation of nn.Upsample for details.\".format(mode))\n"
     ]
    },
    {
     "name": "stdout",
     "output_type": "stream",
     "text": [
      "tensor(15.2375, device='cuda:0', grad_fn=<MulBackward0>)\n",
      "tensor(34.6163, device='cuda:0', grad_fn=<MulBackward0>)\n",
      "tensor(21.0131, device='cuda:0', grad_fn=<MulBackward0>)\n",
      "1 tensor(70.8669, device='cuda:0', grad_fn=<AddBackward0>)\n",
      "15.23753833770752 34.616275787353516 21.013059616088867 70.86687469482422\n"
     ]
    },
    {
     "name": "stderr",
     "output_type": "stream",
     "text": [
      "\r",
      "  1%|          | 1/131 [00:27<59:27, 27.44s/it]"
     ]
    },
    {
     "name": "stdout",
     "output_type": "stream",
     "text": [
      "tensor(7.7415, device='cuda:0', grad_fn=<MulBackward0>)\n",
      "tensor(27.2491, device='cuda:0', grad_fn=<MulBackward0>)\n",
      "tensor(171.0027, device='cuda:0', grad_fn=<MulBackward0>)\n",
      "2 tensor(205.9933, device='cuda:0', grad_fn=<AddBackward0>)\n",
      "11.489534378051758 30.932701110839844 96.0078649520874 138.43010330200195\n"
     ]
    },
    {
     "name": "stderr",
     "output_type": "stream",
     "text": [
      "\r",
      "  2%|▏         | 2/131 [00:41<50:20, 23.41s/it]"
     ]
    },
    {
     "name": "stdout",
     "output_type": "stream",
     "text": [
      "tensor(1.4848, device='cuda:0', grad_fn=<MulBackward0>)\n",
      "tensor(23.9902, device='cuda:0', grad_fn=<MulBackward0>)\n",
      "tensor(36.6394, device='cuda:0', grad_fn=<MulBackward0>)\n",
      "3 tensor(62.1143, device='cuda:0', grad_fn=<AddBackward0>)\n",
      "8.154614408810934 28.618526458740234 76.21836535135905 112.99150848388672\n"
     ]
    },
    {
     "name": "stderr",
     "output_type": "stream",
     "text": [
      "\r",
      "  2%|▏         | 3/131 [00:55<43:57, 20.61s/it]"
     ]
    },
    {
     "name": "stdout",
     "output_type": "stream",
     "text": [
      "tensor(1.8226, device='cuda:0', grad_fn=<MulBackward0>)\n",
      "tensor(11.7446, device='cuda:0', grad_fn=<MulBackward0>)\n",
      "tensor(32.1454, device='cuda:0', grad_fn=<MulBackward0>)\n",
      "4 tensor(45.7127, device='cuda:0', grad_fn=<AddBackward0>)\n",
      "6.571610242128372 24.400050163269043 65.20013570785522 96.17179775238037\n"
     ]
    },
    {
     "name": "stderr",
     "output_type": "stream",
     "text": [
      "\r",
      "  3%|▎         | 4/131 [01:09<39:22, 18.60s/it]"
     ]
    },
    {
     "name": "stdout",
     "output_type": "stream",
     "text": [
      "tensor(5.8196, device='cuda:0', grad_fn=<MulBackward0>)\n",
      "tensor(13.1107, device='cuda:0', grad_fn=<MulBackward0>)\n",
      "tensor(214.2243, device='cuda:0', grad_fn=<MulBackward0>)\n",
      "5 tensor(233.1546, device='cuda:0', grad_fn=<AddBackward0>)\n",
      "6.421212792396545 22.142180252075196 95.00496635437011 123.56836166381837\n"
     ]
    },
    {
     "name": "stderr",
     "output_type": "stream",
     "text": [
      "\r",
      "  4%|▍         | 5/131 [01:23<36:11, 17.24s/it]"
     ]
    },
    {
     "name": "stdout",
     "output_type": "stream",
     "text": [
      "tensor(4.3471, device='cuda:0', grad_fn=<MulBackward0>)\n",
      "tensor(27.5862, device='cuda:0', grad_fn=<MulBackward0>)\n",
      "tensor(523.4146, device='cuda:0', grad_fn=<MulBackward0>)\n",
      "6 tensor(555.3479, device='cuda:0', grad_fn=<AddBackward0>)\n",
      "6.075528800487518 23.049512545267742 166.40657393137613 195.53161811828613\n"
     ]
    },
    {
     "name": "stderr",
     "output_type": "stream",
     "text": [
      "\r",
      "  5%|▍         | 6/131 [01:37<33:54, 16.27s/it]"
     ]
    },
    {
     "name": "stdout",
     "output_type": "stream",
     "text": [
      "tensor(1.2412, device='cuda:0', grad_fn=<MulBackward0>)\n",
      "tensor(22.4675, device='cuda:0', grad_fn=<MulBackward0>)\n",
      "tensor(19.8717, device='cuda:0', grad_fn=<MulBackward0>)\n",
      "7 tensor(43.5803, device='cuda:0', grad_fn=<AddBackward0>)\n",
      "5.384908267429897 22.96636390686035 145.47301401410783 173.82428850446428\n"
     ]
    },
    {
     "name": "stderr",
     "output_type": "stream",
     "text": [
      "\r",
      "  5%|▌         | 7/131 [01:51<32:06, 15.53s/it]"
     ]
    },
    {
     "name": "stdout",
     "output_type": "stream",
     "text": [
      "tensor(24.0134, device='cuda:0', grad_fn=<MulBackward0>)\n",
      "tensor(17.4188, device='cuda:0', grad_fn=<MulBackward0>)\n",
      "tensor(1283.6522, device='cuda:0', grad_fn=<MulBackward0>)\n",
      "8 tensor(1325.0844, device='cuda:0', grad_fn=<AddBackward0>)\n",
      "7.713465094566345 22.272912740707397 287.7454149723053 317.73179626464844\n"
     ]
    },
    {
     "name": "stderr",
     "output_type": "stream",
     "text": [
      "\r",
      "  6%|▌         | 8/131 [02:05<30:47, 15.02s/it]"
     ]
    },
    {
     "name": "stdout",
     "output_type": "stream",
     "text": [
      "tensor(3.9535, device='cuda:0', grad_fn=<MulBackward0>)\n",
      "tensor(22.1513, device='cuda:0', grad_fn=<MulBackward0>)\n",
      "tensor(6.5578, device='cuda:0', grad_fn=<MulBackward0>)\n",
      "9 tensor(32.6625, device='cuda:0', grad_fn=<AddBackward0>)\n",
      "7.295690536499023 22.259396235148113 256.50234174728394 286.0574315388997\n"
     ]
    },
    {
     "name": "stderr",
     "output_type": "stream",
     "text": [
      "\r",
      "  7%|▋         | 9/131 [02:19<29:57, 14.73s/it]"
     ]
    }
   ],
   "source": [
    "debug = debug.cuda()\n",
    "solv = solver(debug)\n",
    "solv.train(train_loader)"
   ]
  },
  {
   "cell_type": "code",
   "execution_count": 10,
   "metadata": {},
   "outputs": [
    {
     "data": {
      "text/plain": [
       "[[5.530109718441963, 19.073199218466083, 722.8373375903559, 747.4406480133988],\n",
       " [5.758796557058929, 18.977148990139707, 782.6957028298888, 807.4316489823902]]"
      ]
     },
     "execution_count": 10,
     "metadata": {},
     "output_type": "execute_result"
    }
   ],
   "source": [
    "res = solv.train_records\n",
    "res"
   ]
  },
  {
   "cell_type": "code",
   "execution_count": 11,
   "metadata": {},
   "outputs": [
    {
     "name": "stderr",
     "output_type": "stream",
     "text": [
      "\n",
      "  0%|          | 0/131 [00:00<?, ?it/s]\u001b[A"
     ]
    },
    {
     "name": "stdout",
     "output_type": "stream",
     "text": [
      "tensor(2.6681, device='cuda:0', grad_fn=<MulBackward0>)\n",
      "tensor(5.7897, device='cuda:0', grad_fn=<MulBackward0>)\n",
      "tensor(885.6094, device='cuda:0', grad_fn=<MulBackward0>)\n",
      "1 tensor(894.0672, device='cuda:0', grad_fn=<AddBackward0>)\n",
      "2.668130874633789 5.789722919464111 885.609375 894.0671997070312\n"
     ]
    },
    {
     "name": "stderr",
     "output_type": "stream",
     "text": [
      "\n",
      "  1%|          | 1/131 [00:10<23:47, 10.98s/it]\u001b[A"
     ]
    },
    {
     "name": "stdout",
     "output_type": "stream",
     "text": [
      "tensor(4.9545, device='cuda:0', grad_fn=<MulBackward0>)\n",
      "tensor(17.8664, device='cuda:0', grad_fn=<MulBackward0>)\n",
      "tensor(676.7277, device='cuda:0', grad_fn=<MulBackward0>)\n",
      "2 tensor(699.5486, device='cuda:0', grad_fn=<AddBackward0>)\n",
      "3.8113224506378174 11.82807469367981 781.1685180664062 796.8078918457031\n"
     ]
    },
    {
     "name": "stderr",
     "output_type": "stream",
     "text": [
      "\n",
      "  2%|▏         | 2/131 [00:21<23:12, 10.79s/it]\u001b[A"
     ]
    },
    {
     "name": "stdout",
     "output_type": "stream",
     "text": [
      "tensor(3.8585, device='cuda:0', grad_fn=<MulBackward0>)\n",
      "tensor(17.7309, device='cuda:0', grad_fn=<MulBackward0>)\n",
      "tensor(180.2686, device='cuda:0', grad_fn=<MulBackward0>)\n",
      "3 tensor(201.8580, device='cuda:0', grad_fn=<AddBackward0>)\n",
      "3.827054500579834 13.795676708221436 580.8685353597006 598.4912516276041\n"
     ]
    },
    {
     "name": "stderr",
     "output_type": "stream",
     "text": [
      "\n",
      "  2%|▏         | 3/131 [00:31<22:45, 10.67s/it]\u001b[A"
     ]
    },
    {
     "name": "stdout",
     "output_type": "stream",
     "text": [
      "tensor(4.3011, device='cuda:0', grad_fn=<MulBackward0>)\n",
      "tensor(9.8341, device='cuda:0', grad_fn=<MulBackward0>)\n",
      "tensor(1773.5343, device='cuda:0', grad_fn=<MulBackward0>)\n",
      "4 tensor(1787.6696, device='cuda:0', grad_fn=<AddBackward0>)\n",
      "3.9455591440200806 12.805290818214417 879.0349769592285 895.7858276367188\n"
     ]
    },
    {
     "name": "stderr",
     "output_type": "stream",
     "text": [
      "\n",
      "  3%|▎         | 4/131 [00:41<22:20, 10.55s/it]\u001b[A"
     ]
    },
    {
     "name": "stdout",
     "output_type": "stream",
     "text": [
      "tensor(3.6295, device='cuda:0', grad_fn=<MulBackward0>)\n",
      "tensor(33.4544, device='cuda:0', grad_fn=<MulBackward0>)\n",
      "tensor(11.3909, device='cuda:0', grad_fn=<MulBackward0>)\n",
      "5 tensor(48.4748, device='cuda:0', grad_fn=<AddBackward0>)\n",
      "3.882348823547363 16.935112476348877 705.5061677932739 726.3236297607422\n"
     ]
    },
    {
     "name": "stderr",
     "output_type": "stream",
     "text": [
      "\n",
      "  4%|▍         | 5/131 [00:52<22:15, 10.60s/it]\u001b[A"
     ]
    },
    {
     "name": "stdout",
     "output_type": "stream",
     "text": [
      "tensor(8.1107, device='cuda:0', grad_fn=<MulBackward0>)\n",
      "tensor(7.6817, device='cuda:0', grad_fn=<MulBackward0>)\n",
      "tensor(572.5240, device='cuda:0', grad_fn=<MulBackward0>)\n",
      "6 tensor(588.3165, device='cuda:0', grad_fn=<AddBackward0>)\n",
      "4.587075233459473 15.392881472905477 683.342481136322 703.3224360148112\n"
     ]
    },
    {
     "name": "stderr",
     "output_type": "stream",
     "text": [
      "\n",
      "  5%|▍         | 6/131 [01:03<22:08, 10.63s/it]\u001b[A"
     ]
    },
    {
     "name": "stdout",
     "output_type": "stream",
     "text": [
      "tensor(8.3239, device='cuda:0', grad_fn=<MulBackward0>)\n",
      "tensor(37.7600, device='cuda:0', grad_fn=<MulBackward0>)\n",
      "tensor(2116.4429, device='cuda:0', grad_fn=<MulBackward0>)\n",
      "7 tensor(2162.5269, device='cuda:0', grad_fn=<AddBackward0>)\n",
      "5.120904241289411 18.588184424809047 888.0711082730975 911.7802102225168\n"
     ]
    },
    {
     "name": "stderr",
     "output_type": "stream",
     "text": [
      "\n",
      "  5%|▌         | 7/131 [01:13<21:50, 10.57s/it]\u001b[A"
     ]
    },
    {
     "name": "stdout",
     "output_type": "stream",
     "text": [
      "tensor(6.2055, device='cuda:0', grad_fn=<MulBackward0>)\n",
      "tensor(16.5246, device='cuda:0', grad_fn=<MulBackward0>)\n",
      "tensor(982.3943, device='cuda:0', grad_fn=<MulBackward0>)\n",
      "8 tensor(1005.1244, device='cuda:0', grad_fn=<AddBackward0>)\n",
      "5.2564839124679565 18.330235302448273 899.8615056276321 923.4482326507568\n"
     ]
    },
    {
     "name": "stderr",
     "output_type": "stream",
     "text": [
      "\n",
      "  6%|▌         | 8/131 [01:24<21:30, 10.49s/it]\u001b[A"
     ]
    },
    {
     "name": "stdout",
     "output_type": "stream",
     "text": [
      "tensor(3.1556, device='cuda:0', grad_fn=<MulBackward0>)\n",
      "tensor(21.0916, device='cuda:0', grad_fn=<MulBackward0>)\n",
      "tensor(1731.7340, device='cuda:0', grad_fn=<MulBackward0>)\n",
      "9 tensor(1755.9812, device='cuda:0', grad_fn=<AddBackward0>)\n",
      "5.0230569574568005 18.637052800920273 992.2917837566799 1015.95189581977\n"
     ]
    },
    {
     "name": "stderr",
     "output_type": "stream",
     "text": [
      "\n",
      "  7%|▋         | 9/131 [01:34<21:16, 10.46s/it]\u001b[A"
     ]
    },
    {
     "name": "stdout",
     "output_type": "stream",
     "text": [
      "tensor(1.5212, device='cuda:0', grad_fn=<MulBackward0>)\n",
      "tensor(13.0819, device='cuda:0', grad_fn=<MulBackward0>)\n",
      "tensor(475.0908, device='cuda:0', grad_fn=<MulBackward0>)\n",
      "10 tensor(489.6939, device='cuda:0', grad_fn=<AddBackward0>)\n",
      "4.672869884967804 18.081538057327272 940.5716843605042 963.3260940551758\n"
     ]
    },
    {
     "name": "stderr",
     "output_type": "stream",
     "text": [
      "\n",
      "  8%|▊         | 10/131 [01:44<21:00, 10.42s/it]\u001b[A"
     ]
    },
    {
     "name": "stdout",
     "output_type": "stream",
     "text": [
      "tensor(9.1938, device='cuda:0', grad_fn=<MulBackward0>)\n",
      "tensor(27.0940, device='cuda:0', grad_fn=<MulBackward0>)\n",
      "tensor(952.7396, device='cuda:0', grad_fn=<MulBackward0>)\n",
      "11 tensor(989.0274, device='cuda:0', grad_fn=<AddBackward0>)\n",
      "5.083865523338318 18.900855194438588 941.6778551448475 965.6625768488103\n"
     ]
    },
    {
     "name": "stderr",
     "output_type": "stream",
     "text": [
      "\n",
      "  8%|▊         | 11/131 [01:55<20:48, 10.41s/it]\u001b[A"
     ]
    },
    {
     "name": "stdout",
     "output_type": "stream",
     "text": [
      "tensor(0.7565, device='cuda:0', grad_fn=<MulBackward0>)\n",
      "tensor(11.1726, device='cuda:0', grad_fn=<MulBackward0>)\n",
      "tensor(97.1381, device='cuda:0', grad_fn=<MulBackward0>)\n",
      "12 tensor(109.0672, device='cuda:0', grad_fn=<AddBackward0>)\n",
      "4.723252832889557 18.256831685702007 871.2995453675588 894.2796306610107\n"
     ]
    },
    {
     "name": "stderr",
     "output_type": "stream",
     "text": [
      "\n",
      "  9%|▉         | 12/131 [02:05<20:38, 10.41s/it]\u001b[A"
     ]
    },
    {
     "name": "stdout",
     "output_type": "stream",
     "text": [
      "tensor(4.2445, device='cuda:0', grad_fn=<MulBackward0>)\n",
      "tensor(23.6469, device='cuda:0', grad_fn=<MulBackward0>)\n",
      "tensor(392.0740, device='cuda:0', grad_fn=<MulBackward0>)\n",
      "13 tensor(419.9655, device='cuda:0', grad_fn=<AddBackward0>)\n",
      "4.686426731256338 18.671454979823185 834.4360422721276 857.7939247718224\n"
     ]
    },
    {
     "name": "stderr",
     "output_type": "stream",
     "text": [
      "\n",
      " 10%|▉         | 13/131 [02:16<20:29, 10.42s/it]\u001b[A"
     ]
    },
    {
     "name": "stdout",
     "output_type": "stream",
     "text": [
      "tensor(6.1173, device='cuda:0', grad_fn=<MulBackward0>)\n",
      "tensor(16.4458, device='cuda:0', grad_fn=<MulBackward0>)\n",
      "tensor(972.0526, device='cuda:0', grad_fn=<MulBackward0>)\n",
      "14 tensor(994.6156, device='cuda:0', grad_fn=<AddBackward0>)\n",
      "4.788631524358477 18.51247831753322 844.2657929147992 867.5669016156878\n"
     ]
    },
    {
     "name": "stderr",
     "output_type": "stream",
     "text": [
      "\n",
      " 11%|█         | 14/131 [02:26<20:19, 10.43s/it]\u001b[A"
     ]
    },
    {
     "name": "stdout",
     "output_type": "stream",
     "text": [
      "tensor(3.4282, device='cuda:0', grad_fn=<MulBackward0>)\n",
      "tensor(21.3973, device='cuda:0', grad_fn=<MulBackward0>)\n",
      "tensor(40.8855, device='cuda:0', grad_fn=<MulBackward0>)\n",
      "15 tensor(65.7111, device='cuda:0', grad_fn=<AddBackward0>)\n",
      "4.697937027613322 18.70480057398478 790.7071083704631 814.1098449707031\n"
     ]
    },
    {
     "name": "stderr",
     "output_type": "stream",
     "text": [
      "\n",
      " 11%|█▏        | 15/131 [02:37<20:14, 10.47s/it]\u001b[A"
     ]
    },
    {
     "name": "stdout",
     "output_type": "stream",
     "text": [
      "tensor(8.8621, device='cuda:0', grad_fn=<MulBackward0>)\n",
      "tensor(15.9994, device='cuda:0', grad_fn=<MulBackward0>)\n",
      "tensor(4015.4055, device='cuda:0', grad_fn=<MulBackward0>)\n",
      "16 tensor(4040.2671, device='cuda:0', grad_fn=<AddBackward0>)\n",
      "4.958199694752693 18.535715132951736 992.2507589459419 1015.7446727752686\n"
     ]
    },
    {
     "name": "stderr",
     "output_type": "stream",
     "text": [
      "\n",
      " 12%|█▏        | 16/131 [02:47<20:10, 10.52s/it]\u001b[A"
     ]
    },
    {
     "name": "stdout",
     "output_type": "stream",
     "text": [
      "tensor(3.7173, device='cuda:0', grad_fn=<MulBackward0>)\n",
      "tensor(26.9482, device='cuda:0', grad_fn=<MulBackward0>)\n",
      "tensor(371.3974, device='cuda:0', grad_fn=<MulBackward0>)\n",
      "17 tensor(402.0630, device='cuda:0', grad_fn=<AddBackward0>)\n",
      "4.885207596947165 19.030569777769202 955.7299749149996 979.645751953125\n"
     ]
    },
    {
     "name": "stderr",
     "output_type": "stream",
     "text": [
      "\n",
      " 13%|█▎        | 17/131 [02:57<19:48, 10.42s/it]\u001b[A"
     ]
    },
    {
     "name": "stdout",
     "output_type": "stream",
     "text": [
      "tensor(5.0899, device='cuda:0', grad_fn=<MulBackward0>)\n",
      "tensor(9.3282, device='cuda:0', grad_fn=<MulBackward0>)\n",
      "tensor(1473.6071, device='cuda:0', grad_fn=<MulBackward0>)\n",
      "18 tensor(1488.0251, device='cuda:0', grad_fn=<AddBackward0>)\n",
      "4.896581252415975 18.49155004819234 984.500923845503 1007.8890516493055\n"
     ]
    },
    {
     "name": "stderr",
     "output_type": "stream",
     "text": [
      "\n",
      " 14%|█▎        | 18/131 [03:08<19:37, 10.42s/it]\u001b[A"
     ]
    },
    {
     "name": "stdout",
     "output_type": "stream",
     "text": [
      "tensor(2.7126, device='cuda:0', grad_fn=<MulBackward0>)\n",
      "tensor(6.4797, device='cuda:0', grad_fn=<MulBackward0>)\n",
      "tensor(956.1572, device='cuda:0', grad_fn=<MulBackward0>)\n",
      "19 tensor(965.3495, device='cuda:0', grad_fn=<AddBackward0>)\n",
      "4.781636313388222 17.859348899439762 983.0091470919157 1005.6501304224918\n"
     ]
    },
    {
     "name": "stderr",
     "output_type": "stream",
     "text": [
      "\n",
      " 15%|█▍        | 19/131 [03:18<19:27, 10.43s/it]\u001b[A"
     ]
    },
    {
     "name": "stdout",
     "output_type": "stream",
     "text": [
      "tensor(5.2276, device='cuda:0', grad_fn=<MulBackward0>)\n",
      "tensor(16.7596, device='cuda:0', grad_fn=<MulBackward0>)\n",
      "tensor(407.8063, device='cuda:0', grad_fn=<MulBackward0>)\n",
      "20 tensor(429.7935, device='cuda:0', grad_fn=<AddBackward0>)\n",
      "4.80393373966217 17.804363346099855 954.2490065097809 976.8573013305664\n"
     ]
    },
    {
     "name": "stderr",
     "output_type": "stream",
     "text": [
      "\n",
      " 15%|█▌        | 20/131 [03:29<19:21, 10.47s/it]\u001b[A"
     ]
    },
    {
     "name": "stdout",
     "output_type": "stream",
     "text": [
      "tensor(9.7511, device='cuda:0', grad_fn=<MulBackward0>)\n",
      "tensor(22.2101, device='cuda:0', grad_fn=<MulBackward0>)\n",
      "tensor(319.1210, device='cuda:0', grad_fn=<MulBackward0>)\n",
      "21 tensor(351.0822, device='cuda:0', grad_fn=<AddBackward0>)\n",
      "5.0395127932230634 18.01416070120675 924.0048158282325 947.0584876650855\n"
     ]
    },
    {
     "name": "stderr",
     "output_type": "stream",
     "text": [
      "\n",
      " 16%|█▌        | 21/131 [03:40<19:17, 10.52s/it]\u001b[A"
     ]
    },
    {
     "name": "stdout",
     "output_type": "stream",
     "text": [
      "tensor(1.8839, device='cuda:0', grad_fn=<MulBackward0>)\n",
      "tensor(32.8479, device='cuda:0', grad_fn=<MulBackward0>)\n",
      "tensor(56.1629, device='cuda:0', grad_fn=<MulBackward0>)\n",
      "22 tensor(90.8946, device='cuda:0', grad_fn=<AddBackward0>)\n",
      "4.896073785695163 18.688420555808328 884.5574542392384 908.1419469659978\n"
     ]
    },
    {
     "name": "stderr",
     "output_type": "stream",
     "text": [
      "\n",
      " 17%|█▋        | 22/131 [03:50<19:02, 10.48s/it]\u001b[A"
     ]
    },
    {
     "name": "stdout",
     "output_type": "stream",
     "text": [
      "tensor(1.2955, device='cuda:0', grad_fn=<MulBackward0>)\n",
      "tensor(15.9265, device='cuda:0', grad_fn=<MulBackward0>)\n",
      "tensor(483.3569, device='cuda:0', grad_fn=<MulBackward0>)\n",
      "23 tensor(500.5789, device='cuda:0', grad_fn=<AddBackward0>)\n",
      "4.739526831585428 18.568338684413742 867.113950687906 890.421815291695\n"
     ]
    },
    {
     "name": "stderr",
     "output_type": "stream",
     "text": [
      "\n",
      " 18%|█▊        | 23/131 [04:00<18:46, 10.43s/it]\u001b[A"
     ]
    },
    {
     "name": "stdout",
     "output_type": "stream",
     "text": [
      "tensor(15.4283, device='cuda:0', grad_fn=<MulBackward0>)\n",
      "tensor(31.5068, device='cuda:0', grad_fn=<MulBackward0>)\n",
      "tensor(822.8671, device='cuda:0', grad_fn=<MulBackward0>)\n",
      "24 tensor(869.8021, device='cuda:0', grad_fn=<AddBackward0>)\n",
      "5.184890866279602 19.10744082927704 865.2703304688135 889.562661488851\n"
     ]
    },
    {
     "name": "stderr",
     "output_type": "stream",
     "text": [
      "\n",
      " 18%|█▊        | 24/131 [04:11<18:35, 10.42s/it]\u001b[A"
     ]
    },
    {
     "name": "stdout",
     "output_type": "stream",
     "text": [
      "tensor(15.1008, device='cuda:0', grad_fn=<MulBackward0>)\n",
      "tensor(26.2051, device='cuda:0', grad_fn=<MulBackward0>)\n",
      "tensor(156.9471, device='cuda:0', grad_fn=<MulBackward0>)\n",
      "25 tensor(198.2531, device='cuda:0', grad_fn=<AddBackward0>)\n",
      "5.5815277099609375 19.391346702575685 836.9374029922485 861.9102770996094\n"
     ]
    },
    {
     "name": "stderr",
     "output_type": "stream",
     "text": [
      "\n",
      " 19%|█▉        | 25/131 [04:21<18:22, 10.40s/it]\u001b[A"
     ]
    },
    {
     "name": "stdout",
     "output_type": "stream",
     "text": [
      "tensor(2.7754, device='cuda:0', grad_fn=<MulBackward0>)\n",
      "tensor(32.7785, device='cuda:0', grad_fn=<MulBackward0>)\n",
      "tensor(10.8333, device='cuda:0', grad_fn=<MulBackward0>)\n",
      "26 tensor(46.3873, device='cuda:0', grad_fn=<AddBackward0>)\n",
      "5.473600515952477 19.906238372509296 805.1641688713661 830.5440075214093\n"
     ]
    },
    {
     "name": "stderr",
     "output_type": "stream",
     "text": [
      "\n",
      " 20%|█▉        | 26/131 [04:31<18:07, 10.36s/it]\u001b[A"
     ]
    },
    {
     "name": "stdout",
     "output_type": "stream",
     "text": [
      "tensor(1.6914, device='cuda:0', grad_fn=<MulBackward0>)\n",
      "tensor(11.3240, device='cuda:0', grad_fn=<MulBackward0>)\n",
      "tensor(2642.0137, device='cuda:0', grad_fn=<MulBackward0>)\n",
      "27 tensor(2655.0291, device='cuda:0', grad_fn=<AddBackward0>)\n",
      "5.333519666283219 19.58837784661187 873.1956319455747 898.1175277144821\n"
     ]
    },
    {
     "name": "stderr",
     "output_type": "stream",
     "text": [
      "\n",
      " 21%|██        | 27/131 [04:42<17:57, 10.36s/it]\u001b[A"
     ]
    },
    {
     "name": "stdout",
     "output_type": "stream",
     "text": [
      "tensor(3.2250, device='cuda:0', grad_fn=<MulBackward0>)\n",
      "tensor(26.0950, device='cuda:0', grad_fn=<MulBackward0>)\n",
      "tensor(565.9506, device='cuda:0', grad_fn=<MulBackward0>)\n",
      "28 tensor(595.2706, device='cuda:0', grad_fn=<AddBackward0>)\n",
      "5.258215934038162 19.820757184709823 862.2225937162127 887.3015648978097\n"
     ]
    },
    {
     "name": "stderr",
     "output_type": "stream",
     "text": [
      "\n",
      " 21%|██▏       | 28/131 [04:52<17:47, 10.36s/it]\u001b[A"
     ]
    },
    {
     "name": "stdout",
     "output_type": "stream",
     "text": [
      "tensor(1.2805, device='cuda:0', grad_fn=<MulBackward0>)\n",
      "tensor(11.4739, device='cuda:0', grad_fn=<MulBackward0>)\n",
      "tensor(449.7121, device='cuda:0', grad_fn=<MulBackward0>)\n",
      "29 tensor(462.4664, device='cuda:0', grad_fn=<AddBackward0>)\n",
      "5.121052392597856 19.532933136512494 847.9980938352387 872.6520775104391\n"
     ]
    },
    {
     "name": "stderr",
     "output_type": "stream",
     "text": [
      "\n",
      " 22%|██▏       | 29/131 [05:02<17:34, 10.33s/it]\u001b[A"
     ]
    },
    {
     "name": "stdout",
     "output_type": "stream",
     "text": [
      "tensor(2.8730, device='cuda:0', grad_fn=<MulBackward0>)\n",
      "tensor(9.7720, device='cuda:0', grad_fn=<MulBackward0>)\n",
      "tensor(1255.7385, device='cuda:0', grad_fn=<MulBackward0>)\n",
      "30 tensor(1268.3835, device='cuda:0', grad_fn=<AddBackward0>)\n",
      "5.046118597189586 19.207568550109862 861.5894415537516 885.8431264241536\n"
     ]
    },
    {
     "name": "stderr",
     "output_type": "stream",
     "text": [
      "\n",
      " 23%|██▎       | 30/131 [05:13<17:23, 10.33s/it]\u001b[A"
     ]
    },
    {
     "name": "stdout",
     "output_type": "stream",
     "text": [
      "tensor(1.8699, device='cuda:0', grad_fn=<MulBackward0>)\n",
      "tensor(23.3863, device='cuda:0', grad_fn=<MulBackward0>)\n",
      "tensor(25.5508, device='cuda:0', grad_fn=<MulBackward0>)\n",
      "31 tensor(50.8070, device='cuda:0', grad_fn=<AddBackward0>)\n",
      "4.943660489974484 19.3423649572557 834.6204540498795 858.9064772821242\n"
     ]
    },
    {
     "name": "stderr",
     "output_type": "stream",
     "text": [
      "\n",
      " 24%|██▎       | 31/131 [05:23<17:15, 10.35s/it]\u001b[A"
     ]
    },
    {
     "name": "stdout",
     "output_type": "stream",
     "text": [
      "tensor(4.9358, device='cuda:0', grad_fn=<MulBackward0>)\n",
      "tensor(23.3910, device='cuda:0', grad_fn=<MulBackward0>)\n",
      "tensor(73.2097, device='cuda:0', grad_fn=<MulBackward0>)\n",
      "32 tensor(101.5365, device='cuda:0', grad_fn=<AddBackward0>)\n",
      "4.9434153735637665 19.46888494491577 810.8263675570488 835.2386656999588\n"
     ]
    },
    {
     "name": "stderr",
     "output_type": "stream",
     "text": [
      "\n",
      " 24%|██▍       | 32/131 [05:33<17:05, 10.36s/it]\u001b[A"
     ]
    },
    {
     "name": "stdout",
     "output_type": "stream",
     "text": [
      "tensor(1.3078, device='cuda:0', grad_fn=<MulBackward0>)\n",
      "tensor(7.1314, device='cuda:0', grad_fn=<MulBackward0>)\n",
      "tensor(178.6922, device='cuda:0', grad_fn=<MulBackward0>)\n",
      "33 tensor(187.1314, device='cuda:0', grad_fn=<AddBackward0>)\n",
      "4.833245161807898 19.09502312631318 791.6707862507213 815.5990523136023\n"
     ]
    },
    {
     "name": "stderr",
     "output_type": "stream",
     "text": [
      "\n",
      " 25%|██▌       | 33/131 [05:44<16:54, 10.35s/it]\u001b[A"
     ]
    },
    {
     "name": "stdout",
     "output_type": "stream",
     "text": [
      "tensor(10.4893, device='cuda:0', grad_fn=<MulBackward0>)\n",
      "tensor(20.4400, device='cuda:0', grad_fn=<MulBackward0>)\n",
      "tensor(857.8430, device='cuda:0', grad_fn=<MulBackward0>)\n",
      "34 tensor(888.7723, device='cuda:0', grad_fn=<AddBackward0>)\n",
      "4.999600354362936 19.134580780478085 793.6170265534345 817.7512060053208\n"
     ]
    },
    {
     "name": "stderr",
     "output_type": "stream",
     "text": [
      "\n",
      " 26%|██▌       | 34/131 [05:54<16:45, 10.37s/it]\u001b[A"
     ]
    },
    {
     "name": "stdout",
     "output_type": "stream",
     "text": [
      "tensor(5.4828, device='cuda:0', grad_fn=<MulBackward0>)\n",
      "tensor(19.3597, device='cuda:0', grad_fn=<MulBackward0>)\n",
      "tensor(66.3957, device='cuda:0', grad_fn=<MulBackward0>)\n",
      "35 tensor(91.2382, device='cuda:0', grad_fn=<AddBackward0>)\n",
      "5.0134068352835515 19.141012573242186 772.8392738887242 796.9936916896276\n"
     ]
    },
    {
     "name": "stderr",
     "output_type": "stream",
     "text": [
      "\n",
      " 27%|██▋       | 35/131 [06:05<16:39, 10.41s/it]\u001b[A"
     ]
    },
    {
     "name": "stdout",
     "output_type": "stream",
     "text": [
      "tensor(4.5564, device='cuda:0', grad_fn=<MulBackward0>)\n",
      "tensor(27.6318, device='cuda:0', grad_fn=<MulBackward0>)\n",
      "tensor(658.5116, device='cuda:0', grad_fn=<MulBackward0>)\n",
      "36 tensor(690.6998, device='cuda:0', grad_fn=<AddBackward0>)\n",
      "5.00071218278673 19.376867135365803 769.6635050773621 794.0410827000936\n"
     ]
    },
    {
     "name": "stderr",
     "output_type": "stream",
     "text": [
      "\n",
      " 27%|██▋       | 36/131 [06:15<16:25, 10.37s/it]\u001b[A"
     ]
    },
    {
     "name": "stdout",
     "output_type": "stream",
     "text": [
      "tensor(4.8958, device='cuda:0', grad_fn=<MulBackward0>)\n",
      "tensor(20.4411, device='cuda:0', grad_fn=<MulBackward0>)\n",
      "tensor(114.2083, device='cuda:0', grad_fn=<MulBackward0>)\n",
      "37 tensor(139.5452, device='cuda:0', grad_fn=<AddBackward0>)\n",
      "4.9978765281471045 19.405631039593672 751.9484990609659 776.3520051079828\n"
     ]
    },
    {
     "name": "stderr",
     "output_type": "stream",
     "text": [
      "\n",
      " 28%|██▊       | 37/131 [06:25<16:16, 10.39s/it]\u001b[A"
     ]
    },
    {
     "name": "stdout",
     "output_type": "stream",
     "text": [
      "tensor(1.1103, device='cuda:0', grad_fn=<MulBackward0>)\n",
      "tensor(30.6036, device='cuda:0', grad_fn=<MulBackward0>)\n",
      "tensor(566.0889, device='cuda:0', grad_fn=<MulBackward0>)\n",
      "38 tensor(597.8029, device='cuda:0', grad_fn=<AddBackward0>)\n",
      "4.895572602748871 19.700315375077096 747.0574561169273 771.6533433010703\n"
     ]
    },
    {
     "name": "stderr",
     "output_type": "stream",
     "text": [
      "\n",
      " 29%|██▉       | 38/131 [06:36<16:06, 10.40s/it]\u001b[A"
     ]
    },
    {
     "name": "stdout",
     "output_type": "stream",
     "text": [
      "tensor(0.9112, device='cuda:0', grad_fn=<MulBackward0>)\n",
      "tensor(18.3727, device='cuda:0', grad_fn=<MulBackward0>)\n",
      "tensor(10.1013, device='cuda:0', grad_fn=<MulBackward0>)\n",
      "39 tensor(29.3851, device='cuda:0', grad_fn=<AddBackward0>)\n",
      "4.793409104530628 19.66627292143993 728.1611437675281 752.6208250094683\n"
     ]
    },
    {
     "name": "stderr",
     "output_type": "stream",
     "text": [
      "\n",
      " 30%|██▉       | 39/131 [06:46<15:56, 10.39s/it]\u001b[A"
     ]
    },
    {
     "name": "stdout",
     "output_type": "stream",
     "text": [
      "tensor(4.0408, device='cuda:0', grad_fn=<MulBackward0>)\n",
      "tensor(15.8831, device='cuda:0', grad_fn=<MulBackward0>)\n",
      "tensor(2047.5449, device='cuda:0', grad_fn=<MulBackward0>)\n",
      "40 tensor(2067.4688, device='cuda:0', grad_fn=<AddBackward0>)\n",
      "4.7745928660035135 19.571692371368407 761.1457382202149 785.4920231342315\n"
     ]
    },
    {
     "name": "stderr",
     "output_type": "stream",
     "text": [
      "\n",
      " 31%|███       | 40/131 [06:56<15:44, 10.38s/it]\u001b[A"
     ]
    },
    {
     "name": "stdout",
     "output_type": "stream",
     "text": [
      "tensor(5.0897, device='cuda:0', grad_fn=<MulBackward0>)\n",
      "tensor(17.7587, device='cuda:0', grad_fn=<MulBackward0>)\n",
      "tensor(456.1822, device='cuda:0', grad_fn=<MulBackward0>)\n",
      "41 tensor(479.0306, device='cuda:0', grad_fn=<AddBackward0>)\n",
      "4.782279306795539 19.527472519293063 753.7076028963414 778.017354500003\n"
     ]
    },
    {
     "name": "stderr",
     "output_type": "stream",
     "text": [
      "\n",
      " 31%|███▏      | 41/131 [07:07<15:33, 10.37s/it]\u001b[A"
     ]
    },
    {
     "name": "stdout",
     "output_type": "stream",
     "text": [
      "tensor(14.7171, device='cuda:0', grad_fn=<MulBackward0>)\n",
      "tensor(17.5596, device='cuda:0', grad_fn=<MulBackward0>)\n",
      "tensor(133.0651, device='cuda:0', grad_fn=<MulBackward0>)\n",
      "42 tensor(165.3418, device='cuda:0', grad_fn=<AddBackward0>)\n",
      "5.018821751787549 19.48061788649786 738.9304013933454 763.4298408599127\n"
     ]
    },
    {
     "name": "stderr",
     "output_type": "stream",
     "text": [
      "\n",
      " 32%|███▏      | 42/131 [07:17<15:24, 10.39s/it]\u001b[A"
     ]
    },
    {
     "name": "stdout",
     "output_type": "stream",
     "text": [
      "tensor(9.9323, device='cuda:0', grad_fn=<MulBackward0>)\n",
      "tensor(29.9952, device='cuda:0', grad_fn=<MulBackward0>)\n",
      "tensor(161.8637, device='cuda:0', grad_fn=<MulBackward0>)\n",
      "43 tensor(201.7912, device='cuda:0', grad_fn=<AddBackward0>)\n",
      "5.133089011491731 19.725143299546353 725.5102460994277 750.3684781540272\n"
     ]
    },
    {
     "name": "stderr",
     "output_type": "stream",
     "text": [
      "\n",
      " 33%|███▎      | 43/131 [07:28<15:11, 10.36s/it]\u001b[A"
     ]
    },
    {
     "name": "stdout",
     "output_type": "stream",
     "text": [
      "tensor(14.3816, device='cuda:0', grad_fn=<MulBackward0>)\n",
      "tensor(35.4910, device='cuda:0', grad_fn=<MulBackward0>)\n",
      "tensor(264.5016, device='cuda:0', grad_fn=<MulBackward0>)\n",
      "44 tensor(314.3742, device='cuda:0', grad_fn=<AddBackward0>)\n",
      "5.3432813896374265 20.083459030498158 715.0327772660689 740.4595174355941\n"
     ]
    },
    {
     "name": "stderr",
     "output_type": "stream",
     "text": [
      "\n",
      " 34%|███▎      | 44/131 [07:38<15:01, 10.36s/it]\u001b[A"
     ]
    },
    {
     "name": "stdout",
     "output_type": "stream",
     "text": [
      "tensor(5.6930, device='cuda:0', grad_fn=<MulBackward0>)\n",
      "tensor(11.5960, device='cuda:0', grad_fn=<MulBackward0>)\n",
      "tensor(926.9902, device='cuda:0', grad_fn=<MulBackward0>)\n",
      "45 tensor(944.2792, device='cuda:0', grad_fn=<AddBackward0>)\n",
      "5.35105327102873 19.894848442077638 719.7429416232638 744.9888431549073\n"
     ]
    },
    {
     "name": "stderr",
     "output_type": "stream",
     "text": [
      "\n",
      " 34%|███▍      | 45/131 [07:48<14:51, 10.36s/it]\u001b[A"
     ]
    },
    {
     "name": "stdout",
     "output_type": "stream",
     "text": [
      "tensor(5.0348, device='cuda:0', grad_fn=<MulBackward0>)\n",
      "tensor(26.9282, device='cuda:0', grad_fn=<MulBackward0>)\n",
      "tensor(31.7082, device='cuda:0', grad_fn=<MulBackward0>)\n",
      "46 tensor(63.6712, device='cuda:0', grad_fn=<AddBackward0>)\n",
      "5.344179040711859 20.047747922980268 704.785663853521 730.1775906189629\n"
     ]
    },
    {
     "name": "stderr",
     "output_type": "stream",
     "text": [
      "\n",
      " 35%|███▌      | 46/131 [07:59<14:39, 10.35s/it]\u001b[A"
     ]
    },
    {
     "name": "stdout",
     "output_type": "stream",
     "text": [
      "tensor(3.7141, device='cuda:0', grad_fn=<MulBackward0>)\n",
      "tensor(30.1407, device='cuda:0', grad_fn=<MulBackward0>)\n",
      "tensor(117.7932, device='cuda:0', grad_fn=<MulBackward0>)\n",
      "47 tensor(151.6480, device='cuda:0', grad_fn=<AddBackward0>)\n",
      "5.309497088827985 20.262491408814775 692.2964616329112 717.8684499618855\n"
     ]
    },
    {
     "name": "stderr",
     "output_type": "stream",
     "text": [
      "\n",
      " 36%|███▌      | 47/131 [08:09<14:31, 10.37s/it]\u001b[A"
     ]
    },
    {
     "name": "stdout",
     "output_type": "stream",
     "text": [
      "tensor(2.9308, device='cuda:0', grad_fn=<MulBackward0>)\n",
      "tensor(16.1378, device='cuda:0', grad_fn=<MulBackward0>)\n",
      "tensor(706.3418, device='cuda:0', grad_fn=<MulBackward0>)\n",
      "48 tensor(725.4103, device='cuda:0', grad_fn=<AddBackward0>)\n",
      "5.259940709918737 20.17655982573827 692.5890727837881 718.0255726575851\n"
     ]
    },
    {
     "name": "stderr",
     "output_type": "stream",
     "text": [
      "\n",
      " 37%|███▋      | 48/131 [08:19<14:19, 10.35s/it]\u001b[A"
     ]
    },
    {
     "name": "stdout",
     "output_type": "stream",
     "text": [
      "tensor(7.1616, device='cuda:0', grad_fn=<MulBackward0>)\n",
      "tensor(22.7467, device='cuda:0', grad_fn=<MulBackward0>)\n",
      "tensor(165.9919, device='cuda:0', grad_fn=<MulBackward0>)\n",
      "49 tensor(195.9001, device='cuda:0', grad_fn=<AddBackward0>)\n",
      "5.298749628115673 20.229010971225037 681.8421913458377 707.3699514038709\n"
     ]
    },
    {
     "name": "stderr",
     "output_type": "stream",
     "text": [
      "\n",
      " 37%|███▋      | 49/131 [08:30<14:11, 10.39s/it]\u001b[A"
     ]
    },
    {
     "name": "stdout",
     "output_type": "stream",
     "text": [
      "tensor(3.1901, device='cuda:0', grad_fn=<MulBackward0>)\n",
      "tensor(10.5101, device='cuda:0', grad_fn=<MulBackward0>)\n",
      "tensor(768.6978, device='cuda:0', grad_fn=<MulBackward0>)\n",
      "50 tensor(782.3980, device='cuda:0', grad_fn=<AddBackward0>)\n",
      "5.256576806306839 20.034632873535156 683.5793038177491 708.8705125808716\n"
     ]
    },
    {
     "name": "stderr",
     "output_type": "stream",
     "text": [
      "\n",
      " 38%|███▊      | 50/131 [08:41<14:10, 10.50s/it]\u001b[A"
     ]
    },
    {
     "name": "stdout",
     "output_type": "stream",
     "text": [
      "tensor(3.6111, device='cuda:0', grad_fn=<MulBackward0>)\n",
      "tensor(18.1421, device='cuda:0', grad_fn=<MulBackward0>)\n",
      "tensor(145.0725, device='cuda:0', grad_fn=<MulBackward0>)\n",
      "51 tensor(166.8257, device='cuda:0', grad_fn=<AddBackward0>)\n",
      "5.224313330416586 19.9975248224595 673.0203461740531 698.2421834983078\n"
     ]
    },
    {
     "name": "stderr",
     "output_type": "stream",
     "text": [
      "\n",
      " 39%|███▉      | 51/131 [08:51<13:57, 10.47s/it]\u001b[A"
     ]
    },
    {
     "name": "stdout",
     "output_type": "stream",
     "text": [
      "tensor(2.0043, device='cuda:0', grad_fn=<MulBackward0>)\n",
      "tensor(23.3582, device='cuda:0', grad_fn=<MulBackward0>)\n",
      "tensor(150.9516, device='cuda:0', grad_fn=<MulBackward0>)\n",
      "52 tensor(176.3140, device='cuda:0', grad_fn=<AddBackward0>)\n",
      "5.162389614261114 20.062153045947735 662.980561696566 688.2051035440885\n"
     ]
    },
    {
     "name": "stderr",
     "output_type": "stream",
     "text": [
      "\n",
      " 40%|███▉      | 52/131 [09:01<13:45, 10.45s/it]\u001b[A"
     ]
    },
    {
     "name": "stdout",
     "output_type": "stream",
     "text": [
      "tensor(15.7084, device='cuda:0', grad_fn=<MulBackward0>)\n",
      "tensor(33.5820, device='cuda:0', grad_fn=<MulBackward0>)\n",
      "tensor(821.4668, device='cuda:0', grad_fn=<MulBackward0>)\n",
      "53 tensor(870.7571, device='cuda:0', grad_fn=<AddBackward0>)\n",
      "5.361370596120942 20.317244151853167 665.9708680206875 691.6494816114317\n"
     ]
    },
    {
     "name": "stderr",
     "output_type": "stream",
     "text": [
      "\n",
      " 40%|████      | 53/131 [09:12<13:35, 10.46s/it]\u001b[A"
     ]
    },
    {
     "name": "stdout",
     "output_type": "stream",
     "text": [
      "tensor(2.1383, device='cuda:0', grad_fn=<MulBackward0>)\n",
      "tensor(30.9047, device='cuda:0', grad_fn=<MulBackward0>)\n",
      "tensor(24.1384, device='cuda:0', grad_fn=<MulBackward0>)\n",
      "54 tensor(57.1814, device='cuda:0', grad_fn=<AddBackward0>)\n",
      "5.301683422591951 20.513308419121635 654.0850819481743 679.9000726275974\n"
     ]
    },
    {
     "name": "stderr",
     "output_type": "stream",
     "text": [
      "\n",
      " 41%|████      | 54/131 [09:22<13:25, 10.46s/it]\u001b[A"
     ]
    },
    {
     "name": "stdout",
     "output_type": "stream",
     "text": [
      "tensor(3.1673, device='cuda:0', grad_fn=<MulBackward0>)\n",
      "tensor(5.4031, device='cuda:0', grad_fn=<MulBackward0>)\n",
      "tensor(236.7621, device='cuda:0', grad_fn=<MulBackward0>)\n",
      "55 tensor(245.3325, device='cuda:0', grad_fn=<AddBackward0>)\n",
      "5.26287564906207 20.238577339865945 646.4973913712935 671.9988432797519\n"
     ]
    },
    {
     "name": "stderr",
     "output_type": "stream",
     "text": [
      "\n",
      " 42%|████▏     | 55/131 [09:33<13:13, 10.44s/it]\u001b[A"
     ]
    },
    {
     "name": "stdout",
     "output_type": "stream",
     "text": [
      "tensor(6.1379, device='cuda:0', grad_fn=<MulBackward0>)\n",
      "tensor(19.3174, device='cuda:0', grad_fn=<MulBackward0>)\n",
      "tensor(112.6404, device='cuda:0', grad_fn=<MulBackward0>)\n",
      "56 tensor(138.0956, device='cuda:0', grad_fn=<AddBackward0>)\n",
      "5.278500758111477 20.222127028873988 636.9642299243382 662.4648567267826\n"
     ]
    },
    {
     "name": "stderr",
     "output_type": "stream",
     "text": [
      "\n",
      " 43%|████▎     | 56/131 [09:43<13:02, 10.43s/it]\u001b[A"
     ]
    },
    {
     "name": "stdout",
     "output_type": "stream",
     "text": [
      "tensor(2.3211, device='cuda:0', grad_fn=<MulBackward0>)\n",
      "tensor(15.8343, device='cuda:0', grad_fn=<MulBackward0>)\n",
      "tensor(15.9627, device='cuda:0', grad_fn=<MulBackward0>)\n",
      "57 tensor(34.1181, device='cuda:0', grad_fn=<AddBackward0>)\n",
      "5.226616032290877 20.145148411131743 626.069465637207 651.4412290673507\n"
     ]
    },
    {
     "name": "stderr",
     "output_type": "stream",
     "text": [
      "\n",
      " 44%|████▎     | 57/131 [09:53<12:49, 10.40s/it]\u001b[A"
     ]
    },
    {
     "name": "stdout",
     "output_type": "stream",
     "text": [
      "tensor(7.2750, device='cuda:0', grad_fn=<MulBackward0>)\n",
      "tensor(31.0396, device='cuda:0', grad_fn=<MulBackward0>)\n",
      "tensor(54.0120, device='cuda:0', grad_fn=<MulBackward0>)\n",
      "58 tensor(92.3266, device='cuda:0', grad_fn=<AddBackward0>)\n",
      "5.261933237314224 20.33298339514897 616.206406100043 641.8013216544842\n"
     ]
    },
    {
     "name": "stderr",
     "output_type": "stream",
     "text": [
      "\n",
      " 44%|████▍     | 58/131 [10:04<12:45, 10.49s/it]\u001b[A"
     ]
    },
    {
     "name": "stdout",
     "output_type": "stream",
     "text": [
      "tensor(7.0973, device='cuda:0', grad_fn=<MulBackward0>)\n",
      "tensor(16.4266, device='cuda:0', grad_fn=<MulBackward0>)\n",
      "tensor(313.5248, device='cuda:0', grad_fn=<MulBackward0>)\n",
      "59 tensor(337.0487, device='cuda:0', grad_fn=<AddBackward0>)\n",
      "5.293040923142837 20.26677366030418 611.0762090521343 636.636022567749\n"
     ]
    },
    {
     "name": "stderr",
     "output_type": "stream",
     "text": [
      "\n",
      " 45%|████▌     | 59/131 [10:14<12:30, 10.42s/it]\u001b[A"
     ]
    },
    {
     "name": "stdout",
     "output_type": "stream",
     "text": [
      "tensor(3.9884, device='cuda:0', grad_fn=<MulBackward0>)\n",
      "tensor(18.0231, device='cuda:0', grad_fn=<MulBackward0>)\n",
      "tensor(298.2798, device='cuda:0', grad_fn=<MulBackward0>)\n",
      "60 tensor(320.2913, device='cuda:0', grad_fn=<AddBackward0>)\n",
      "5.271297193566958 20.229378430048623 605.8629358291626 631.3636103630066\n"
     ]
    },
    {
     "name": "stderr",
     "output_type": "stream",
     "text": [
      "\n",
      " 46%|████▌     | 60/131 [10:25<12:19, 10.41s/it]\u001b[A"
     ]
    },
    {
     "name": "stdout",
     "output_type": "stream",
     "text": [
      "tensor(2.3022, device='cuda:0', grad_fn=<MulBackward0>)\n",
      "tensor(19.2013, device='cuda:0', grad_fn=<MulBackward0>)\n",
      "tensor(180.1975, device='cuda:0', grad_fn=<MulBackward0>)\n",
      "61 tensor(201.7010, device='cuda:0', grad_fn=<AddBackward0>)\n",
      "5.222623779148352 20.21252399194436 598.884813840272 624.3199605785433\n"
     ]
    },
    {
     "name": "stderr",
     "output_type": "stream",
     "text": [
      "\n",
      " 47%|████▋     | 61/131 [10:35<12:06, 10.38s/it]\u001b[A"
     ]
    },
    {
     "name": "stdout",
     "output_type": "stream",
     "text": [
      "tensor(11.8716, device='cuda:0', grad_fn=<MulBackward0>)\n",
      "tensor(12.4286, device='cuda:0', grad_fn=<MulBackward0>)\n",
      "tensor(94.8429, device='cuda:0', grad_fn=<MulBackward0>)\n",
      "62 tensor(119.1431, device='cuda:0', grad_fn=<AddBackward0>)\n",
      "5.329865395061431 20.086976697368005 590.7551048647973 616.1719459103\n"
     ]
    },
    {
     "name": "stderr",
     "output_type": "stream",
     "text": [
      "\n",
      " 47%|████▋     | 62/131 [10:45<11:54, 10.36s/it]\u001b[A"
     ]
    },
    {
     "name": "stdout",
     "output_type": "stream",
     "text": [
      "tensor(1.1100, device='cuda:0', grad_fn=<MulBackward0>)\n",
      "tensor(17.1855, device='cuda:0', grad_fn=<MulBackward0>)\n",
      "tensor(51.0550, device='cuda:0', grad_fn=<MulBackward0>)\n",
      "63 tensor(69.3505, device='cuda:0', grad_fn=<AddBackward0>)\n",
      "5.262883075645992 20.04092092362661 582.1884367806571 607.492239725022\n"
     ]
    },
    {
     "name": "stderr",
     "output_type": "stream",
     "text": [
      "\n",
      " 48%|████▊     | 63/131 [10:56<11:52, 10.48s/it]\u001b[A"
     ]
    },
    {
     "name": "stdout",
     "output_type": "stream",
     "text": [
      "tensor(2.8451, device='cuda:0', grad_fn=<MulBackward0>)\n",
      "tensor(12.6996, device='cuda:0', grad_fn=<MulBackward0>)\n",
      "tensor(44.3712, device='cuda:0', grad_fn=<MulBackward0>)\n",
      "64 tensor(59.9158, device='cuda:0', grad_fn=<AddBackward0>)\n",
      "5.225105102173984 19.92621211707592 573.7850420475006 598.936358243227\n"
     ]
    },
    {
     "name": "stderr",
     "output_type": "stream",
     "text": [
      "\n",
      " 49%|████▉     | 64/131 [11:06<11:39, 10.44s/it]\u001b[A"
     ]
    },
    {
     "name": "stdout",
     "output_type": "stream",
     "text": [
      "tensor(9.2230, device='cuda:0', grad_fn=<MulBackward0>)\n",
      "tensor(12.7533, device='cuda:0', grad_fn=<MulBackward0>)\n",
      "tensor(1047.6167, device='cuda:0', grad_fn=<MulBackward0>)\n",
      "65 tensor(1069.5930, device='cuda:0', grad_fn=<AddBackward0>)\n",
      "5.286611816516289 19.8158600293673 581.0747598501353 606.1772299253024\n"
     ]
    },
    {
     "name": "stderr",
     "output_type": "stream",
     "text": [
      "\n",
      " 50%|████▉     | 65/131 [11:17<11:26, 10.40s/it]\u001b[A"
     ]
    },
    {
     "name": "stdout",
     "output_type": "stream",
     "text": [
      "tensor(4.6081, device='cuda:0', grad_fn=<MulBackward0>)\n",
      "tensor(21.3068, device='cuda:0', grad_fn=<MulBackward0>)\n",
      "tensor(367.7285, device='cuda:0', grad_fn=<MulBackward0>)\n",
      "66 tensor(393.6434, device='cuda:0', grad_fn=<AddBackward0>)\n",
      "5.27633156469374 19.83845041737412 577.8422405358517 602.9570208751794\n"
     ]
    },
    {
     "name": "stderr",
     "output_type": "stream",
     "text": [
      "\n",
      " 50%|█████     | 66/131 [11:27<11:17, 10.43s/it]\u001b[A"
     ]
    },
    {
     "name": "stdout",
     "output_type": "stream",
     "text": [
      "tensor(2.9335, device='cuda:0', grad_fn=<MulBackward0>)\n",
      "tensor(20.0262, device='cuda:0', grad_fn=<MulBackward0>)\n",
      "tensor(45.0268, device='cuda:0', grad_fn=<MulBackward0>)\n",
      "67 tensor(67.9865, device='cuda:0', grad_fn=<AddBackward0>)\n",
      "5.241363738010179 19.841252497772672 569.8897711910419 594.9723858335125\n"
     ]
    },
    {
     "name": "stderr",
     "output_type": "stream",
     "text": [
      "\n",
      " 51%|█████     | 67/131 [11:38<11:06, 10.42s/it]\u001b[A"
     ]
    },
    {
     "name": "stdout",
     "output_type": "stream",
     "text": [
      "tensor(3.2043, device='cuda:0', grad_fn=<MulBackward0>)\n",
      "tensor(6.2783, device='cuda:0', grad_fn=<MulBackward0>)\n",
      "tensor(1610.7748, device='cuda:0', grad_fn=<MulBackward0>)\n",
      "68 tensor(1620.2573, device='cuda:0', grad_fn=<AddBackward0>)\n",
      "5.211406475480865 19.641797318178064 585.1969036775477 610.0501055156483\n"
     ]
    },
    {
     "name": "stderr",
     "output_type": "stream",
     "text": [
      "\n",
      " 52%|█████▏    | 68/131 [11:48<10:56, 10.42s/it]\u001b[A"
     ]
    },
    {
     "name": "stdout",
     "output_type": "stream",
     "text": [
      "tensor(2.7459, device='cuda:0', grad_fn=<MulBackward0>)\n",
      "tensor(17.5307, device='cuda:0', grad_fn=<MulBackward0>)\n",
      "tensor(17.4391, device='cuda:0', grad_fn=<MulBackward0>)\n",
      "69 tensor(37.7157, device='cuda:0', grad_fn=<AddBackward0>)\n",
      "5.175674655299256 19.61120226763297 576.9685291069142 601.7554040715314\n"
     ]
    },
    {
     "name": "stderr",
     "output_type": "stream",
     "text": [
      "\n",
      " 53%|█████▎    | 69/131 [11:59<10:46, 10.42s/it]\u001b[A"
     ]
    },
    {
     "name": "stdout",
     "output_type": "stream",
     "text": [
      "tensor(4.1124, device='cuda:0', grad_fn=<MulBackward0>)\n",
      "tensor(14.5804, device='cuda:0', grad_fn=<MulBackward0>)\n",
      "tensor(557.5405, device='cuda:0', grad_fn=<MulBackward0>)\n",
      "70 tensor(576.2332, device='cuda:0', grad_fn=<AddBackward0>)\n",
      "5.160485004527228 19.539333302634102 576.6909853526524 601.3908013752529\n"
     ]
    },
    {
     "name": "stderr",
     "output_type": "stream",
     "text": [
      "\n",
      " 53%|█████▎    | 70/131 [12:09<10:35, 10.41s/it]\u001b[A"
     ]
    },
    {
     "name": "stdout",
     "output_type": "stream",
     "text": [
      "tensor(22.5805, device='cuda:0', grad_fn=<MulBackward0>)\n",
      "tensor(20.9506, device='cuda:0', grad_fn=<MulBackward0>)\n",
      "tensor(5038.6748, device='cuda:0', grad_fn=<MulBackward0>)\n",
      "71 tensor(5082.2061, device='cuda:0', grad_fn=<AddBackward0>)\n",
      "5.405837323464138 19.559209917632625 639.5358278784953 664.5008753655662\n"
     ]
    },
    {
     "name": "stderr",
     "output_type": "stream",
     "text": [
      "\n",
      " 54%|█████▍    | 71/131 [12:19<10:24, 10.40s/it]\u001b[A"
     ]
    },
    {
     "name": "stdout",
     "output_type": "stream",
     "text": [
      "tensor(5.9286, device='cuda:0', grad_fn=<MulBackward0>)\n",
      "tensor(21.9646, device='cuda:0', grad_fn=<MulBackward0>)\n",
      "tensor(531.6588, device='cuda:0', grad_fn=<MulBackward0>)\n",
      "72 tensor(559.5520, device='cuda:0', grad_fn=<AddBackward0>)\n",
      "5.413097350961632 19.59261863761478 638.0375360118019 663.0432521237267\n"
     ]
    },
    {
     "name": "stderr",
     "output_type": "stream",
     "text": [
      "\n",
      " 55%|█████▍    | 72/131 [12:30<10:12, 10.39s/it]\u001b[A"
     ]
    },
    {
     "name": "stdout",
     "output_type": "stream",
     "text": [
      "tensor(1.7982, device='cuda:0', grad_fn=<MulBackward0>)\n",
      "tensor(9.7751, device='cuda:0', grad_fn=<MulBackward0>)\n",
      "tensor(19.9840, device='cuda:0', grad_fn=<MulBackward0>)\n",
      "73 tensor(31.5574, device='cuda:0', grad_fn=<AddBackward0>)\n",
      "5.363578606141757 19.458132025313702 629.5710498862071 654.3927606295233\n"
     ]
    },
    {
     "name": "stderr",
     "output_type": "stream",
     "text": [
      "\n",
      " 56%|█████▌    | 73/131 [12:40<10:04, 10.42s/it]\u001b[A"
     ]
    },
    {
     "name": "stdout",
     "output_type": "stream",
     "text": [
      "tensor(8.2862, device='cuda:0', grad_fn=<MulBackward0>)\n",
      "tensor(27.8621, device='cuda:0', grad_fn=<MulBackward0>)\n",
      "tensor(1110.6434, device='cuda:0', grad_fn=<MulBackward0>)\n",
      "74 tensor(1146.7917, device='cuda:0', grad_fn=<AddBackward0>)\n",
      "5.403073368040291 19.571699503305798 636.0720280312203 661.046801000028\n"
     ]
    },
    {
     "name": "stderr",
     "output_type": "stream",
     "text": [
      "\n",
      " 56%|█████▋    | 74/131 [12:50<09:52, 10.40s/it]\u001b[A"
     ]
    },
    {
     "name": "stdout",
     "output_type": "stream",
     "text": [
      "tensor(4.4201, device='cuda:0', grad_fn=<MulBackward0>)\n",
      "tensor(29.0883, device='cuda:0', grad_fn=<MulBackward0>)\n",
      "tensor(611.2697, device='cuda:0', grad_fn=<MulBackward0>)\n",
      "75 tensor(644.7781, device='cuda:0', grad_fn=<AddBackward0>)\n",
      "5.389966995716095 19.698587748209636 635.7413305155436 660.8298854827881\n"
     ]
    },
    {
     "name": "stderr",
     "output_type": "stream",
     "text": [
      "\n",
      " 57%|█████▋    | 75/131 [13:01<09:42, 10.41s/it]\u001b[A"
     ]
    },
    {
     "name": "stdout",
     "output_type": "stream",
     "text": [
      "tensor(6.1876, device='cuda:0', grad_fn=<MulBackward0>)\n",
      "tensor(11.1635, device='cuda:0', grad_fn=<MulBackward0>)\n",
      "tensor(184.8168, device='cuda:0', grad_fn=<MulBackward0>)\n",
      "76 tensor(202.1679, device='cuda:0', grad_fn=<AddBackward0>)\n",
      "5.400462268998749 19.5862842108074 629.8081132487247 654.7948598610727\n"
     ]
    },
    {
     "name": "stderr",
     "output_type": "stream",
     "text": [
      "\n",
      " 58%|█████▊    | 76/131 [13:12<09:36, 10.47s/it]\u001b[A"
     ]
    },
    {
     "name": "stdout",
     "output_type": "stream",
     "text": [
      "tensor(1.8889, device='cuda:0', grad_fn=<MulBackward0>)\n",
      "tensor(21.2647, device='cuda:0', grad_fn=<MulBackward0>)\n",
      "tensor(5271.4702, device='cuda:0', grad_fn=<MulBackward0>)\n",
      "77 tensor(5294.6240, device='cuda:0', grad_fn=<AddBackward0>)\n",
      "5.354858157696662 19.60808129744096 690.0894392434652 715.0523814659614\n"
     ]
    },
    {
     "name": "stderr",
     "output_type": "stream",
     "text": [
      "\n",
      " 59%|█████▉    | 77/131 [13:22<09:23, 10.43s/it]\u001b[A"
     ]
    },
    {
     "name": "stdout",
     "output_type": "stream",
     "text": [
      "tensor(2.8094, device='cuda:0', grad_fn=<MulBackward0>)\n",
      "tensor(8.1276, device='cuda:0', grad_fn=<MulBackward0>)\n",
      "tensor(307.1823, device='cuda:0', grad_fn=<MulBackward0>)\n",
      "78 tensor(318.1194, device='cuda:0', grad_fn=<AddBackward0>)\n",
      "5.322223923909358 19.460895954034267 685.180373900976 709.9634965016292\n"
     ]
    },
    {
     "name": "stderr",
     "output_type": "stream",
     "text": [
      "\n",
      " 60%|█████▉    | 78/131 [13:32<09:13, 10.45s/it]\u001b[A"
     ]
    },
    {
     "name": "stdout",
     "output_type": "stream",
     "text": [
      "tensor(4.7339, device='cuda:0', grad_fn=<MulBackward0>)\n",
      "tensor(19.4000, device='cuda:0', grad_fn=<MulBackward0>)\n",
      "tensor(78.4739, device='cuda:0', grad_fn=<MulBackward0>)\n",
      "79 tensor(102.6078, device='cuda:0', grad_fn=<AddBackward0>)\n",
      "5.314777341824543 19.46012509020069 677.5005449222613 702.2754500425315\n"
     ]
    },
    {
     "name": "stderr",
     "output_type": "stream",
     "text": [
      "\n",
      " 60%|██████    | 79/131 [13:43<09:02, 10.44s/it]\u001b[A"
     ]
    },
    {
     "name": "stdout",
     "output_type": "stream",
     "text": [
      "tensor(2.9564, device='cuda:0', grad_fn=<MulBackward0>)\n",
      "tensor(5.7737, device='cuda:0', grad_fn=<MulBackward0>)\n",
      "tensor(565.9510, device='cuda:0', grad_fn=<MulBackward0>)\n",
      "80 tensor(574.6811, device='cuda:0', grad_fn=<AddBackward0>)\n",
      "5.28529806509614 19.289044255018233 676.1061754703521 700.6805205583572\n"
     ]
    },
    {
     "name": "stderr",
     "output_type": "stream",
     "text": [
      "\n",
      " 61%|██████    | 80/131 [13:53<08:52, 10.43s/it]\u001b[A"
     ]
    },
    {
     "name": "stdout",
     "output_type": "stream",
     "text": [
      "tensor(10.3352, device='cuda:0', grad_fn=<MulBackward0>)\n",
      "tensor(21.6657, device='cuda:0', grad_fn=<MulBackward0>)\n",
      "tensor(596.8575, device='cuda:0', grad_fn=<MulBackward0>)\n",
      "81 tensor(628.8584, device='cuda:0', grad_fn=<AddBackward0>)\n",
      "5.347642537252403 19.3183856010437 675.1277965498559 699.7938276926676\n"
     ]
    },
    {
     "name": "stderr",
     "output_type": "stream",
     "text": [
      "\n",
      " 62%|██████▏   | 81/131 [14:04<08:40, 10.40s/it]\u001b[A"
     ]
    },
    {
     "name": "stdout",
     "output_type": "stream",
     "text": [
      "tensor(3.5474, device='cuda:0', grad_fn=<MulBackward0>)\n",
      "tensor(27.6152, device='cuda:0', grad_fn=<MulBackward0>)\n",
      "tensor(1140.6633, device='cuda:0', grad_fn=<MulBackward0>)\n",
      "82 tensor(1171.8259, device='cuda:0', grad_fn=<AddBackward0>)\n",
      "5.325688025573405 19.41956684647537 680.8050591538592 705.5503167175665\n"
     ]
    },
    {
     "name": "stderr",
     "output_type": "stream",
     "text": [
      "\n",
      " 63%|██████▎   | 82/131 [14:14<08:28, 10.38s/it]\u001b[A"
     ]
    },
    {
     "name": "stdout",
     "output_type": "stream",
     "text": [
      "tensor(7.9515, device='cuda:0', grad_fn=<MulBackward0>)\n",
      "tensor(24.6292, device='cuda:0', grad_fn=<MulBackward0>)\n",
      "tensor(393.3361, device='cuda:0', grad_fn=<MulBackward0>)\n",
      "83 tensor(425.9168, device='cuda:0', grad_fn=<AddBackward0>)\n",
      "5.357324807758791 19.482333740556097 677.3415775988475 702.1812386800008\n"
     ]
    },
    {
     "name": "stderr",
     "output_type": "stream",
     "text": [
      "\n",
      " 63%|██████▎   | 83/131 [14:24<08:19, 10.40s/it]\u001b[A"
     ]
    },
    {
     "name": "stdout",
     "output_type": "stream",
     "text": [
      "tensor(1.0787, device='cuda:0', grad_fn=<MulBackward0>)\n",
      "tensor(12.4512, device='cuda:0', grad_fn=<MulBackward0>)\n",
      "tensor(26.9184, device='cuda:0', grad_fn=<MulBackward0>)\n",
      "84 tensor(40.4483, device='cuda:0', grad_fn=<AddBackward0>)\n",
      "5.306388337697301 19.398629841350374 669.5984450521923 694.303465729668\n"
     ]
    },
    {
     "name": "stderr",
     "output_type": "stream",
     "text": [
      "\n",
      " 64%|██████▍   | 84/131 [14:35<08:08, 10.40s/it]\u001b[A"
     ]
    },
    {
     "name": "stdout",
     "output_type": "stream",
     "text": [
      "tensor(1.1861, device='cuda:0', grad_fn=<MulBackward0>)\n",
      "tensor(5.3954, device='cuda:0', grad_fn=<MulBackward0>)\n",
      "tensor(3430.3591, device='cuda:0', grad_fn=<MulBackward0>)\n",
      "85 tensor(3436.9407, device='cuda:0', grad_fn=<AddBackward0>)\n",
      "5.257914538243238 19.233886292401483 702.0779825322768 726.569785824944\n"
     ]
    },
    {
     "name": "stderr",
     "output_type": "stream",
     "text": [
      "\n",
      " 65%|██████▍   | 85/131 [14:45<07:55, 10.35s/it]\u001b[A"
     ]
    },
    {
     "name": "stdout",
     "output_type": "stream",
     "text": [
      "tensor(9.3197, device='cuda:0', grad_fn=<MulBackward0>)\n",
      "tensor(44.6158, device='cuda:0', grad_fn=<MulBackward0>)\n",
      "tensor(37.9170, device='cuda:0', grad_fn=<MulBackward0>)\n",
      "86 tensor(91.8524, device='cuda:0', grad_fn=<AddBackward0>)\n",
      "5.305144116629002 19.5290248560351 694.3551800528238 719.1893514810606\n"
     ]
    },
    {
     "name": "stderr",
     "output_type": "stream",
     "text": [
      "\n",
      " 66%|██████▌   | 86/131 [14:55<07:45, 10.34s/it]\u001b[A"
     ]
    },
    {
     "name": "stdout",
     "output_type": "stream",
     "text": [
      "tensor(5.0172, device='cuda:0', grad_fn=<MulBackward0>)\n",
      "tensor(22.7244, device='cuda:0', grad_fn=<MulBackward0>)\n",
      "tensor(633.4750, device='cuda:0', grad_fn=<MulBackward0>)\n",
      "87 tensor(661.2165, device='cuda:0', grad_fn=<AddBackward0>)\n",
      "5.3018339810700255 19.565753059825678 693.6554075876871 718.5229967709246\n"
     ]
    },
    {
     "name": "stderr",
     "output_type": "stream",
     "text": [
      "\n",
      " 66%|██████▋   | 87/131 [15:06<07:35, 10.34s/it]\u001b[A"
     ]
    },
    {
     "name": "stdout",
     "output_type": "stream",
     "text": [
      "tensor(1.5920, device='cuda:0', grad_fn=<MulBackward0>)\n",
      "tensor(6.3778, device='cuda:0', grad_fn=<MulBackward0>)\n",
      "tensor(746.4204, device='cuda:0', grad_fn=<MulBackward0>)\n",
      "88 tensor(754.3902, device='cuda:0', grad_fn=<AddBackward0>)\n",
      "5.259677217087963 19.41588957743211 694.2550098896027 718.9305786002766\n"
     ]
    },
    {
     "name": "stderr",
     "output_type": "stream",
     "text": [
      "\n",
      " 67%|██████▋   | 88/131 [15:16<07:24, 10.34s/it]\u001b[A"
     ]
    },
    {
     "name": "stdout",
     "output_type": "stream",
     "text": [
      "tensor(9.7222, device='cuda:0', grad_fn=<MulBackward0>)\n",
      "tensor(43.3086, device='cuda:0', grad_fn=<MulBackward0>)\n",
      "tensor(345.0846, device='cuda:0', grad_fn=<MulBackward0>)\n",
      "89 tensor(398.1155, device='cuda:0', grad_fn=<AddBackward0>)\n",
      "5.30981832340862 19.684347141994518 690.3317471407772 715.3259145543816\n"
     ]
    },
    {
     "name": "stderr",
     "output_type": "stream",
     "text": [
      "\n",
      " 68%|██████▊   | 89/131 [15:27<07:17, 10.42s/it]\u001b[A"
     ]
    },
    {
     "name": "stdout",
     "output_type": "stream",
     "text": [
      "tensor(6.1856, device='cuda:0', grad_fn=<MulBackward0>)\n",
      "tensor(10.5428, device='cuda:0', grad_fn=<MulBackward0>)\n",
      "tensor(726.4635, device='cuda:0', grad_fn=<MulBackward0>)\n",
      "90 tensor(743.1919, device='cuda:0', grad_fn=<AddBackward0>)\n",
      "5.319548804892434 19.582774872250027 690.7332110722859 715.6355365541247\n"
     ]
    },
    {
     "name": "stderr",
     "output_type": "stream",
     "text": [
      "\n",
      " 69%|██████▊   | 90/131 [15:37<07:06, 10.41s/it]\u001b[A"
     ]
    },
    {
     "name": "stdout",
     "output_type": "stream",
     "text": [
      "tensor(2.3054, device='cuda:0', grad_fn=<MulBackward0>)\n",
      "tensor(8.7255, device='cuda:0', grad_fn=<MulBackward0>)\n",
      "tensor(57.1891, device='cuda:0', grad_fn=<MulBackward0>)\n",
      "91 tensor(68.2200, device='cuda:0', grad_fn=<AddBackward0>)\n",
      "5.286426381095425 19.463463919503347 683.7711884006039 708.5210804572472\n"
     ]
    },
    {
     "name": "stderr",
     "output_type": "stream",
     "text": [
      "\n",
      " 69%|██████▉   | 91/131 [15:47<06:55, 10.40s/it]\u001b[A"
     ]
    },
    {
     "name": "stdout",
     "output_type": "stream",
     "text": [
      "tensor(3.3052, device='cuda:0', grad_fn=<MulBackward0>)\n",
      "tensor(27.7097, device='cuda:0', grad_fn=<MulBackward0>)\n",
      "tensor(271.8600, device='cuda:0', grad_fn=<MulBackward0>)\n",
      "92 tensor(302.8750, device='cuda:0', grad_fn=<AddBackward0>)\n",
      "5.264891758561134 19.553096667579982 679.2938933787138 704.1118835988252\n"
     ]
    },
    {
     "name": "stderr",
     "output_type": "stream",
     "text": [
      "\n",
      " 70%|███████   | 92/131 [15:58<06:50, 10.53s/it]\u001b[A"
     ]
    },
    {
     "name": "stdout",
     "output_type": "stream",
     "text": [
      "tensor(3.5543, device='cuda:0', grad_fn=<MulBackward0>)\n",
      "tensor(27.3653, device='cuda:0', grad_fn=<MulBackward0>)\n",
      "tensor(133.1391, device='cuda:0', grad_fn=<MulBackward0>)\n",
      "93 tensor(164.0586, device='cuda:0', grad_fn=<AddBackward0>)\n",
      "5.246497825268777 19.637098373905307 673.4212608542493 698.3048588127218\n"
     ]
    },
    {
     "name": "stderr",
     "output_type": "stream",
     "text": [
      "\n",
      " 71%|███████   | 93/131 [16:09<06:39, 10.51s/it]\u001b[A"
     ]
    },
    {
     "name": "stdout",
     "output_type": "stream",
     "text": [
      "tensor(4.1180, device='cuda:0', grad_fn=<MulBackward0>)\n",
      "tensor(15.0408, device='cuda:0', grad_fn=<MulBackward0>)\n",
      "tensor(1177.2966, device='cuda:0', grad_fn=<MulBackward0>)\n",
      "94 tensor(1196.4554, device='cuda:0', grad_fn=<AddBackward0>)\n",
      "5.234492707125684 19.588201705445634 678.7816371308996 703.6043331267986\n"
     ]
    },
    {
     "name": "stderr",
     "output_type": "stream",
     "text": [
      "\n",
      " 72%|███████▏  | 94/131 [16:19<06:27, 10.46s/it]\u001b[A"
     ]
    },
    {
     "name": "stdout",
     "output_type": "stream",
     "text": [
      "tensor(11.1886, device='cuda:0', grad_fn=<MulBackward0>)\n",
      "tensor(34.5997, device='cuda:0', grad_fn=<MulBackward0>)\n",
      "tensor(254.9126, device='cuda:0', grad_fn=<MulBackward0>)\n",
      "95 tensor(300.7009, device='cuda:0', grad_fn=<AddBackward0>)\n",
      "5.297167265415192 19.746217888279965 674.3198574467709 699.3632440065082\n"
     ]
    },
    {
     "name": "stderr",
     "output_type": "stream",
     "text": [
      "\n",
      " 73%|███████▎  | 95/131 [16:29<06:16, 10.45s/it]\u001b[A"
     ]
    },
    {
     "name": "stdout",
     "output_type": "stream",
     "text": [
      "tensor(1.5305, device='cuda:0', grad_fn=<MulBackward0>)\n",
      "tensor(15.1725, device='cuda:0', grad_fn=<MulBackward0>)\n",
      "tensor(4037.1018, device='cuda:0', grad_fn=<MulBackward0>)\n",
      "96 tensor(4053.8047, device='cuda:0', grad_fn=<AddBackward0>)\n",
      "5.257931462799509 19.698574473460514 709.3488360842069 734.3053423762321\n"
     ]
    },
    {
     "name": "stderr",
     "output_type": "stream",
     "text": [
      "\n",
      " 73%|███████▎  | 96/131 [16:40<06:05, 10.45s/it]\u001b[A"
     ]
    },
    {
     "name": "stdout",
     "output_type": "stream",
     "text": [
      "tensor(1.3988, device='cuda:0', grad_fn=<MulBackward0>)\n",
      "tensor(11.9167, device='cuda:0', grad_fn=<MulBackward0>)\n",
      "tensor(227.6853, device='cuda:0', grad_fn=<MulBackward0>)\n",
      "97 tensor(241.0008, device='cuda:0', grad_fn=<AddBackward0>)\n",
      "5.218146531237769 19.618349104812467 704.3832323329965 729.2197283125415\n"
     ]
    },
    {
     "name": "stderr",
     "output_type": "stream",
     "text": [
      "\n",
      " 74%|███████▍  | 97/131 [16:50<05:54, 10.42s/it]\u001b[A"
     ]
    },
    {
     "name": "stdout",
     "output_type": "stream",
     "text": [
      "tensor(2.5154, device='cuda:0', grad_fn=<MulBackward0>)\n",
      "tensor(14.4658, device='cuda:0', grad_fn=<MulBackward0>)\n",
      "tensor(175.7847, device='cuda:0', grad_fn=<MulBackward0>)\n",
      "98 tensor(192.7659, device='cuda:0', grad_fn=<AddBackward0>)\n",
      "5.190566975851448 19.56577222201289 698.9893697427243 723.7457093413996\n"
     ]
    },
    {
     "name": "stderr",
     "output_type": "stream",
     "text": [
      "\n",
      " 75%|███████▍  | 98/131 [17:01<05:43, 10.40s/it]\u001b[A"
     ]
    },
    {
     "name": "stdout",
     "output_type": "stream",
     "text": [
      "tensor(5.7499, device='cuda:0', grad_fn=<MulBackward0>)\n",
      "tensor(40.4951, device='cuda:0', grad_fn=<MulBackward0>)\n",
      "tensor(283.2029, device='cuda:0', grad_fn=<MulBackward0>)\n",
      "99 tensor(329.4478, device='cuda:0', grad_fn=<AddBackward0>)\n",
      "5.196216595895363 19.777179284529254 694.7895059103918 719.7629023272582\n"
     ]
    },
    {
     "name": "stderr",
     "output_type": "stream",
     "text": [
      "\n",
      " 76%|███████▌  | 99/131 [17:11<05:32, 10.38s/it]\u001b[A"
     ]
    },
    {
     "name": "stdout",
     "output_type": "stream",
     "text": [
      "tensor(15.1565, device='cuda:0', grad_fn=<MulBackward0>)\n",
      "tensor(26.1183, device='cuda:0', grad_fn=<MulBackward0>)\n",
      "tensor(699.7881, device='cuda:0', grad_fn=<MulBackward0>)\n",
      "100 tensor(741.0629, device='cuda:0', grad_fn=<AddBackward0>)\n",
      "5.295819218754769 19.840590410232544 694.8394917106629 719.975901966095\n"
     ]
    },
    {
     "name": "stderr",
     "output_type": "stream",
     "text": [
      "\n",
      " 76%|███████▋  | 100/131 [17:21<05:21, 10.37s/it]\u001b[A"
     ]
    },
    {
     "name": "stdout",
     "output_type": "stream",
     "text": [
      "tensor(2.4414, device='cuda:0', grad_fn=<MulBackward0>)\n",
      "tensor(13.3018, device='cuda:0', grad_fn=<MulBackward0>)\n",
      "tensor(116.3526, device='cuda:0', grad_fn=<MulBackward0>)\n",
      "101 tensor(132.0959, device='cuda:0', grad_fn=<AddBackward0>)\n",
      "5.267557904861941 19.775850277135866 689.1118987243955 714.1553074487365\n"
     ]
    },
    {
     "name": "stderr",
     "output_type": "stream",
     "text": [
      "\n",
      " 77%|███████▋  | 101/131 [17:32<05:11, 10.39s/it]\u001b[A"
     ]
    },
    {
     "name": "stdout",
     "output_type": "stream",
     "text": [
      "tensor(8.3848, device='cuda:0', grad_fn=<MulBackward0>)\n",
      "tensor(21.7129, device='cuda:0', grad_fn=<MulBackward0>)\n",
      "tensor(2235.1572, device='cuda:0', grad_fn=<MulBackward0>)\n",
      "102 tensor(2265.2549, device='cuda:0', grad_fn=<AddBackward0>)\n",
      "5.298119372596927 19.794841448465984 704.2692058600632 729.3621660307342\n"
     ]
    },
    {
     "name": "stderr",
     "output_type": "stream",
     "text": [
      "\n",
      " 78%|███████▊  | 102/131 [17:42<05:00, 10.37s/it]\u001b[A"
     ]
    },
    {
     "name": "stdout",
     "output_type": "stream",
     "text": [
      "tensor(4.3802, device='cuda:0', grad_fn=<MulBackward0>)\n",
      "tensor(18.7850, device='cuda:0', grad_fn=<MulBackward0>)\n",
      "tensor(727.9272, device='cuda:0', grad_fn=<MulBackward0>)\n",
      "103 tensor(751.0924, device='cuda:0', grad_fn=<AddBackward0>)\n",
      "5.289207903505529 19.785037235148902 704.4988949784955 729.5731392462277\n"
     ]
    },
    {
     "name": "stderr",
     "output_type": "stream",
     "text": [
      "\n",
      " 79%|███████▊  | 103/131 [17:52<04:49, 10.35s/it]\u001b[A"
     ]
    },
    {
     "name": "stdout",
     "output_type": "stream",
     "text": [
      "tensor(4.5438, device='cuda:0', grad_fn=<MulBackward0>)\n",
      "tensor(11.9361, device='cuda:0', grad_fn=<MulBackward0>)\n",
      "tensor(118.2499, device='cuda:0', grad_fn=<MulBackward0>)\n",
      "104 tensor(134.7298, device='cuda:0', grad_fn=<AddBackward0>)\n",
      "5.282040229783608 19.70956697830787 698.8618858594161 723.8534921682798\n"
     ]
    },
    {
     "name": "stderr",
     "output_type": "stream",
     "text": [
      "\n",
      " 79%|███████▉  | 104/131 [18:03<04:41, 10.42s/it]\u001b[A"
     ]
    },
    {
     "name": "stdout",
     "output_type": "stream",
     "text": [
      "tensor(2.8168, device='cuda:0', grad_fn=<MulBackward0>)\n",
      "tensor(18.7861, device='cuda:0', grad_fn=<MulBackward0>)\n",
      "tensor(30.4793, device='cuda:0', grad_fn=<MulBackward0>)\n",
      "105 tensor(52.0822, device='cuda:0', grad_fn=<AddBackward0>)\n",
      "5.2585617139225915 19.70077214922224 692.4963374364944 717.4556704021636\n"
     ]
    },
    {
     "name": "stderr",
     "output_type": "stream",
     "text": [
      "\n",
      " 80%|████████  | 105/131 [18:13<04:31, 10.43s/it]\u001b[A"
     ]
    },
    {
     "name": "stdout",
     "output_type": "stream",
     "text": [
      "tensor(10.2499, device='cuda:0', grad_fn=<MulBackward0>)\n",
      "tensor(22.6539, device='cuda:0', grad_fn=<MulBackward0>)\n",
      "tensor(1470.5985, device='cuda:0', grad_fn=<MulBackward0>)\n",
      "106 tensor(1503.5023, device='cuda:0', grad_fn=<AddBackward0>)\n",
      "5.305650034603083 19.72863143345095 699.8369239771141 724.8712048260671\n"
     ]
    },
    {
     "name": "stderr",
     "output_type": "stream",
     "text": [
      "\n",
      " 81%|████████  | 106/131 [18:24<04:21, 10.44s/it]\u001b[A"
     ]
    },
    {
     "name": "stdout",
     "output_type": "stream",
     "text": [
      "tensor(2.2628, device='cuda:0', grad_fn=<MulBackward0>)\n",
      "tensor(23.5699, device='cuda:0', grad_fn=<MulBackward0>)\n",
      "tensor(148.1841, device='cuda:0', grad_fn=<MulBackward0>)\n",
      "107 tensor(174.0168, device='cuda:0', grad_fn=<AddBackward0>)\n",
      "5.277211929593131 19.76453130490312 694.6812903680534 719.7230329602678\n"
     ]
    },
    {
     "name": "stderr",
     "output_type": "stream",
     "text": [
      "\n",
      " 82%|████████▏ | 107/131 [18:34<04:10, 10.45s/it]\u001b[A"
     ]
    },
    {
     "name": "stdout",
     "output_type": "stream",
     "text": [
      "tensor(13.7184, device='cuda:0', grad_fn=<MulBackward0>)\n",
      "tensor(22.4918, device='cuda:0', grad_fn=<MulBackward0>)\n",
      "tensor(6377.6577, device='cuda:0', grad_fn=<MulBackward0>)\n",
      "108 tensor(6413.8677, device='cuda:0', grad_fn=<AddBackward0>)\n",
      "5.355370619230801 19.789783548425746 747.3014424465321 772.4465944678695\n"
     ]
    },
    {
     "name": "stderr",
     "output_type": "stream",
     "text": [
      "\n",
      " 82%|████████▏ | 108/131 [18:45<03:59, 10.42s/it]\u001b[A"
     ]
    },
    {
     "name": "stdout",
     "output_type": "stream",
     "text": [
      "tensor(7.2024, device='cuda:0', grad_fn=<MulBackward0>)\n",
      "tensor(25.2143, device='cuda:0', grad_fn=<MulBackward0>)\n",
      "tensor(286.5565, device='cuda:0', grad_fn=<MulBackward0>)\n",
      "109 tensor(318.9732, device='cuda:0', grad_fn=<AddBackward0>)\n",
      "5.372316225406227 19.83954996581471 743.0744242361926 768.2862881476726\n"
     ]
    },
    {
     "name": "stderr",
     "output_type": "stream",
     "text": [
      "\n",
      " 83%|████████▎ | 109/131 [18:55<03:51, 10.54s/it]\u001b[A"
     ]
    },
    {
     "name": "stdout",
     "output_type": "stream",
     "text": [
      "tensor(3.1981, device='cuda:0', grad_fn=<MulBackward0>)\n",
      "tensor(40.5850, device='cuda:0', grad_fn=<MulBackward0>)\n",
      "tensor(321.4419, device='cuda:0', grad_fn=<MulBackward0>)\n",
      "110 tensor(365.2250, device='cuda:0', grad_fn=<AddBackward0>)\n",
      "5.352550877766176 20.028144680369984 739.2414009614424 764.6220943971114\n"
     ]
    },
    {
     "name": "stderr",
     "output_type": "stream",
     "text": [
      "\n",
      " 84%|████████▍ | 110/131 [19:06<03:40, 10.49s/it]\u001b[A"
     ]
    },
    {
     "name": "stdout",
     "output_type": "stream",
     "text": [
      "tensor(0.8586, device='cuda:0', grad_fn=<MulBackward0>)\n",
      "tensor(5.4877, device='cuda:0', grad_fn=<MulBackward0>)\n",
      "tensor(2551.4456, device='cuda:0', grad_fn=<MulBackward0>)\n",
      "111 tensor(2557.7917, device='cuda:0', grad_fn=<AddBackward0>)\n",
      "5.312064443085645 19.897150116997796 755.5675645261198 780.7767759615236\n"
     ]
    },
    {
     "name": "stderr",
     "output_type": "stream",
     "text": [
      "\n",
      " 85%|████████▍ | 111/131 [19:16<03:29, 10.46s/it]\u001b[A"
     ]
    },
    {
     "name": "stdout",
     "output_type": "stream",
     "text": [
      "tensor(0.7576, device='cuda:0', grad_fn=<MulBackward0>)\n",
      "tensor(19.2127, device='cuda:0', grad_fn=<MulBackward0>)\n",
      "tensor(14.4151, device='cuda:0', grad_fn=<MulBackward0>)\n",
      "112 tensor(34.3853, device='cuda:0', grad_fn=<AddBackward0>)\n",
      "5.2713993809052875 19.891038528510503 748.9501317228589 774.1125665562494\n"
     ]
    },
    {
     "name": "stderr",
     "output_type": "stream",
     "text": [
      "\n",
      " 85%|████████▌ | 112/131 [19:27<03:18, 10.42s/it]\u001b[A"
     ]
    },
    {
     "name": "stdout",
     "output_type": "stream",
     "text": [
      "tensor(3.7926, device='cuda:0', grad_fn=<MulBackward0>)\n",
      "tensor(13.7361, device='cuda:0', grad_fn=<MulBackward0>)\n",
      "tensor(1314.4436, device='cuda:0', grad_fn=<MulBackward0>)\n",
      "113 tensor(1331.9722, device='cuda:0', grad_fn=<AddBackward0>)\n",
      "5.258312292858562 19.836569676357033 753.9544987298746 779.0493771882184\n"
     ]
    },
    {
     "name": "stderr",
     "output_type": "stream",
     "text": [
      "\n",
      " 86%|████████▋ | 113/131 [19:38<03:12, 10.68s/it]\u001b[A"
     ]
    },
    {
     "name": "stdout",
     "output_type": "stream",
     "text": [
      "tensor(1.5091, device='cuda:0', grad_fn=<MulBackward0>)\n",
      "tensor(11.6338, device='cuda:0', grad_fn=<MulBackward0>)\n",
      "tensor(315.5962, device='cuda:0', grad_fn=<MulBackward0>)\n",
      "114 tensor(328.7390, device='cuda:0', grad_fn=<AddBackward0>)\n",
      "5.225424241601375 19.764615502273827 750.1092501523202 775.0992862801803\n"
     ]
    },
    {
     "name": "stderr",
     "output_type": "stream",
     "text": [
      "\n",
      " 87%|████████▋ | 114/131 [19:48<03:00, 10.64s/it]\u001b[A"
     ]
    },
    {
     "name": "stdout",
     "output_type": "stream",
     "text": [
      "tensor(2.9840, device='cuda:0', grad_fn=<MulBackward0>)\n",
      "tensor(19.6854, device='cuda:0', grad_fn=<MulBackward0>)\n",
      "tensor(314.8188, device='cuda:0', grad_fn=<MulBackward0>)\n",
      "115 tensor(337.4881, device='cuda:0', grad_fn=<AddBackward0>)\n",
      "5.205933309637982 19.763926638727604 746.324115421461 771.29397186611\n"
     ]
    },
    {
     "name": "stderr",
     "output_type": "stream",
     "text": [
      "\n",
      " 88%|████████▊ | 115/131 [19:59<02:49, 10.59s/it]\u001b[A"
     ]
    },
    {
     "name": "stdout",
     "output_type": "stream",
     "text": [
      "tensor(3.9001, device='cuda:0', grad_fn=<MulBackward0>)\n",
      "tensor(15.9912, device='cuda:0', grad_fn=<MulBackward0>)\n",
      "tensor(198.4632, device='cuda:0', grad_fn=<MulBackward0>)\n",
      "116 tensor(218.3544, device='cuda:0', grad_fn=<AddBackward0>)\n",
      "5.1946758011291765 19.73140317818214 741.6011763276725 766.5272518190844\n"
     ]
    },
    {
     "name": "stderr",
     "output_type": "stream",
     "text": [
      "\n",
      " 89%|████████▊ | 116/131 [20:09<02:38, 10.57s/it]\u001b[A"
     ]
    },
    {
     "name": "stdout",
     "output_type": "stream",
     "text": [
      "tensor(3.1555, device='cuda:0', grad_fn=<MulBackward0>)\n",
      "tensor(9.3717, device='cuda:0', grad_fn=<MulBackward0>)\n",
      "tensor(265.3637, device='cuda:0', grad_fn=<MulBackward0>)\n",
      "117 tensor(277.8910, device='cuda:0', grad_fn=<AddBackward0>)\n",
      "5.177247188030145 19.642858929104275 737.5307706197103 762.3508732624543\n"
     ]
    },
    {
     "name": "stderr",
     "output_type": "stream",
     "text": [
      "\n",
      " 89%|████████▉ | 117/131 [20:20<02:26, 10.50s/it]\u001b[A"
     ]
    },
    {
     "name": "stdout",
     "output_type": "stream",
     "text": [
      "tensor(2.6904, device='cuda:0', grad_fn=<MulBackward0>)\n",
      "tensor(40.1632, device='cuda:0', grad_fn=<MulBackward0>)\n",
      "tensor(93.9550, device='cuda:0', grad_fn=<MulBackward0>)\n",
      "118 tensor(136.8085, device='cuda:0', grad_fn=<AddBackward0>)\n",
      "5.156171796685558 19.816759707564014 732.0767388101351 757.0496668573153\n"
     ]
    },
    {
     "name": "stderr",
     "output_type": "stream",
     "text": [
      "\n",
      " 90%|█████████ | 118/131 [20:30<02:16, 10.47s/it]\u001b[A"
     ]
    },
    {
     "name": "stdout",
     "output_type": "stream",
     "text": [
      "tensor(3.2388, device='cuda:0', grad_fn=<MulBackward0>)\n",
      "tensor(40.6463, device='cuda:0', grad_fn=<MulBackward0>)\n",
      "tensor(8.8131, device='cuda:0', grad_fn=<MulBackward0>)\n",
      "119 tensor(52.6982, device='cuda:0', grad_fn=<AddBackward0>)\n",
      "5.140059815735376 19.991797839894016 725.9988929203579 751.1307471299372\n"
     ]
    },
    {
     "name": "stderr",
     "output_type": "stream",
     "text": [
      "\n",
      " 91%|█████████ | 119/131 [20:40<02:05, 10.42s/it]\u001b[A"
     ]
    },
    {
     "name": "stdout",
     "output_type": "stream",
     "text": [
      "tensor(3.4614, device='cuda:0', grad_fn=<MulBackward0>)\n",
      "tensor(13.4367, device='cuda:0', grad_fn=<MulBackward0>)\n",
      "tensor(202.3245, device='cuda:0', grad_fn=<MulBackward0>)\n",
      "120 tensor(219.2226, device='cuda:0', grad_fn=<AddBackward0>)\n",
      "5.126071010033289 19.93717224597931 721.6349393367767 746.6981791973114\n"
     ]
    },
    {
     "name": "stderr",
     "output_type": "stream",
     "text": [
      "\n",
      " 92%|█████████▏| 120/131 [20:51<01:54, 10.42s/it]\u001b[A"
     ]
    },
    {
     "name": "stdout",
     "output_type": "stream",
     "text": [
      "tensor(1.6032, device='cuda:0', grad_fn=<MulBackward0>)\n",
      "tensor(9.2435, device='cuda:0', grad_fn=<MulBackward0>)\n",
      "tensor(271.6902, device='cuda:0', grad_fn=<MulBackward0>)\n",
      "121 tensor(282.5369, device='cuda:0', grad_fn=<AddBackward0>)\n",
      "5.096956212658528 19.84879477950167 717.9163881569855 742.8621357846852\n"
     ]
    },
    {
     "name": "stderr",
     "output_type": "stream",
     "text": [
      "\n",
      " 92%|█████████▏| 121/131 [21:01<01:43, 10.39s/it]\u001b[A"
     ]
    },
    {
     "name": "stdout",
     "output_type": "stream",
     "text": [
      "tensor(4.9124, device='cuda:0', grad_fn=<MulBackward0>)\n",
      "tensor(13.8957, device='cuda:0', grad_fn=<MulBackward0>)\n",
      "tensor(16.2607, device='cuda:0', grad_fn=<MulBackward0>)\n",
      "122 tensor(35.0688, device='cuda:0', grad_fn=<AddBackward0>)\n",
      "5.095443251680155 19.79999905726949 712.1651124016183 737.0605513932275\n"
     ]
    },
    {
     "name": "stderr",
     "output_type": "stream",
     "text": [
      "\n",
      " 93%|█████████▎| 122/131 [21:12<01:33, 10.42s/it]\u001b[A"
     ]
    },
    {
     "name": "stdout",
     "output_type": "stream",
     "text": [
      "tensor(4.7039, device='cuda:0', grad_fn=<MulBackward0>)\n",
      "tensor(11.4657, device='cuda:0', grad_fn=<MulBackward0>)\n",
      "tensor(451.7007, device='cuda:0', grad_fn=<MulBackward0>)\n",
      "123 tensor(467.8703, device='cuda:0', grad_fn=<AddBackward0>)\n",
      "5.092259844144185 19.732240669126433 710.0475154194405 734.8720127663961\n"
     ]
    },
    {
     "name": "stderr",
     "output_type": "stream",
     "text": [
      "\n",
      " 94%|█████████▍| 123/131 [21:22<01:23, 10.45s/it]\u001b[A"
     ]
    },
    {
     "name": "stdout",
     "output_type": "stream",
     "text": [
      "tensor(2.1634, device='cuda:0', grad_fn=<MulBackward0>)\n",
      "tensor(18.0318, device='cuda:0', grad_fn=<MulBackward0>)\n",
      "tensor(1536.5343, device='cuda:0', grad_fn=<MulBackward0>)\n",
      "124 tensor(1556.7295, device='cuda:0', grad_fn=<AddBackward0>)\n",
      "5.068640290729461 19.71852712477407 716.7127314382984 741.4998956649534\n"
     ]
    },
    {
     "name": "stderr",
     "output_type": "stream",
     "text": [
      "\n",
      " 95%|█████████▍| 124/131 [21:33<01:13, 10.43s/it]\u001b[A"
     ]
    },
    {
     "name": "stdout",
     "output_type": "stream",
     "text": [
      "tensor(4.9031, device='cuda:0', grad_fn=<MulBackward0>)\n",
      "tensor(11.5753, device='cuda:0', grad_fn=<MulBackward0>)\n",
      "tensor(1038.4050, device='cuda:0', grad_fn=<MulBackward0>)\n",
      "125 tensor(1054.8834, device='cuda:0', grad_fn=<AddBackward0>)\n",
      "5.067315587043762 19.65338143157959 719.286269821167 744.0069638824463\n"
     ]
    },
    {
     "name": "stderr",
     "output_type": "stream",
     "text": [
      "\n",
      " 95%|█████████▌| 125/131 [21:43<01:02, 10.41s/it]\u001b[A"
     ]
    },
    {
     "name": "stdout",
     "output_type": "stream",
     "text": [
      "tensor(4.7985, device='cuda:0', grad_fn=<MulBackward0>)\n",
      "tensor(16.0348, device='cuda:0', grad_fn=<MulBackward0>)\n",
      "tensor(141.0146, device='cuda:0', grad_fn=<MulBackward0>)\n",
      "126 tensor(161.8480, device='cuda:0', grad_fn=<AddBackward0>)\n",
      "5.065182418104202 19.624662785303023 714.6968125085982 739.3866548235454\n"
     ]
    },
    {
     "name": "stderr",
     "output_type": "stream",
     "text": [
      "\n",
      " 96%|█████████▌| 126/131 [21:53<00:52, 10.43s/it]\u001b[A"
     ]
    },
    {
     "name": "stdout",
     "output_type": "stream",
     "text": [
      "tensor(18.1811, device='cuda:0', grad_fn=<MulBackward0>)\n",
      "tensor(14.1196, device='cuda:0', grad_fn=<MulBackward0>)\n",
      "tensor(388.0322, device='cuda:0', grad_fn=<MulBackward0>)\n",
      "127 tensor(420.3329, device='cuda:0', grad_fn=<AddBackward0>)\n",
      "5.168457080998759 19.58131589664249 712.1246504145345 736.87442042133\n"
     ]
    },
    {
     "name": "stderr",
     "output_type": "stream",
     "text": [
      "\n",
      " 97%|█████████▋| 127/131 [22:04<00:41, 10.43s/it]\u001b[A"
     ]
    },
    {
     "name": "stdout",
     "output_type": "stream",
     "text": [
      "tensor(1.8082, device='cuda:0', grad_fn=<MulBackward0>)\n",
      "tensor(9.8660, device='cuda:0', grad_fn=<MulBackward0>)\n",
      "tensor(1066.6693, device='cuda:0', grad_fn=<MulBackward0>)\n",
      "128 tensor(1078.3435, device='cuda:0', grad_fn=<AddBackward0>)\n",
      "5.142204890027642 19.50541528314352 714.8945305794477 739.5421476513147\n"
     ]
    },
    {
     "name": "stderr",
     "output_type": "stream",
     "text": [
      "\n",
      " 98%|█████████▊| 128/131 [22:14<00:31, 10.38s/it]\u001b[A"
     ]
    },
    {
     "name": "stdout",
     "output_type": "stream",
     "text": [
      "tensor(22.0210, device='cuda:0', grad_fn=<MulBackward0>)\n",
      "tensor(21.6904, device='cuda:0', grad_fn=<MulBackward0>)\n",
      "tensor(520.8768, device='cuda:0', grad_fn=<MulBackward0>)\n",
      "129 tensor(564.5883, device='cuda:0', grad_fn=<AddBackward0>)\n",
      "5.2730484692625295 19.522353246230487 713.3905174048372 738.1859159395676\n"
     ]
    },
    {
     "name": "stderr",
     "output_type": "stream",
     "text": [
      "\n",
      " 98%|█████████▊| 129/131 [22:24<00:20, 10.38s/it]\u001b[A"
     ]
    },
    {
     "name": "stdout",
     "output_type": "stream",
     "text": [
      "tensor(4.9011, device='cuda:0', grad_fn=<MulBackward0>)\n",
      "tensor(16.9892, device='cuda:0', grad_fn=<MulBackward0>)\n",
      "tensor(617.7551, device='cuda:0', grad_fn=<MulBackward0>)\n",
      "130 tensor(639.6453, device='cuda:0', grad_fn=<AddBackward0>)\n",
      "5.270186957946191 19.502867676661566 712.6548600857075 737.427911391625\n"
     ]
    },
    {
     "name": "stderr",
     "output_type": "stream",
     "text": [
      "\n",
      " 99%|█████████▉| 130/131 [22:35<00:10, 10.39s/it]\u001b[A"
     ]
    },
    {
     "name": "stdout",
     "output_type": "stream",
     "text": [
      "tensor(0.6583, device='cuda:0', grad_fn=<MulBackward0>)\n",
      "tensor(0.9970, device='cuda:0', grad_fn=<MulBackward0>)\n",
      "tensor(5.2678, device='cuda:0', grad_fn=<MulBackward0>)\n",
      "131 tensor(6.9231, device='cuda:0', grad_fn=<AddBackward0>)\n",
      "5.234981638784627 19.361601509665714 707.2549589572062 731.8515388037413\n"
     ]
    },
    {
     "name": "stderr",
     "output_type": "stream",
     "text": [
      "\n",
      "100%|██████████| 131/131 [22:42<00:00,  9.50s/it]\u001b[A\n",
      "  0%|          | 0/131 [00:00<?, ?it/s]\u001b[A"
     ]
    },
    {
     "name": "stdout",
     "output_type": "stream",
     "text": [
      "epoch_cohe_loss 5.234981638784627\n",
      "epoch_occ_loss 19.361601509665714\n",
      "epoch_flow_loss 707.2549589572062\n",
      "epoch_total_loss 731.8515388037413\n",
      "tensor(1.5899, device='cuda:0', grad_fn=<MulBackward0>)\n",
      "tensor(9.6346, device='cuda:0', grad_fn=<MulBackward0>)\n",
      "tensor(314.2882, device='cuda:0', grad_fn=<MulBackward0>)\n",
      "1 tensor(325.5127, device='cuda:0', grad_fn=<AddBackward0>)\n",
      "1.5899099111557007 9.634575843811035 314.2882385253906 325.5127258300781\n"
     ]
    },
    {
     "name": "stderr",
     "output_type": "stream",
     "text": [
      "\n",
      "  1%|          | 1/131 [00:11<24:08, 11.14s/it]\u001b[A"
     ]
    },
    {
     "name": "stdout",
     "output_type": "stream",
     "text": [
      "tensor(7.9224, device='cuda:0', grad_fn=<MulBackward0>)\n",
      "tensor(22.2186, device='cuda:0', grad_fn=<MulBackward0>)\n",
      "tensor(474.2636, device='cuda:0', grad_fn=<MulBackward0>)\n",
      "2 tensor(504.4047, device='cuda:0', grad_fn=<AddBackward0>)\n",
      "4.756138980388641 15.926610469818115 394.27593994140625 414.9586944580078\n"
     ]
    },
    {
     "name": "stderr",
     "output_type": "stream",
     "text": [
      "\n",
      "  2%|▏         | 2/131 [00:21<23:27, 10.91s/it]\u001b[A"
     ]
    },
    {
     "name": "stdout",
     "output_type": "stream",
     "text": [
      "tensor(2.7868, device='cuda:0', grad_fn=<MulBackward0>)\n",
      "tensor(12.8849, device='cuda:0', grad_fn=<MulBackward0>)\n",
      "tensor(105.6227, device='cuda:0', grad_fn=<MulBackward0>)\n",
      "3 tensor(121.2944, device='cuda:0', grad_fn=<AddBackward0>)\n",
      "4.099683880805969 14.912718454996744 298.0581919352214 317.0705973307292\n"
     ]
    },
    {
     "name": "stderr",
     "output_type": "stream",
     "text": [
      "\n",
      "  2%|▏         | 3/131 [00:31<22:56, 10.75s/it]\u001b[A"
     ]
    },
    {
     "name": "stdout",
     "output_type": "stream",
     "text": [
      "tensor(0.8864, device='cuda:0', grad_fn=<MulBackward0>)\n",
      "tensor(4.9648, device='cuda:0', grad_fn=<MulBackward0>)\n",
      "tensor(28.4051, device='cuda:0', grad_fn=<MulBackward0>)\n",
      "4 tensor(34.2563, device='cuda:0', grad_fn=<AddBackward0>)\n",
      "3.2963715195655823 12.425747513771057 230.64490795135498 246.36702919006348\n"
     ]
    },
    {
     "name": "stderr",
     "output_type": "stream",
     "text": [
      "\n",
      "  3%|▎         | 4/131 [00:42<22:32, 10.65s/it]\u001b[A"
     ]
    },
    {
     "name": "stdout",
     "output_type": "stream",
     "text": [
      "tensor(8.8315, device='cuda:0', grad_fn=<MulBackward0>)\n",
      "tensor(14.1470, device='cuda:0', grad_fn=<MulBackward0>)\n",
      "tensor(1075.4423, device='cuda:0', grad_fn=<MulBackward0>)\n",
      "5 tensor(1098.4208, device='cuda:0', grad_fn=<AddBackward0>)\n",
      "4.403395128250122 12.769999599456787 399.6043785095215 416.7777786254883\n"
     ]
    },
    {
     "name": "stderr",
     "output_type": "stream",
     "text": [
      "\n",
      "  4%|▍         | 5/131 [00:52<22:14, 10.59s/it]\u001b[A"
     ]
    },
    {
     "name": "stdout",
     "output_type": "stream",
     "text": [
      "tensor(2.2116, device='cuda:0', grad_fn=<MulBackward0>)\n",
      "tensor(21.7494, device='cuda:0', grad_fn=<MulBackward0>)\n",
      "tensor(4430.9531, device='cuda:0', grad_fn=<MulBackward0>)\n",
      "6 tensor(4454.9141, device='cuda:0', grad_fn=<AddBackward0>)\n",
      "4.038099845250447 14.26656460762024 1071.4958362579346 1089.8004926045735\n"
     ]
    },
    {
     "name": "stderr",
     "output_type": "stream",
     "text": [
      "\n",
      "  5%|▍         | 6/131 [01:03<21:58, 10.55s/it]\u001b[A"
     ]
    },
    {
     "name": "stdout",
     "output_type": "stream",
     "text": [
      "tensor(2.7773, device='cuda:0', grad_fn=<MulBackward0>)\n",
      "tensor(29.8069, device='cuda:0', grad_fn=<MulBackward0>)\n",
      "tensor(13.0600, device='cuda:0', grad_fn=<MulBackward0>)\n",
      "7 tensor(45.6442, device='cuda:0', grad_fn=<AddBackward0>)\n",
      "3.8579862117767334 16.48661606652396 920.2907141276768 940.6353094918387\n"
     ]
    },
    {
     "name": "stderr",
     "output_type": "stream",
     "text": [
      "\n",
      "  5%|▌         | 7/131 [01:13<21:38, 10.47s/it]\u001b[A"
     ]
    },
    {
     "name": "stdout",
     "output_type": "stream",
     "text": [
      "tensor(13.5483, device='cuda:0', grad_fn=<MulBackward0>)\n",
      "tensor(22.0757, device='cuda:0', grad_fn=<MulBackward0>)\n",
      "tensor(1754.4841, device='cuda:0', grad_fn=<MulBackward0>)\n",
      "8 tensor(1790.1080, device='cuda:0', grad_fn=<AddBackward0>)\n",
      "5.069269686937332 17.185252130031586 1024.564891219139 1046.8193998336792\n"
     ]
    },
    {
     "name": "stderr",
     "output_type": "stream",
     "text": [
      "\n",
      "  6%|▌         | 8/131 [01:23<21:22, 10.43s/it]\u001b[A"
     ]
    },
    {
     "name": "stdout",
     "output_type": "stream",
     "text": [
      "tensor(5.0301, device='cuda:0', grad_fn=<MulBackward0>)\n",
      "tensor(12.0712, device='cuda:0', grad_fn=<MulBackward0>)\n",
      "tensor(345.1766, device='cuda:0', grad_fn=<MulBackward0>)\n",
      "9 tensor(362.2780, device='cuda:0', grad_fn=<AddBackward0>)\n",
      "5.064922200308906 16.617024156782364 949.0773038864136 970.7592391967773\n"
     ]
    },
    {
     "name": "stderr",
     "output_type": "stream",
     "text": [
      "\n",
      "  7%|▋         | 9/131 [01:34<21:10, 10.41s/it]\u001b[A"
     ]
    },
    {
     "name": "stdout",
     "output_type": "stream",
     "text": [
      "tensor(4.3664, device='cuda:0', grad_fn=<MulBackward0>)\n",
      "tensor(44.2343, device='cuda:0', grad_fn=<MulBackward0>)\n",
      "tensor(1186.0477, device='cuda:0', grad_fn=<MulBackward0>)\n",
      "10 tensor(1234.6484, device='cuda:0', grad_fn=<AddBackward0>)\n",
      "4.995072674751282 19.37875428199768 972.774346446991 997.1481590270996\n"
     ]
    },
    {
     "name": "stderr",
     "output_type": "stream",
     "text": [
      "\n",
      "  8%|▊         | 10/131 [01:44<20:59, 10.41s/it]\u001b[A"
     ]
    },
    {
     "name": "stdout",
     "output_type": "stream",
     "text": [
      "tensor(1.6194, device='cuda:0', grad_fn=<MulBackward0>)\n",
      "tensor(24.2938, device='cuda:0', grad_fn=<MulBackward0>)\n",
      "tensor(554.0751, device='cuda:0', grad_fn=<MulBackward0>)\n",
      "11 tensor(579.9883, device='cuda:0', grad_fn=<AddBackward0>)\n",
      "4.688189387321472 19.825576825575396 934.7107817042958 959.224533774636\n"
     ]
    },
    {
     "name": "stderr",
     "output_type": "stream",
     "text": [
      "\n",
      "  8%|▊         | 11/131 [01:54<20:47, 10.40s/it]\u001b[A"
     ]
    },
    {
     "name": "stdout",
     "output_type": "stream",
     "text": [
      "tensor(1.9733, device='cuda:0', grad_fn=<MulBackward0>)\n",
      "tensor(16.6534, device='cuda:0', grad_fn=<MulBackward0>)\n",
      "tensor(30.2657, device='cuda:0', grad_fn=<MulBackward0>)\n",
      "12 tensor(48.8925, device='cuda:0', grad_fn=<AddBackward0>)\n",
      "4.461950560410817 19.561232447624207 859.3403578599294 883.3635279337565\n"
     ]
    },
    {
     "name": "stderr",
     "output_type": "stream",
     "text": [
      "\n",
      "  9%|▉         | 12/131 [02:05<20:35, 10.38s/it]\u001b[A"
     ]
    },
    {
     "name": "stdout",
     "output_type": "stream",
     "text": [
      "tensor(14.4274, device='cuda:0', grad_fn=<MulBackward0>)\n",
      "tensor(23.6690, device='cuda:0', grad_fn=<MulBackward0>)\n",
      "tensor(352.7171, device='cuda:0', grad_fn=<MulBackward0>)\n",
      "13 tensor(390.8135, device='cuda:0', grad_fn=<AddBackward0>)\n",
      "5.2285234194535475 19.877215935633732 820.3693381823026 845.4750647911659\n"
     ]
    },
    {
     "name": "stderr",
     "output_type": "stream",
     "text": [
      "\n",
      " 10%|▉         | 13/131 [02:16<20:36, 10.48s/it]\u001b[A"
     ]
    },
    {
     "name": "stdout",
     "output_type": "stream",
     "text": [
      "tensor(3.8465, device='cuda:0', grad_fn=<MulBackward0>)\n",
      "tensor(12.6599, device='cuda:0', grad_fn=<MulBackward0>)\n",
      "tensor(804.5754, device='cuda:0', grad_fn=<MulBackward0>)\n",
      "14 tensor(821.0818, device='cuda:0', grad_fn=<AddBackward0>)\n",
      "5.129803895950317 19.36169225828988 819.24120255879 843.732687813895\n"
     ]
    },
    {
     "name": "stderr",
     "output_type": "stream",
     "text": [
      "\n",
      " 11%|█         | 14/131 [02:26<20:21, 10.44s/it]\u001b[A"
     ]
    },
    {
     "name": "stdout",
     "output_type": "stream",
     "text": [
      "tensor(3.2463, device='cuda:0', grad_fn=<MulBackward0>)\n",
      "tensor(14.1365, device='cuda:0', grad_fn=<MulBackward0>)\n",
      "tensor(23.8698, device='cuda:0', grad_fn=<MulBackward0>)\n",
      "15 tensor(41.2526, device='cuda:0', grad_fn=<AddBackward0>)\n",
      "5.00423838297526 19.013343588511148 766.2164430618286 790.2340148925781\n"
     ]
    },
    {
     "name": "stderr",
     "output_type": "stream",
     "text": [
      "\n",
      " 11%|█▏        | 15/131 [02:36<20:08, 10.42s/it]\u001b[A"
     ]
    },
    {
     "name": "stdout",
     "output_type": "stream",
     "text": [
      "tensor(14.4839, device='cuda:0', grad_fn=<MulBackward0>)\n",
      "tensor(31.1134, device='cuda:0', grad_fn=<MulBackward0>)\n",
      "tensor(361.7827, device='cuda:0', grad_fn=<MulBackward0>)\n",
      "16 tensor(407.3799, device='cuda:0', grad_fn=<AddBackward0>)\n",
      "5.5967167019844055 19.76959565281868 740.9393312335014 766.3056335449219\n"
     ]
    },
    {
     "name": "stderr",
     "output_type": "stream",
     "text": [
      "\n",
      " 12%|█▏        | 16/131 [02:47<19:57, 10.42s/it]\u001b[A"
     ]
    },
    {
     "name": "stdout",
     "output_type": "stream",
     "text": [
      "tensor(16.2966, device='cuda:0', grad_fn=<MulBackward0>)\n",
      "tensor(27.4211, device='cuda:0', grad_fn=<MulBackward0>)\n",
      "tensor(3418.3015, device='cuda:0', grad_fn=<MulBackward0>)\n",
      "17 tensor(3462.0190, device='cuda:0', grad_fn=<AddBackward0>)\n",
      "6.226119041442871 20.219681599560907 898.4312243181116 924.8770105698529\n"
     ]
    },
    {
     "name": "stderr",
     "output_type": "stream",
     "text": [
      "\n",
      " 13%|█▎        | 17/131 [02:57<19:43, 10.38s/it]\u001b[A"
     ]
    },
    {
     "name": "stdout",
     "output_type": "stream",
     "text": [
      "tensor(14.5993, device='cuda:0', grad_fn=<MulBackward0>)\n",
      "tensor(22.3455, device='cuda:0', grad_fn=<MulBackward0>)\n",
      "tensor(2290.8901, device='cuda:0', grad_fn=<MulBackward0>)\n",
      "18 tensor(2327.8350, device='cuda:0', grad_fn=<AddBackward0>)\n",
      "6.691294352213542 20.337783734003704 975.7900527848137 1002.8191189236111\n"
     ]
    },
    {
     "name": "stderr",
     "output_type": "stream",
     "text": [
      "\n",
      " 14%|█▎        | 18/131 [03:07<19:29, 10.35s/it]\u001b[A"
     ]
    },
    {
     "name": "stdout",
     "output_type": "stream",
     "text": [
      "tensor(9.6694, device='cuda:0', grad_fn=<MulBackward0>)\n",
      "tensor(16.6240, device='cuda:0', grad_fn=<MulBackward0>)\n",
      "tensor(2392.9880, device='cuda:0', grad_fn=<MulBackward0>)\n",
      "19 tensor(2419.2815, device='cuda:0', grad_fn=<AddBackward0>)\n",
      "6.8480378201133325 20.142322766153438 1050.3794203808434 1077.3697702508223\n"
     ]
    },
    {
     "name": "stderr",
     "output_type": "stream",
     "text": [
      "\n",
      " 15%|█▍        | 19/131 [03:18<19:19, 10.36s/it]\u001b[A"
     ]
    },
    {
     "name": "stdout",
     "output_type": "stream",
     "text": [
      "tensor(4.0524, device='cuda:0', grad_fn=<MulBackward0>)\n",
      "tensor(12.3179, device='cuda:0', grad_fn=<MulBackward0>)\n",
      "tensor(2947.3298, device='cuda:0', grad_fn=<MulBackward0>)\n",
      "20 tensor(2963.7002, device='cuda:0', grad_fn=<AddBackward0>)\n",
      "6.708254981040954 19.75110242366791 1145.22694106102 1171.6862915039062\n"
     ]
    },
    {
     "name": "stderr",
     "output_type": "stream",
     "text": [
      "\n",
      " 15%|█▌        | 20/131 [03:28<19:10, 10.36s/it]\u001b[A"
     ]
    },
    {
     "name": "stdout",
     "output_type": "stream",
     "text": [
      "tensor(2.0583, device='cuda:0', grad_fn=<MulBackward0>)\n",
      "tensor(13.2807, device='cuda:0', grad_fn=<MulBackward0>)\n",
      "tensor(352.2115, device='cuda:0', grad_fn=<MulBackward0>)\n",
      "21 tensor(367.5505, device='cuda:0', grad_fn=<AddBackward0>)\n",
      "6.486827827635265 19.442988009679887 1107.464303289141 1133.3941127232142\n"
     ]
    },
    {
     "name": "stderr",
     "output_type": "stream",
     "text": [
      "\n",
      " 16%|█▌        | 21/131 [03:38<19:01, 10.38s/it]\u001b[A"
     ]
    },
    {
     "name": "stdout",
     "output_type": "stream",
     "text": [
      "tensor(6.0504, device='cuda:0', grad_fn=<MulBackward0>)\n",
      "tensor(32.3243, device='cuda:0', grad_fn=<MulBackward0>)\n",
      "tensor(245.2885, device='cuda:0', grad_fn=<MulBackward0>)\n",
      "22 tensor(283.6631, device='cuda:0', grad_fn=<AddBackward0>)\n",
      "6.4669880433516065 20.02850248596885 1068.2744939543984 1094.7699779163706\n"
     ]
    },
    {
     "name": "stderr",
     "output_type": "stream",
     "text": [
      "\n",
      " 17%|█▋        | 22/131 [03:49<18:48, 10.36s/it]\u001b[A"
     ]
    },
    {
     "name": "stdout",
     "output_type": "stream",
     "text": [
      "tensor(4.2268, device='cuda:0', grad_fn=<MulBackward0>)\n",
      "tensor(25.3058, device='cuda:0', grad_fn=<MulBackward0>)\n",
      "tensor(71.3738, device='cuda:0', grad_fn=<MulBackward0>)\n",
      "23 tensor(100.9065, device='cuda:0', grad_fn=<AddBackward0>)\n",
      "6.369589701942775 20.257950679115627 1024.9309876068778 1051.5585217683213\n"
     ]
    },
    {
     "name": "stderr",
     "output_type": "stream",
     "text": [
      "\n",
      " 18%|█▊        | 23/131 [03:59<18:38, 10.36s/it]\u001b[A"
     ]
    },
    {
     "name": "stdout",
     "output_type": "stream",
     "text": [
      "tensor(2.7302, device='cuda:0', grad_fn=<MulBackward0>)\n",
      "tensor(8.1027, device='cuda:0', grad_fn=<MulBackward0>)\n",
      "tensor(433.4275, device='cuda:0', grad_fn=<MulBackward0>)\n",
      "24 tensor(444.2604, device='cuda:0', grad_fn=<AddBackward0>)\n",
      "6.2179480890433 19.75148167212804 1000.2850085496902 1026.2544323603313\n"
     ]
    },
    {
     "name": "stderr",
     "output_type": "stream",
     "text": [
      "\n",
      " 18%|█▊        | 24/131 [04:10<18:31, 10.39s/it]\u001b[A"
     ]
    },
    {
     "name": "stdout",
     "output_type": "stream",
     "text": [
      "tensor(1.3751, device='cuda:0', grad_fn=<MulBackward0>)\n",
      "tensor(7.2291, device='cuda:0', grad_fn=<MulBackward0>)\n",
      "tensor(162.2190, device='cuda:0', grad_fn=<MulBackward0>)\n",
      "25 tensor(170.8233, device='cuda:0', grad_fn=<AddBackward0>)\n",
      "6.024235973358154 19.2505859375 966.7623698043823 992.0371859741211\n"
     ]
    },
    {
     "name": "stderr",
     "output_type": "stream",
     "text": [
      "\n",
      " 19%|█▉        | 25/131 [04:20<18:24, 10.42s/it]\u001b[A"
     ]
    },
    {
     "name": "stdout",
     "output_type": "stream",
     "text": [
      "tensor(11.4292, device='cuda:0', grad_fn=<MulBackward0>)\n",
      "tensor(11.1019, device='cuda:0', grad_fn=<MulBackward0>)\n",
      "tensor(2921.4570, device='cuda:0', grad_fn=<MulBackward0>)\n",
      "26 tensor(2943.9880, device='cuda:0', grad_fn=<AddBackward0>)\n",
      "6.232118294789241 18.937174026782696 1041.942933706137 1067.1122187100923\n"
     ]
    },
    {
     "name": "stderr",
     "output_type": "stream",
     "text": [
      "\n",
      " 20%|█▉        | 26/131 [04:30<18:15, 10.43s/it]\u001b[A"
     ]
    },
    {
     "name": "stdout",
     "output_type": "stream",
     "text": [
      "tensor(3.7246, device='cuda:0', grad_fn=<MulBackward0>)\n",
      "tensor(23.2810, device='cuda:0', grad_fn=<MulBackward0>)\n",
      "tensor(191.9700, device='cuda:0', grad_fn=<MulBackward0>)\n",
      "27 tensor(218.9756, device='cuda:0', grad_fn=<AddBackward0>)\n",
      "6.139248212178548 19.098056263393826 1010.4624535949142 1035.699750829626\n"
     ]
    },
    {
     "name": "stderr",
     "output_type": "stream",
     "text": [
      "\n",
      " 21%|██        | 27/131 [04:41<18:02, 10.41s/it]\u001b[A"
     ]
    },
    {
     "name": "stdout",
     "output_type": "stream",
     "text": [
      "tensor(4.1048, device='cuda:0', grad_fn=<MulBackward0>)\n",
      "tensor(14.4152, device='cuda:0', grad_fn=<MulBackward0>)\n",
      "tensor(811.4154, device='cuda:0', grad_fn=<MulBackward0>)\n",
      "28 tensor(829.9354, device='cuda:0', grad_fn=<AddBackward0>)\n",
      "6.066588623183114 18.93081055368696 1003.3536304405758 1028.351022720337\n"
     ]
    },
    {
     "name": "stderr",
     "output_type": "stream",
     "text": [
      "\n",
      " 21%|██▏       | 28/131 [04:51<17:48, 10.37s/it]\u001b[A"
     ]
    },
    {
     "name": "stdout",
     "output_type": "stream",
     "text": [
      "tensor(7.9987, device='cuda:0', grad_fn=<MulBackward0>)\n",
      "tensor(28.6582, device='cuda:0', grad_fn=<MulBackward0>)\n",
      "tensor(1090.6519, device='cuda:0', grad_fn=<MulBackward0>)\n",
      "29 tensor(1127.3087, device='cuda:0', grad_fn=<AddBackward0>)\n",
      "6.133212319735823 19.266236962943243 1006.363914062237 1031.7633569651637\n"
     ]
    },
    {
     "name": "stderr",
     "output_type": "stream",
     "text": [
      "\n",
      " 22%|██▏       | 29/131 [05:02<17:39, 10.39s/it]\u001b[A"
     ]
    },
    {
     "name": "stdout",
     "output_type": "stream",
     "text": [
      "tensor(9.2662, device='cuda:0', grad_fn=<MulBackward0>)\n",
      "tensor(21.0898, device='cuda:0', grad_fn=<MulBackward0>)\n",
      "tensor(1386.4738, device='cuda:0', grad_fn=<MulBackward0>)\n",
      "30 tensor(1416.8298, device='cuda:0', grad_fn=<AddBackward0>)\n",
      "6.23764689763387 19.327023601531984 1019.0342420895894 1044.5989061991374\n"
     ]
    },
    {
     "name": "stderr",
     "output_type": "stream",
     "text": [
      "\n",
      " 23%|██▎       | 30/131 [05:12<17:28, 10.38s/it]\u001b[A"
     ]
    },
    {
     "name": "stdout",
     "output_type": "stream",
     "text": [
      "tensor(1.4153, device='cuda:0', grad_fn=<MulBackward0>)\n",
      "tensor(12.5770, device='cuda:0', grad_fn=<MulBackward0>)\n",
      "tensor(92.9962, device='cuda:0', grad_fn=<MulBackward0>)\n",
      "31 tensor(106.9884, device='cuda:0', grad_fn=<AddBackward0>)\n",
      "6.082086340073617 19.10927987867786 989.1620467093683 1014.3534068446005\n"
     ]
    },
    {
     "name": "stderr",
     "output_type": "stream",
     "text": [
      "\n",
      " 24%|██▎       | 31/131 [05:22<17:20, 10.40s/it]\u001b[A"
     ]
    },
    {
     "name": "stdout",
     "output_type": "stream",
     "text": [
      "tensor(3.1220, device='cuda:0', grad_fn=<MulBackward0>)\n",
      "tensor(15.8678, device='cuda:0', grad_fn=<MulBackward0>)\n",
      "tensor(436.7387, device='cuda:0', grad_fn=<MulBackward0>)\n",
      "32 tensor(455.7286, device='cuda:0', grad_fn=<AddBackward0>)\n",
      "5.989585094153881 19.007984846830368 971.8988164365292 996.8963809013367\n"
     ]
    },
    {
     "name": "stderr",
     "output_type": "stream",
     "text": [
      "\n",
      " 24%|██▍       | 32/131 [05:33<17:07, 10.37s/it]\u001b[A"
     ]
    },
    {
     "name": "stdout",
     "output_type": "stream",
     "text": [
      "tensor(2.3216, device='cuda:0', grad_fn=<MulBackward0>)\n",
      "tensor(13.8203, device='cuda:0', grad_fn=<MulBackward0>)\n",
      "tensor(663.2960, device='cuda:0', grad_fn=<MulBackward0>)\n",
      "33 tensor(679.4378, device='cuda:0', grad_fn=<AddBackward0>)\n",
      "5.878434173988573 18.850781151742645 962.5472147103512 987.2764240611683\n"
     ]
    },
    {
     "name": "stderr",
     "output_type": "stream",
     "text": [
      "\n",
      " 25%|██▌       | 33/131 [05:43<16:57, 10.38s/it]\u001b[A"
     ]
    },
    {
     "name": "stdout",
     "output_type": "stream",
     "text": [
      "tensor(23.3168, device='cuda:0', grad_fn=<MulBackward0>)\n",
      "tensor(31.9278, device='cuda:0', grad_fn=<MulBackward0>)\n",
      "tensor(1202.2153, device='cuda:0', grad_fn=<MulBackward0>)\n",
      "34 tensor(1257.4598, device='cuda:0', grad_fn=<AddBackward0>)\n",
      "6.391325915561003 19.235398769378662 969.5962769844953 995.2229950848748\n"
     ]
    },
    {
     "name": "stderr",
     "output_type": "stream",
     "text": [
      "\n",
      " 26%|██▌       | 34/131 [05:53<16:47, 10.39s/it]\u001b[A"
     ]
    },
    {
     "name": "stdout",
     "output_type": "stream",
     "text": [
      "tensor(2.3953, device='cuda:0', grad_fn=<MulBackward0>)\n",
      "tensor(19.0088, device='cuda:0', grad_fn=<MulBackward0>)\n",
      "tensor(300.0917, device='cuda:0', grad_fn=<MulBackward0>)\n",
      "35 tensor(321.4958, device='cuda:0', grad_fn=<AddBackward0>)\n",
      "6.277154043742589 19.228923443385533 950.467574937003 975.9736463274274\n"
     ]
    },
    {
     "name": "stderr",
     "output_type": "stream",
     "text": [
      "\n",
      " 27%|██▋       | 35/131 [06:04<16:36, 10.38s/it]\u001b[A"
     ]
    },
    {
     "name": "stdout",
     "output_type": "stream",
     "text": [
      "tensor(1.0890, device='cuda:0', grad_fn=<MulBackward0>)\n",
      "tensor(13.5353, device='cuda:0', grad_fn=<MulBackward0>)\n",
      "tensor(51.5717, device='cuda:0', grad_fn=<MulBackward0>)\n",
      "36 tensor(66.1961, device='cuda:0', grad_fn=<AddBackward0>)\n",
      "6.13303921951188 19.07076832983229 925.4982459545135 950.7020475599501\n"
     ]
    },
    {
     "name": "stderr",
     "output_type": "stream",
     "text": [
      "\n",
      " 27%|██▋       | 36/131 [06:15<16:49, 10.63s/it]\u001b[A"
     ]
    },
    {
     "name": "stdout",
     "output_type": "stream",
     "text": [
      "tensor(1.7443, device='cuda:0', grad_fn=<MulBackward0>)\n",
      "tensor(15.4174, device='cuda:0', grad_fn=<MulBackward0>)\n",
      "tensor(366.3446, device='cuda:0', grad_fn=<MulBackward0>)\n",
      "37 tensor(383.5063, device='cuda:0', grad_fn=<AddBackward0>)\n",
      "6.014424117835793 18.972029376674342 910.3859853744507 935.3724332242399\n"
     ]
    },
    {
     "name": "stderr",
     "output_type": "stream",
     "text": [
      "\n",
      " 28%|██▊       | 37/131 [06:25<16:31, 10.55s/it]\u001b[A"
     ]
    },
    {
     "name": "stdout",
     "output_type": "stream",
     "text": [
      "tensor(2.9026, device='cuda:0', grad_fn=<MulBackward0>)\n",
      "tensor(18.2114, device='cuda:0', grad_fn=<MulBackward0>)\n",
      "tensor(140.0986, device='cuda:0', grad_fn=<MulBackward0>)\n",
      "38 tensor(161.2126, device='cuda:0', grad_fn=<AddBackward0>)\n",
      "5.932533810013219 18.952013291810687 890.1152639640005 914.999805651213\n"
     ]
    },
    {
     "name": "stderr",
     "output_type": "stream",
     "text": [
      "\n",
      " 29%|██▉       | 38/131 [06:36<16:16, 10.50s/it]\u001b[A"
     ]
    },
    {
     "name": "stdout",
     "output_type": "stream",
     "text": [
      "tensor(8.1582, device='cuda:0', grad_fn=<MulBackward0>)\n",
      "tensor(4.6621, device='cuda:0', grad_fn=<MulBackward0>)\n",
      "tensor(2628.0835, device='cuda:0', grad_fn=<MulBackward0>)\n",
      "39 tensor(2640.9038, device='cuda:0', grad_fn=<AddBackward0>)\n",
      "5.9896018627362375 18.585605670244266 934.6785519673274 959.2537544446113\n"
     ]
    },
    {
     "name": "stderr",
     "output_type": "stream",
     "text": [
      "\n",
      " 30%|██▉       | 39/131 [06:46<16:04, 10.49s/it]\u001b[A"
     ]
    },
    {
     "name": "stdout",
     "output_type": "stream",
     "text": [
      "tensor(0.9165, device='cuda:0', grad_fn=<MulBackward0>)\n",
      "tensor(16.1518, device='cuda:0', grad_fn=<MulBackward0>)\n",
      "tensor(79.1754, device='cuda:0', grad_fn=<MulBackward0>)\n",
      "40 tensor(96.2437, device='cuda:0', grad_fn=<AddBackward0>)\n",
      "5.862774434685707 18.524760484695435 913.2909723997116 937.6785022735596\n"
     ]
    },
    {
     "name": "stderr",
     "output_type": "stream",
     "text": [
      "\n",
      " 31%|███       | 40/131 [06:57<15:49, 10.44s/it]\u001b[A"
     ]
    },
    {
     "name": "stdout",
     "output_type": "stream",
     "text": [
      "tensor(9.0520, device='cuda:0', grad_fn=<MulBackward0>)\n",
      "tensor(21.5983, device='cuda:0', grad_fn=<MulBackward0>)\n",
      "tensor(211.6817, device='cuda:0', grad_fn=<MulBackward0>)\n",
      "41 tensor(242.3321, device='cuda:0', grad_fn=<AddBackward0>)\n",
      "5.940560611282907 18.599725769787298 896.1785522786582 920.718833737257\n"
     ]
    },
    {
     "name": "stderr",
     "output_type": "stream",
     "text": [
      "\n",
      " 31%|███▏      | 41/131 [07:07<15:38, 10.43s/it]\u001b[A"
     ]
    },
    {
     "name": "stdout",
     "output_type": "stream",
     "text": [
      "tensor(5.6557, device='cuda:0', grad_fn=<MulBackward0>)\n",
      "tensor(24.3498, device='cuda:0', grad_fn=<MulBackward0>)\n",
      "tensor(844.5194, device='cuda:0', grad_fn=<MulBackward0>)\n",
      "42 tensor(874.5249, device='cuda:0', grad_fn=<AddBackward0>)\n",
      "5.933777539503007 18.736632982889812 894.9485726810638 919.6189782278879\n"
     ]
    },
    {
     "name": "stderr",
     "output_type": "stream",
     "text": [
      "\n",
      " 32%|███▏      | 42/131 [07:17<15:25, 10.40s/it]\u001b[A"
     ]
    },
    {
     "name": "stdout",
     "output_type": "stream",
     "text": [
      "tensor(9.0535, device='cuda:0', grad_fn=<MulBackward0>)\n",
      "tensor(34.2855, device='cuda:0', grad_fn=<MulBackward0>)\n",
      "tensor(1908.9860, device='cuda:0', grad_fn=<MulBackward0>)\n",
      "43 tensor(1952.3248, device='cuda:0', grad_fn=<AddBackward0>)\n",
      "6.006328164145004 19.0982336443524 918.5308375469474 943.6353933644849\n"
     ]
    },
    {
     "name": "stderr",
     "output_type": "stream",
     "text": [
      "\n",
      " 33%|███▎      | 43/131 [07:28<15:15, 10.40s/it]\u001b[A"
     ]
    },
    {
     "name": "stdout",
     "output_type": "stream",
     "text": [
      "tensor(2.6443, device='cuda:0', grad_fn=<MulBackward0>)\n",
      "tensor(5.4010, device='cuda:0', grad_fn=<MulBackward0>)\n",
      "tensor(1769.8481, device='cuda:0', grad_fn=<MulBackward0>)\n",
      "44 tensor(1777.8934, device='cuda:0', grad_fn=<AddBackward0>)\n",
      "5.929918514056639 18.78693252260035 937.878958160227 962.5958033475009\n"
     ]
    },
    {
     "name": "stderr",
     "output_type": "stream",
     "text": [
      "\n",
      " 34%|███▎      | 44/131 [07:38<15:04, 10.40s/it]\u001b[A"
     ]
    },
    {
     "name": "stdout",
     "output_type": "stream",
     "text": [
      "tensor(3.5557, device='cuda:0', grad_fn=<MulBackward0>)\n",
      "tensor(28.1058, device='cuda:0', grad_fn=<MulBackward0>)\n",
      "tensor(1996.1711, device='cuda:0', grad_fn=<MulBackward0>)\n",
      "45 tensor(2027.8326, device='cuda:0', grad_fn=<AddBackward0>)\n",
      "5.877159200774299 18.99401831097073 961.3965622584025 986.26773308648\n"
     ]
    },
    {
     "name": "stderr",
     "output_type": "stream",
     "text": [
      "\n",
      " 34%|███▍      | 45/131 [07:49<14:55, 10.41s/it]\u001b[A"
     ]
    },
    {
     "name": "stdout",
     "output_type": "stream",
     "text": [
      "tensor(6.4465, device='cuda:0', grad_fn=<MulBackward0>)\n",
      "tensor(13.6092, device='cuda:0', grad_fn=<MulBackward0>)\n",
      "tensor(4463.3022, device='cuda:0', grad_fn=<MulBackward0>)\n",
      "46 tensor(4483.3579, device='cuda:0', grad_fn=<AddBackward0>)\n",
      "5.8895354659661 18.876957323240198 1037.5249466896057 1062.2914325879967\n"
     ]
    },
    {
     "name": "stderr",
     "output_type": "stream",
     "text": [
      "\n",
      " 35%|███▌      | 46/131 [07:59<14:43, 10.40s/it]\u001b[A"
     ]
    },
    {
     "name": "stdout",
     "output_type": "stream",
     "text": [
      "tensor(7.8167, device='cuda:0', grad_fn=<MulBackward0>)\n",
      "tensor(23.8386, device='cuda:0', grad_fn=<MulBackward0>)\n",
      "tensor(1719.2448, device='cuda:0', grad_fn=<MulBackward0>)\n",
      "47 tensor(1750.9000, device='cuda:0', grad_fn=<AddBackward0>)\n",
      "5.930539605465341 18.98252346160564 1052.0296233765623 1076.9426792225938\n"
     ]
    },
    {
     "name": "stderr",
     "output_type": "stream",
     "text": [
      "\n",
      " 36%|███▌      | 47/131 [08:09<14:31, 10.38s/it]\u001b[A"
     ]
    },
    {
     "name": "stdout",
     "output_type": "stream",
     "text": [
      "tensor(2.8147, device='cuda:0', grad_fn=<MulBackward0>)\n",
      "tensor(9.3456, device='cuda:0', grad_fn=<MulBackward0>)\n",
      "tensor(128.0540, device='cuda:0', grad_fn=<MulBackward0>)\n",
      "48 tensor(140.2143, device='cuda:0', grad_fn=<AddBackward0>)\n",
      "5.8656254932284355 18.781755218903225 1032.7801312406857 1057.427504857381\n"
     ]
    },
    {
     "name": "stderr",
     "output_type": "stream",
     "text": [
      "\n",
      " 37%|███▋      | 48/131 [08:20<14:26, 10.44s/it]\u001b[A"
     ]
    },
    {
     "name": "stdout",
     "output_type": "stream",
     "text": [
      "tensor(4.6695, device='cuda:0', grad_fn=<MulBackward0>)\n",
      "tensor(14.9076, device='cuda:0', grad_fn=<MulBackward0>)\n",
      "tensor(85.2090, device='cuda:0', grad_fn=<MulBackward0>)\n",
      "49 tensor(104.7861, device='cuda:0', grad_fn=<AddBackward0>)\n",
      "5.84121572971344 18.702690445646947 1013.4419445699575 1037.985843892\n"
     ]
    },
    {
     "name": "stderr",
     "output_type": "stream",
     "text": [
      "\n",
      " 37%|███▋      | 49/131 [08:30<14:14, 10.42s/it]\u001b[A"
     ]
    },
    {
     "name": "stdout",
     "output_type": "stream",
     "text": [
      "tensor(4.5274, device='cuda:0', grad_fn=<MulBackward0>)\n",
      "tensor(29.6485, device='cuda:0', grad_fn=<MulBackward0>)\n",
      "tensor(227.7738, device='cuda:0', grad_fn=<MulBackward0>)\n",
      "50 tensor(261.9497, device='cuda:0', grad_fn=<AddBackward0>)\n",
      "5.814939568042755 18.921606187820434 997.7285826683044 1022.4651217651367\n"
     ]
    },
    {
     "name": "stderr",
     "output_type": "stream",
     "text": [
      "\n",
      " 38%|███▊      | 50/131 [08:41<14:01, 10.39s/it]\u001b[A"
     ]
    },
    {
     "name": "stdout",
     "output_type": "stream",
     "text": [
      "tensor(4.5627, device='cuda:0', grad_fn=<MulBackward0>)\n",
      "tensor(19.7697, device='cuda:0', grad_fn=<MulBackward0>)\n",
      "tensor(242.9842, device='cuda:0', grad_fn=<MulBackward0>)\n",
      "51 tensor(267.3166, device='cuda:0', grad_fn=<AddBackward0>)\n",
      "5.790386501480551 18.93823497435626 982.9296730452893 1007.6582877963197\n"
     ]
    },
    {
     "name": "stderr",
     "output_type": "stream",
     "text": [
      "\n",
      " 39%|███▉      | 51/131 [08:51<13:51, 10.39s/it]\u001b[A"
     ]
    },
    {
     "name": "stdout",
     "output_type": "stream",
     "text": [
      "tensor(4.0627, device='cuda:0', grad_fn=<MulBackward0>)\n",
      "tensor(19.6588, device='cuda:0', grad_fn=<MulBackward0>)\n",
      "tensor(80.6900, device='cuda:0', grad_fn=<MulBackward0>)\n",
      "52 tensor(104.4115, device='cuda:0', grad_fn=<AddBackward0>)\n",
      "5.7571617021010475 18.95209254668309 965.578909268746 990.2881569495568\n"
     ]
    },
    {
     "name": "stderr",
     "output_type": "stream",
     "text": [
      "\n",
      " 40%|███▉      | 52/131 [09:01<13:43, 10.42s/it]\u001b[A"
     ]
    },
    {
     "name": "stdout",
     "output_type": "stream",
     "text": [
      "tensor(2.3475, device='cuda:0', grad_fn=<MulBackward0>)\n",
      "tensor(16.4296, device='cuda:0', grad_fn=<MulBackward0>)\n",
      "tensor(800.1463, device='cuda:0', grad_fn=<MulBackward0>)\n",
      "53 tensor(818.9233, device='cuda:0', grad_fn=<AddBackward0>)\n",
      "5.6928282121442395 18.904497551468182 962.4575393064966 987.0548585135982\n"
     ]
    },
    {
     "name": "stderr",
     "output_type": "stream",
     "text": [
      "\n",
      " 40%|████      | 53/131 [09:12<13:34, 10.44s/it]\u001b[A"
     ]
    },
    {
     "name": "stdout",
     "output_type": "stream",
     "text": [
      "tensor(0.9736, device='cuda:0', grad_fn=<MulBackward0>)\n",
      "tensor(17.7170, device='cuda:0', grad_fn=<MulBackward0>)\n",
      "tensor(118.9433, device='cuda:0', grad_fn=<MulBackward0>)\n",
      "54 tensor(137.6339, device='cuda:0', grad_fn=<AddBackward0>)\n",
      "5.605435456390734 18.882506485338563 946.8369053558067 971.3248409695095\n"
     ]
    },
    {
     "name": "stderr",
     "output_type": "stream",
     "text": [
      "\n",
      " 41%|████      | 54/131 [09:22<13:22, 10.42s/it]\u001b[A"
     ]
    },
    {
     "name": "stdout",
     "output_type": "stream",
     "text": [
      "tensor(3.8930, device='cuda:0', grad_fn=<MulBackward0>)\n",
      "tensor(7.3570, device='cuda:0', grad_fn=<MulBackward0>)\n",
      "tensor(3032.5435, device='cuda:0', grad_fn=<MulBackward0>)\n",
      "55 tensor(3043.7935, device='cuda:0', grad_fn=<AddBackward0>)\n",
      "5.5743000171401285 18.672952348535713 984.7588426589966 1009.0060885342684\n"
     ]
    },
    {
     "name": "stderr",
     "output_type": "stream",
     "text": [
      "\n",
      " 42%|████▏     | 55/131 [09:33<13:13, 10.43s/it]\u001b[A"
     ]
    },
    {
     "name": "stdout",
     "output_type": "stream",
     "text": [
      "tensor(13.6334, device='cuda:0', grad_fn=<MulBackward0>)\n",
      "tensor(19.2155, device='cuda:0', grad_fn=<MulBackward0>)\n",
      "tensor(332.0758, device='cuda:0', grad_fn=<MulBackward0>)\n",
      "56 tensor(364.9248, device='cuda:0', grad_fn=<AddBackward0>)\n",
      "5.718213248465743 18.682641276291438 973.1037884269442 997.504636492048\n"
     ]
    },
    {
     "name": "stderr",
     "output_type": "stream",
     "text": [
      "\n",
      " 43%|████▎     | 56/131 [09:43<13:02, 10.43s/it]\u001b[A"
     ]
    },
    {
     "name": "stdout",
     "output_type": "stream",
     "text": [
      "tensor(4.0077, device='cuda:0', grad_fn=<MulBackward0>)\n",
      "tensor(24.4095, device='cuda:0', grad_fn=<MulBackward0>)\n",
      "tensor(86.0389, device='cuda:0', grad_fn=<MulBackward0>)\n",
      "57 tensor(114.4561, device='cuda:0', grad_fn=<AddBackward0>)\n",
      "5.688204402463478 18.783112551036634 957.5412471001608 982.0125577157004\n"
     ]
    },
    {
     "name": "stderr",
     "output_type": "stream",
     "text": [
      "\n",
      " 44%|████▎     | 57/131 [09:53<12:48, 10.39s/it]\u001b[A"
     ]
    },
    {
     "name": "stdout",
     "output_type": "stream",
     "text": [
      "tensor(2.4845, device='cuda:0', grad_fn=<MulBackward0>)\n",
      "tensor(11.1912, device='cuda:0', grad_fn=<MulBackward0>)\n",
      "tensor(143.8031, device='cuda:0', grad_fn=<MulBackward0>)\n",
      "58 tensor(157.4789, device='cuda:0', grad_fn=<AddBackward0>)\n",
      "5.632968772074272 18.652216853766607 943.5112798460599 967.7964593295393\n"
     ]
    },
    {
     "name": "stderr",
     "output_type": "stream",
     "text": [
      "\n",
      " 44%|████▍     | 58/131 [10:04<12:38, 10.38s/it]\u001b[A"
     ]
    },
    {
     "name": "stdout",
     "output_type": "stream",
     "text": [
      "tensor(6.1003, device='cuda:0', grad_fn=<MulBackward0>)\n",
      "tensor(15.1282, device='cuda:0', grad_fn=<MulBackward0>)\n",
      "tensor(984.4429, device='cuda:0', grad_fn=<MulBackward0>)\n",
      "59 tensor(1005.6714, device='cuda:0', grad_fn=<AddBackward0>)\n",
      "5.640890300273895 18.59248761807458 944.205035629919 968.4384072513903\n"
     ]
    },
    {
     "name": "stderr",
     "output_type": "stream",
     "text": [
      "\n",
      " 45%|████▌     | 59/131 [10:14<12:27, 10.38s/it]\u001b[A"
     ]
    },
    {
     "name": "stdout",
     "output_type": "stream",
     "text": [
      "tensor(3.0192, device='cuda:0', grad_fn=<MulBackward0>)\n",
      "tensor(15.9999, device='cuda:0', grad_fn=<MulBackward0>)\n",
      "tensor(48.4238, device='cuda:0', grad_fn=<MulBackward0>)\n",
      "60 tensor(67.4429, device='cuda:0', grad_fn=<AddBackward0>)\n",
      "5.597195193171501 18.54927810827891 929.2753480752309 953.4218152364095\n"
     ]
    },
    {
     "name": "stderr",
     "output_type": "stream",
     "text": [
      "\n",
      " 46%|████▌     | 60/131 [10:25<12:16, 10.37s/it]\u001b[A"
     ]
    },
    {
     "name": "stdout",
     "output_type": "stream",
     "text": [
      "tensor(0.6678, device='cuda:0', grad_fn=<MulBackward0>)\n",
      "tensor(12.7358, device='cuda:0', grad_fn=<MulBackward0>)\n",
      "tensor(57.7973, device='cuda:0', grad_fn=<MulBackward0>)\n",
      "61 tensor(71.2010, device='cuda:0', grad_fn=<AddBackward0>)\n",
      "5.516385445829298 18.453975560235197 914.9888231089858 938.9591781115922\n"
     ]
    },
    {
     "name": "stderr",
     "output_type": "stream",
     "text": [
      "\n",
      " 47%|████▋     | 61/131 [10:35<12:05, 10.37s/it]\u001b[A"
     ]
    },
    {
     "name": "stdout",
     "output_type": "stream",
     "text": [
      "tensor(2.4954, device='cuda:0', grad_fn=<MulBackward0>)\n",
      "tensor(7.5995, device='cuda:0', grad_fn=<MulBackward0>)\n",
      "tensor(200.4571, device='cuda:0', grad_fn=<MulBackward0>)\n",
      "62 tensor(210.5520, device='cuda:0', grad_fn=<AddBackward0>)\n",
      "5.467659334982595 18.278904068854548 903.4641182653365 927.2106757625456\n"
     ]
    },
    {
     "name": "stderr",
     "output_type": "stream",
     "text": [
      "\n",
      " 47%|████▋     | 62/131 [10:45<11:55, 10.37s/it]\u001b[A"
     ]
    },
    {
     "name": "stdout",
     "output_type": "stream",
     "text": [
      "tensor(2.9726, device='cuda:0', grad_fn=<MulBackward0>)\n",
      "tensor(24.8641, device='cuda:0', grad_fn=<MulBackward0>)\n",
      "tensor(103.8514, device='cuda:0', grad_fn=<MulBackward0>)\n",
      "63 tensor(131.6881, device='cuda:0', grad_fn=<AddBackward0>)\n",
      "5.428055679987347 18.383431374080597 890.771852447873 914.5833336966379\n"
     ]
    },
    {
     "name": "stderr",
     "output_type": "stream",
     "text": [
      "\n",
      " 48%|████▊     | 63/131 [10:56<11:44, 10.36s/it]\u001b[A"
     ]
    },
    {
     "name": "stdout",
     "output_type": "stream",
     "text": [
      "tensor(2.7925, device='cuda:0', grad_fn=<MulBackward0>)\n",
      "tensor(30.7132, device='cuda:0', grad_fn=<MulBackward0>)\n",
      "tensor(250.8395, device='cuda:0', grad_fn=<MulBackward0>)\n",
      "64 tensor(284.3453, device='cuda:0', grad_fn=<AddBackward0>)\n",
      "5.386875599622726 18.576084658503532 880.7729098051786 904.7358645200729\n"
     ]
    },
    {
     "name": "stderr",
     "output_type": "stream",
     "text": [
      "\n",
      " 49%|████▉     | 64/131 [11:06<11:33, 10.36s/it]\u001b[A"
     ]
    },
    {
     "name": "stdout",
     "output_type": "stream",
     "text": [
      "tensor(11.7259, device='cuda:0', grad_fn=<MulBackward0>)\n",
      "tensor(16.9010, device='cuda:0', grad_fn=<MulBackward0>)\n",
      "tensor(1154.9628, device='cuda:0', grad_fn=<MulBackward0>)\n",
      "65 tensor(1183.5896, device='cuda:0', grad_fn=<AddBackward0>)\n",
      "5.484398856529823 18.550313700162448 884.9912153244019 909.0259219829853\n"
     ]
    },
    {
     "name": "stderr",
     "output_type": "stream",
     "text": [
      "\n",
      " 50%|████▉     | 65/131 [11:16<11:23, 10.36s/it]\u001b[A"
     ]
    },
    {
     "name": "stdout",
     "output_type": "stream",
     "text": [
      "tensor(6.9790, device='cuda:0', grad_fn=<MulBackward0>)\n",
      "tensor(34.5311, device='cuda:0', grad_fn=<MulBackward0>)\n",
      "tensor(76.8508, device='cuda:0', grad_fn=<MulBackward0>)\n",
      "66 tensor(118.3608, device='cuda:0', grad_fn=<AddBackward0>)\n",
      "5.507044329787746 18.792446382117994 872.7466629924196 897.0461478955818\n"
     ]
    },
    {
     "name": "stderr",
     "output_type": "stream",
     "text": [
      "\n",
      " 50%|█████     | 66/131 [11:27<11:14, 10.38s/it]\u001b[A"
     ]
    },
    {
     "name": "stdout",
     "output_type": "stream",
     "text": [
      "tensor(43.4902, device='cuda:0', grad_fn=<MulBackward0>)\n",
      "tensor(16.2065, device='cuda:0', grad_fn=<MulBackward0>)\n",
      "tensor(3978.2039, device='cuda:0', grad_fn=<MulBackward0>)\n",
      "67 tensor(4037.9006, device='cuda:0', grad_fn=<AddBackward0>)\n",
      "6.073957727916205 18.753849812407992 919.0967703719638 943.9245730727466\n"
     ]
    },
    {
     "name": "stderr",
     "output_type": "stream",
     "text": [
      "\n",
      " 51%|█████     | 67/131 [11:37<11:05, 10.39s/it]\u001b[A"
     ]
    },
    {
     "name": "stdout",
     "output_type": "stream",
     "text": [
      "tensor(3.0229, device='cuda:0', grad_fn=<MulBackward0>)\n",
      "tensor(16.0356, device='cuda:0', grad_fn=<MulBackward0>)\n",
      "tensor(679.5795, device='cuda:0', grad_fn=<MulBackward0>)\n",
      "68 tensor(698.6380, device='cuda:0', grad_fn=<AddBackward0>)\n",
      "6.029089194886825 18.71387614923365 915.574457098456 940.3174175935633\n"
     ]
    },
    {
     "name": "stderr",
     "output_type": "stream",
     "text": [
      "\n",
      " 52%|█████▏    | 68/131 [11:48<10:57, 10.44s/it]\u001b[A"
     ]
    },
    {
     "name": "stdout",
     "output_type": "stream",
     "text": [
      "tensor(1.8989, device='cuda:0', grad_fn=<MulBackward0>)\n",
      "tensor(6.9646, device='cuda:0', grad_fn=<MulBackward0>)\n",
      "tensor(1704.6936, device='cuda:0', grad_fn=<MulBackward0>)\n",
      "69 tensor(1713.5570, device='cuda:0', grad_fn=<AddBackward0>)\n",
      "5.969230942104174 18.543596551038217 927.0109664668207 951.5237884521484\n"
     ]
    },
    {
     "name": "stderr",
     "output_type": "stream",
     "text": [
      "\n",
      " 53%|█████▎    | 69/131 [11:58<10:48, 10.46s/it]\u001b[A"
     ]
    },
    {
     "name": "stdout",
     "output_type": "stream",
     "text": [
      "tensor(2.5035, device='cuda:0', grad_fn=<MulBackward0>)\n",
      "tensor(20.4932, device='cuda:0', grad_fn=<MulBackward0>)\n",
      "tensor(20.6338, device='cuda:0', grad_fn=<MulBackward0>)\n",
      "70 tensor(43.6305, device='cuda:0', grad_fn=<AddBackward0>)\n",
      "5.919720666749137 18.57144751548767 914.0627215930393 938.5538843427386\n"
     ]
    },
    {
     "name": "stderr",
     "output_type": "stream",
     "text": [
      "\n",
      " 53%|█████▎    | 70/131 [12:09<10:37, 10.45s/it]\u001b[A"
     ]
    },
    {
     "name": "stdout",
     "output_type": "stream",
     "text": [
      "tensor(2.0310, device='cuda:0', grad_fn=<MulBackward0>)\n",
      "tensor(14.3601, device='cuda:0', grad_fn=<MulBackward0>)\n",
      "tensor(6.4968, device='cuda:0', grad_fn=<MulBackward0>)\n",
      "71 tensor(22.8878, device='cuda:0', grad_fn=<AddBackward0>)\n",
      "5.8649492666754925 18.512133094626414 901.2801024678728 925.6571794697936\n"
     ]
    },
    {
     "name": "stderr",
     "output_type": "stream",
     "text": [
      "\n",
      " 54%|█████▍    | 71/131 [12:19<10:24, 10.41s/it]\u001b[A"
     ]
    },
    {
     "name": "stdout",
     "output_type": "stream",
     "text": [
      "tensor(4.3614, device='cuda:0', grad_fn=<MulBackward0>)\n",
      "tensor(15.8662, device='cuda:0', grad_fn=<MulBackward0>)\n",
      "tensor(326.3806, device='cuda:0', grad_fn=<MulBackward0>)\n",
      "72 tensor(346.6081, device='cuda:0', grad_fn=<AddBackward0>)\n",
      "5.844066043694814 18.475383910867905 893.295386519697 917.6148310502371\n"
     ]
    },
    {
     "name": "stderr",
     "output_type": "stream",
     "text": [
      "\n",
      " 55%|█████▍    | 72/131 [12:29<10:11, 10.36s/it]\u001b[A"
     ]
    },
    {
     "name": "stdout",
     "output_type": "stream",
     "text": [
      "tensor(6.3981, device='cuda:0', grad_fn=<MulBackward0>)\n",
      "tensor(22.1143, device='cuda:0', grad_fn=<MulBackward0>)\n",
      "tensor(85.3170, device='cuda:0', grad_fn=<MulBackward0>)\n",
      "73 tensor(113.8294, device='cuda:0', grad_fn=<AddBackward0>)\n",
      "5.851654973748612 18.525231994994698 882.2271898805278 906.6040714995502\n"
     ]
    },
    {
     "name": "stderr",
     "output_type": "stream",
     "text": [
      "\n",
      " 56%|█████▌    | 73/131 [12:40<10:00, 10.36s/it]\u001b[A"
     ]
    },
    {
     "name": "stdout",
     "output_type": "stream",
     "text": [
      "tensor(1.1819, device='cuda:0', grad_fn=<MulBackward0>)\n",
      "tensor(8.9894, device='cuda:0', grad_fn=<MulBackward0>)\n",
      "tensor(373.3174, device='cuda:0', grad_fn=<MulBackward0>)\n",
      "74 tensor(383.4887, device='cuda:0', grad_fn=<AddBackward0>)\n",
      "5.788550372059281 18.39636898685146 875.350031150354 899.5349453848761\n"
     ]
    },
    {
     "name": "stderr",
     "output_type": "stream",
     "text": [
      "\n",
      " 56%|█████▋    | 74/131 [12:50<09:50, 10.36s/it]\u001b[A"
     ]
    },
    {
     "name": "stdout",
     "output_type": "stream",
     "text": [
      "tensor(1.5857, device='cuda:0', grad_fn=<MulBackward0>)\n",
      "tensor(4.4224, device='cuda:0', grad_fn=<MulBackward0>)\n",
      "tensor(319.7881, device='cuda:0', grad_fn=<MulBackward0>)\n",
      "75 tensor(325.7963, device='cuda:0', grad_fn=<AddBackward0>)\n",
      "5.732512982686361 18.21004887898763 867.9425393613179 891.8850963083903\n"
     ]
    },
    {
     "name": "stderr",
     "output_type": "stream",
     "text": [
      "\n",
      " 57%|█████▋    | 75/131 [13:00<09:39, 10.35s/it]\u001b[A"
     ]
    },
    {
     "name": "stdout",
     "output_type": "stream",
     "text": [
      "tensor(2.1314, device='cuda:0', grad_fn=<MulBackward0>)\n",
      "tensor(22.0428, device='cuda:0', grad_fn=<MulBackward0>)\n",
      "tensor(813.9760, device='cuda:0', grad_fn=<MulBackward0>)\n",
      "76 tensor(838.1502, device='cuda:0', grad_fn=<AddBackward0>)\n",
      "5.685130175791289 18.26048012783653 867.2324526874643 891.1780582980106\n"
     ]
    },
    {
     "name": "stderr",
     "output_type": "stream",
     "text": [
      "\n",
      " 58%|█████▊    | 76/131 [13:11<09:30, 10.37s/it]\u001b[A"
     ]
    },
    {
     "name": "stdout",
     "output_type": "stream",
     "text": [
      "tensor(2.1064, device='cuda:0', grad_fn=<MulBackward0>)\n",
      "tensor(9.9252, device='cuda:0', grad_fn=<MulBackward0>)\n",
      "tensor(208.2441, device='cuda:0', grad_fn=<MulBackward0>)\n",
      "77 tensor(220.2757, device='cuda:0', grad_fn=<AddBackward0>)\n",
      "5.638652820091743 18.152229284311268 858.6741627222532 882.4650402069092\n"
     ]
    },
    {
     "name": "stderr",
     "output_type": "stream",
     "text": [
      "\n",
      " 59%|█████▉    | 77/131 [13:21<09:17, 10.33s/it]\u001b[A"
     ]
    },
    {
     "name": "stdout",
     "output_type": "stream",
     "text": [
      "tensor(3.5929, device='cuda:0', grad_fn=<MulBackward0>)\n",
      "tensor(17.1547, device='cuda:0', grad_fn=<MulBackward0>)\n",
      "tensor(1268.6887, device='cuda:0', grad_fn=<MulBackward0>)\n",
      "78 tensor(1289.4363, device='cuda:0', grad_fn=<AddBackward0>)\n",
      "5.612425113335634 18.13944046313946 863.9307596194438 887.6826201952421\n"
     ]
    },
    {
     "name": "stderr",
     "output_type": "stream",
     "text": [
      "\n",
      " 60%|█████▉    | 78/131 [13:31<09:07, 10.33s/it]\u001b[A"
     ]
    },
    {
     "name": "stdout",
     "output_type": "stream",
     "text": [
      "tensor(6.6710, device='cuda:0', grad_fn=<MulBackward0>)\n",
      "tensor(16.8069, device='cuda:0', grad_fn=<MulBackward0>)\n",
      "tensor(121.2008, device='cuda:0', grad_fn=<MulBackward0>)\n",
      "79 tensor(144.6787, device='cuda:0', grad_fn=<AddBackward0>)\n",
      "5.6258247592781165 18.12257329723503 854.529114342943 878.2775074198277\n"
     ]
    },
    {
     "name": "stderr",
     "output_type": "stream",
     "text": [
      "\n",
      " 60%|██████    | 79/131 [13:42<08:57, 10.34s/it]\u001b[A"
     ]
    },
    {
     "name": "stdout",
     "output_type": "stream",
     "text": [
      "tensor(4.6166, device='cuda:0', grad_fn=<MulBackward0>)\n",
      "tensor(46.1322, device='cuda:0', grad_fn=<MulBackward0>)\n",
      "tensor(119.2350, device='cuda:0', grad_fn=<MulBackward0>)\n",
      "80 tensor(169.9838, device='cuda:0', grad_fn=<AddBackward0>)\n",
      "5.61320993900299 18.472693037986755 845.3379384934902 869.4238365888596\n"
     ]
    },
    {
     "name": "stderr",
     "output_type": "stream",
     "text": [
      "\n",
      " 61%|██████    | 80/131 [13:52<08:48, 10.36s/it]\u001b[A"
     ]
    },
    {
     "name": "stdout",
     "output_type": "stream",
     "text": [
      "tensor(1.9814, device='cuda:0', grad_fn=<MulBackward0>)\n",
      "tensor(9.5514, device='cuda:0', grad_fn=<MulBackward0>)\n",
      "tensor(1437.8453, device='cuda:0', grad_fn=<MulBackward0>)\n",
      "81 tensor(1449.3782, device='cuda:0', grad_fn=<AddBackward0>)\n",
      "5.568372315830654 18.36255387906675 852.6528446468307 876.5837666782332\n"
     ]
    },
    {
     "name": "stderr",
     "output_type": "stream",
     "text": [
      "\n",
      " 62%|██████▏   | 81/131 [14:02<08:37, 10.35s/it]\u001b[A"
     ]
    },
    {
     "name": "stdout",
     "output_type": "stream",
     "text": [
      "tensor(13.8750, device='cuda:0', grad_fn=<MulBackward0>)\n",
      "tensor(30.4594, device='cuda:0', grad_fn=<MulBackward0>)\n",
      "tensor(22.3109, device='cuda:0', grad_fn=<MulBackward0>)\n",
      "82 tensor(66.6453, device='cuda:0', grad_fn=<AddBackward0>)\n",
      "5.669672606921777 18.510076697279768 842.526722971986 866.7064681402067\n"
     ]
    },
    {
     "name": "stderr",
     "output_type": "stream",
     "text": [
      "\n",
      " 63%|██████▎   | 82/131 [14:13<08:28, 10.37s/it]\u001b[A"
     ]
    },
    {
     "name": "stdout",
     "output_type": "stream",
     "text": [
      "tensor(4.8187, device='cuda:0', grad_fn=<MulBackward0>)\n",
      "tensor(27.6035, device='cuda:0', grad_fn=<MulBackward0>)\n",
      "tensor(47.1655, device='cuda:0', grad_fn=<MulBackward0>)\n",
      "83 tensor(79.5877, device='cuda:0', grad_fn=<AddBackward0>)\n",
      "5.659420227429953 18.61963624839323 832.9440573209739 857.2231097623526\n"
     ]
    },
    {
     "name": "stderr",
     "output_type": "stream",
     "text": [
      "\n",
      " 63%|██████▎   | 83/131 [14:23<08:17, 10.37s/it]\u001b[A"
     ]
    },
    {
     "name": "stdout",
     "output_type": "stream",
     "text": [
      "tensor(1.7149, device='cuda:0', grad_fn=<MulBackward0>)\n",
      "tensor(5.9670, device='cuda:0', grad_fn=<MulBackward0>)\n",
      "tensor(43.7179, device='cuda:0', grad_fn=<MulBackward0>)\n",
      "84 tensor(51.3999, device='cuda:0', grad_fn=<AddBackward0>)\n",
      "5.6124621743247625 18.469009529976617 823.5485080934707 847.6299757957458\n"
     ]
    },
    {
     "name": "stderr",
     "output_type": "stream",
     "text": [
      "\n",
      " 64%|██████▍   | 84/131 [14:33<08:06, 10.35s/it]\u001b[A"
     ]
    },
    {
     "name": "stdout",
     "output_type": "stream",
     "text": [
      "tensor(5.1988, device='cuda:0', grad_fn=<MulBackward0>)\n",
      "tensor(6.9316, device='cuda:0', grad_fn=<MulBackward0>)\n",
      "tensor(1372.9949, device='cuda:0', grad_fn=<MulBackward0>)\n",
      "85 tensor(1385.1252, device='cuda:0', grad_fn=<AddBackward0>)\n",
      "5.607594994937672 18.333274846918442 830.0125829752753 853.9534495409797\n"
     ]
    },
    {
     "name": "stderr",
     "output_type": "stream",
     "text": [
      "\n",
      " 65%|██████▍   | 85/131 [14:44<08:03, 10.52s/it]\u001b[A"
     ]
    },
    {
     "name": "stdout",
     "output_type": "stream",
     "text": [
      "tensor(1.7632, device='cuda:0', grad_fn=<MulBackward0>)\n",
      "tensor(27.1679, device='cuda:0', grad_fn=<MulBackward0>)\n",
      "tensor(59.9926, device='cuda:0', grad_fn=<MulBackward0>)\n",
      "86 tensor(88.9237, device='cuda:0', grad_fn=<AddBackward0>)\n",
      "5.562893049661503 18.43600298083106 821.0588617934737 845.057754583137\n"
     ]
    },
    {
     "name": "stderr",
     "output_type": "stream",
     "text": [
      "\n",
      " 66%|██████▌   | 86/131 [14:55<07:50, 10.46s/it]\u001b[A"
     ]
    },
    {
     "name": "stdout",
     "output_type": "stream",
     "text": [
      "tensor(5.1630, device='cuda:0', grad_fn=<MulBackward0>)\n",
      "tensor(11.3033, device='cuda:0', grad_fn=<MulBackward0>)\n",
      "tensor(886.2760, device='cuda:0', grad_fn=<MulBackward0>)\n",
      "87 tensor(902.7423, device='cuda:0', grad_fn=<AddBackward0>)\n",
      "5.5582969956014345 18.354017898954194 821.8084840829345 845.7207954450586\n"
     ]
    },
    {
     "name": "stderr",
     "output_type": "stream",
     "text": [
      "\n",
      " 66%|██████▋   | 87/131 [15:05<07:38, 10.42s/it]\u001b[A"
     ]
    },
    {
     "name": "stdout",
     "output_type": "stream",
     "text": [
      "tensor(4.2600, device='cuda:0', grad_fn=<MulBackward0>)\n",
      "tensor(30.2393, device='cuda:0', grad_fn=<MulBackward0>)\n",
      "tensor(19.4876, device='cuda:0', grad_fn=<MulBackward0>)\n",
      "88 tensor(53.9869, device='cuda:0', grad_fn=<AddBackward0>)\n",
      "5.54354375871745 18.489078310402956 812.6912008794872 836.7238194508986\n"
     ]
    },
    {
     "name": "stderr",
     "output_type": "stream",
     "text": [
      "\n",
      " 67%|██████▋   | 88/131 [15:15<07:27, 10.42s/it]\u001b[A"
     ]
    },
    {
     "name": "stdout",
     "output_type": "stream",
     "text": [
      "tensor(1.7398, device='cuda:0', grad_fn=<MulBackward0>)\n",
      "tensor(6.0880, device='cuda:0', grad_fn=<MulBackward0>)\n",
      "tensor(242.2588, device='cuda:0', grad_fn=<MulBackward0>)\n",
      "89 tensor(250.0866, device='cuda:0', grad_fn=<AddBackward0>)\n",
      "5.500804811381222 18.349740569511155 806.2818477662762 830.1323897758226\n"
     ]
    },
    {
     "name": "stderr",
     "output_type": "stream",
     "text": [
      "\n",
      " 68%|██████▊   | 89/131 [15:26<07:15, 10.38s/it]\u001b[A"
     ]
    },
    {
     "name": "stdout",
     "output_type": "stream",
     "text": [
      "tensor(10.7579, device='cuda:0', grad_fn=<MulBackward0>)\n",
      "tensor(32.8999, device='cuda:0', grad_fn=<MulBackward0>)\n",
      "tensor(1740.7970, device='cuda:0', grad_fn=<MulBackward0>)\n",
      "90 tensor(1784.4548, device='cuda:0', grad_fn=<AddBackward0>)\n",
      "5.55921658012602 18.511409287982517 816.6653494252099 840.735972489251\n"
     ]
    },
    {
     "name": "stderr",
     "output_type": "stream",
     "text": [
      "\n",
      " 69%|██████▊   | 90/131 [15:36<07:05, 10.37s/it]\u001b[A"
     ]
    },
    {
     "name": "stdout",
     "output_type": "stream",
     "text": [
      "tensor(4.2159, device='cuda:0', grad_fn=<MulBackward0>)\n",
      "tensor(10.9155, device='cuda:0', grad_fn=<MulBackward0>)\n",
      "tensor(859.9136, device='cuda:0', grad_fn=<MulBackward0>)\n",
      "91 tensor(875.0449, device='cuda:0', grad_fn=<AddBackward0>)\n",
      "5.544454979372548 18.42793734519036 817.1406046427213 841.1129939110724\n"
     ]
    },
    {
     "name": "stderr",
     "output_type": "stream",
     "text": [
      "\n",
      " 69%|██████▉   | 91/131 [15:47<06:55, 10.39s/it]\u001b[A"
     ]
    },
    {
     "name": "stdout",
     "output_type": "stream",
     "text": [
      "tensor(2.8647, device='cuda:0', grad_fn=<MulBackward0>)\n",
      "tensor(48.8118, device='cuda:0', grad_fn=<MulBackward0>)\n",
      "tensor(5.7426, device='cuda:0', grad_fn=<MulBackward0>)\n",
      "92 tensor(57.4191, device='cuda:0', grad_fn=<AddBackward0>)\n",
      "5.515327172434849 18.7581969499588 808.3210610721422 832.5945821637692\n"
     ]
    },
    {
     "name": "stderr",
     "output_type": "stream",
     "text": [
      "\n",
      " 70%|███████   | 92/131 [15:57<06:46, 10.42s/it]\u001b[A"
     ]
    },
    {
     "name": "stdout",
     "output_type": "stream",
     "text": [
      "tensor(14.4531, device='cuda:0', grad_fn=<MulBackward0>)\n",
      "tensor(11.4798, device='cuda:0', grad_fn=<MulBackward0>)\n",
      "tensor(349.3420, device='cuda:0', grad_fn=<MulBackward0>)\n",
      "93 tensor(375.2749, device='cuda:0', grad_fn=<AddBackward0>)\n",
      "5.611431735818104 18.67993446575698 803.3858027919646 827.67716592358\n"
     ]
    },
    {
     "name": "stderr",
     "output_type": "stream",
     "text": [
      "\n",
      " 71%|███████   | 93/131 [16:07<06:34, 10.38s/it]\u001b[A"
     ]
    },
    {
     "name": "stdout",
     "output_type": "stream",
     "text": [
      "tensor(9.3396, device='cuda:0', grad_fn=<MulBackward0>)\n",
      "tensor(31.2175, device='cuda:0', grad_fn=<MulBackward0>)\n",
      "tensor(1121.1588, device='cuda:0', grad_fn=<MulBackward0>)\n",
      "94 tensor(1161.7159, device='cuda:0', grad_fn=<AddBackward0>)\n",
      "5.65109273093812 18.8133129312637 806.7663667354178 831.2307699284655\n"
     ]
    },
    {
     "name": "stderr",
     "output_type": "stream",
     "text": [
      "\n",
      " 72%|███████▏  | 94/131 [16:18<06:24, 10.39s/it]\u001b[A"
     ]
    },
    {
     "name": "stdout",
     "output_type": "stream",
     "text": [
      "tensor(6.0929, device='cuda:0', grad_fn=<MulBackward0>)\n",
      "tensor(21.5607, device='cuda:0', grad_fn=<MulBackward0>)\n",
      "tensor(964.5946, device='cuda:0', grad_fn=<MulBackward0>)\n",
      "95 tensor(992.2482, device='cuda:0', grad_fn=<AddBackward0>)\n",
      "5.65574304053658 18.842233050496954 808.4277166065417 832.9256905605919\n"
     ]
    },
    {
     "name": "stderr",
     "output_type": "stream",
     "text": [
      "\n",
      " 73%|███████▎  | 95/131 [16:28<06:13, 10.39s/it]\u001b[A"
     ]
    },
    {
     "name": "stdout",
     "output_type": "stream",
     "text": [
      "tensor(2.1309, device='cuda:0', grad_fn=<MulBackward0>)\n",
      "tensor(27.9400, device='cuda:0', grad_fn=<MulBackward0>)\n",
      "tensor(460.0324, device='cuda:0', grad_fn=<MulBackward0>)\n",
      "96 tensor(490.1033, device='cuda:0', grad_fn=<AddBackward0>)\n",
      "5.619025738288959 18.937001700202625 804.7985985080401 829.3546236952146\n"
     ]
    },
    {
     "name": "stderr",
     "output_type": "stream",
     "text": [
      "\n",
      " 73%|███████▎  | 96/131 [16:39<06:04, 10.41s/it]\u001b[A"
     ]
    },
    {
     "name": "stdout",
     "output_type": "stream",
     "text": [
      "tensor(1.9717, device='cuda:0', grad_fn=<MulBackward0>)\n",
      "tensor(35.1085, device='cuda:0', grad_fn=<MulBackward0>)\n",
      "tensor(49.3406, device='cuda:0', grad_fn=<MulBackward0>)\n",
      "97 tensor(86.4208, device='cuda:0', grad_fn=<AddBackward0>)\n",
      "5.581424570575203 19.10371819230699 797.0103719848947 821.695512496319\n"
     ]
    },
    {
     "name": "stderr",
     "output_type": "stream",
     "text": [
      "\n",
      " 74%|███████▍  | 97/131 [16:49<05:53, 10.39s/it]\u001b[A"
     ]
    },
    {
     "name": "stdout",
     "output_type": "stream",
     "text": [
      "tensor(4.1813, device='cuda:0', grad_fn=<MulBackward0>)\n",
      "tensor(20.7841, device='cuda:0', grad_fn=<MulBackward0>)\n",
      "tensor(1054.7330, device='cuda:0', grad_fn=<MulBackward0>)\n",
      "98 tensor(1079.6985, device='cuda:0', grad_fn=<AddBackward0>)\n",
      "5.567137698737943 19.12086490222386 799.6401950485853 824.328195902766\n"
     ]
    },
    {
     "name": "stderr",
     "output_type": "stream",
     "text": [
      "\n",
      " 75%|███████▍  | 98/131 [16:59<05:41, 10.35s/it]\u001b[A"
     ]
    },
    {
     "name": "stdout",
     "output_type": "stream",
     "text": [
      "tensor(2.5903, device='cuda:0', grad_fn=<MulBackward0>)\n",
      "tensor(9.1368, device='cuda:0', grad_fn=<MulBackward0>)\n",
      "tensor(571.6173, device='cuda:0', grad_fn=<MulBackward0>)\n",
      "99 tensor(583.3444, device='cuda:0', grad_fn=<AddBackward0>)\n",
      "5.537068371820932 19.020015798433864 797.3369335791077 821.8940157456832\n"
     ]
    },
    {
     "name": "stderr",
     "output_type": "stream",
     "text": [
      "\n",
      " 76%|███████▌  | 99/131 [17:09<05:31, 10.35s/it]\u001b[A"
     ]
    },
    {
     "name": "stdout",
     "output_type": "stream",
     "text": [
      "tensor(1.7516, device='cuda:0', grad_fn=<MulBackward0>)\n",
      "tensor(8.7436, device='cuda:0', grad_fn=<MulBackward0>)\n",
      "tensor(158.5415, device='cuda:0', grad_fn=<MulBackward0>)\n",
      "100 tensor(169.0367, device='cuda:0', grad_fn=<AddBackward0>)\n",
      "5.4992133438587185 18.91725139141083 790.9489792823791 815.3654421043396\n"
     ]
    },
    {
     "name": "stderr",
     "output_type": "stream",
     "text": [
      "\n",
      " 76%|███████▋  | 100/131 [17:20<05:22, 10.39s/it]\u001b[A"
     ]
    },
    {
     "name": "stdout",
     "output_type": "stream",
     "text": [
      "tensor(2.1997, device='cuda:0', grad_fn=<MulBackward0>)\n",
      "tensor(10.7590, device='cuda:0', grad_fn=<MulBackward0>)\n",
      "tensor(787.8242, device='cuda:0', grad_fn=<MulBackward0>)\n",
      "101 tensor(800.7828, device='cuda:0', grad_fn=<AddBackward0>)\n",
      "5.466545028261619 18.83647622684441 790.9180404549778 815.2210598747329\n"
     ]
    },
    {
     "name": "stderr",
     "output_type": "stream",
     "text": [
      "\n",
      " 77%|███████▋  | 101/131 [17:30<05:12, 10.42s/it]\u001b[A"
     ]
    },
    {
     "name": "stdout",
     "output_type": "stream",
     "text": [
      "tensor(0.8602, device='cuda:0', grad_fn=<MulBackward0>)\n",
      "tensor(15.8686, device='cuda:0', grad_fn=<MulBackward0>)\n",
      "tensor(65.7913, device='cuda:0', grad_fn=<MulBackward0>)\n",
      "102 tensor(82.5200, device='cuda:0', grad_fn=<AddBackward0>)\n",
      "5.421384380728591 18.807378979290235 783.808954968172 808.0377164915496\n"
     ]
    },
    {
     "name": "stderr",
     "output_type": "stream",
     "text": [
      "\n",
      " 78%|███████▊  | 102/131 [17:41<05:01, 10.41s/it]\u001b[A"
     ]
    },
    {
     "name": "stdout",
     "output_type": "stream",
     "text": [
      "tensor(9.0846, device='cuda:0', grad_fn=<MulBackward0>)\n",
      "tensor(20.8977, device='cuda:0', grad_fn=<MulBackward0>)\n",
      "tensor(332.9500, device='cuda:0', grad_fn=<MulBackward0>)\n",
      "103 tensor(362.9323, device='cuda:0', grad_fn=<AddBackward0>)\n",
      "5.456949751932644 18.827673444470154 779.4316836792289 803.7163050938578\n"
     ]
    },
    {
     "name": "stderr",
     "output_type": "stream",
     "text": [
      "\n",
      " 79%|███████▊  | 103/131 [17:51<04:50, 10.39s/it]\u001b[A"
     ]
    },
    {
     "name": "stdout",
     "output_type": "stream",
     "text": [
      "tensor(15.3963, device='cuda:0', grad_fn=<MulBackward0>)\n",
      "tensor(36.3532, device='cuda:0', grad_fn=<MulBackward0>)\n",
      "tensor(59.9415, device='cuda:0', grad_fn=<MulBackward0>)\n",
      "104 tensor(111.6910, device='cuda:0', grad_fn=<AddBackward0>)\n",
      "5.55252052213137 18.99618826004175 772.5135089250712 797.062215933433\n"
     ]
    },
    {
     "name": "stderr",
     "output_type": "stream",
     "text": [
      "\n",
      " 79%|███████▉  | 104/131 [18:02<04:40, 10.39s/it]\u001b[A"
     ]
    },
    {
     "name": "stdout",
     "output_type": "stream",
     "text": [
      "tensor(3.8085, device='cuda:0', grad_fn=<MulBackward0>)\n",
      "tensor(13.0821, device='cuda:0', grad_fn=<MulBackward0>)\n",
      "tensor(337.6508, device='cuda:0', grad_fn=<MulBackward0>)\n",
      "105 tensor(354.5413, device='cuda:0', grad_fn=<AddBackward0>)\n",
      "5.535910340150197 18.939863245827812 768.3719594864618 792.8477312178838\n"
     ]
    },
    {
     "name": "stderr",
     "output_type": "stream",
     "text": [
      "\n",
      " 80%|████████  | 105/131 [18:12<04:30, 10.39s/it]\u001b[A"
     ]
    },
    {
     "name": "stdout",
     "output_type": "stream",
     "text": [
      "tensor(3.4759, device='cuda:0', grad_fn=<MulBackward0>)\n",
      "tensor(29.2436, device='cuda:0', grad_fn=<MulBackward0>)\n",
      "tensor(786.6490, device='cuda:0', grad_fn=<MulBackward0>)\n",
      "106 tensor(819.3685, device='cuda:0', grad_fn=<AddBackward0>)\n",
      "5.516476095285055 19.037068137582743 768.5443842725933 793.0979268595858\n"
     ]
    },
    {
     "name": "stderr",
     "output_type": "stream",
     "text": [
      "\n",
      " 81%|████████  | 106/131 [18:22<04:20, 10.41s/it]\u001b[A"
     ]
    },
    {
     "name": "stdout",
     "output_type": "stream",
     "text": [
      "tensor(8.4461, device='cuda:0', grad_fn=<MulBackward0>)\n",
      "tensor(28.6885, device='cuda:0', grad_fn=<MulBackward0>)\n",
      "tensor(644.2926, device='cuda:0', grad_fn=<MulBackward0>)\n",
      "107 tensor(681.4271, device='cuda:0', grad_fn=<AddBackward0>)\n",
      "5.543855439279681 19.127268020237718 767.3831526676071 792.0542744966311\n"
     ]
    },
    {
     "name": "stderr",
     "output_type": "stream",
     "text": [
      "\n",
      " 82%|████████▏ | 107/131 [18:33<04:10, 10.44s/it]\u001b[A"
     ]
    },
    {
     "name": "stdout",
     "output_type": "stream",
     "text": [
      "tensor(1.9107, device='cuda:0', grad_fn=<MulBackward0>)\n",
      "tensor(10.4847, device='cuda:0', grad_fn=<MulBackward0>)\n",
      "tensor(3895.9856, device='cuda:0', grad_fn=<MulBackward0>)\n",
      "108 tensor(3908.3811, device='cuda:0', grad_fn=<AddBackward0>)\n",
      "5.510215335973987 19.047244447248953 796.3516938068249 820.9091525431032\n"
     ]
    },
    {
     "name": "stderr",
     "output_type": "stream",
     "text": [
      "\n",
      " 82%|████████▏ | 108/131 [18:43<04:00, 10.45s/it]\u001b[A"
     ]
    },
    {
     "name": "stdout",
     "output_type": "stream",
     "text": [
      "tensor(5.0680, device='cuda:0', grad_fn=<MulBackward0>)\n",
      "tensor(15.8995, device='cuda:0', grad_fn=<MulBackward0>)\n",
      "tensor(621.9809, device='cuda:0', grad_fn=<MulBackward0>)\n",
      "109 tensor(642.9484, device='cuda:0', grad_fn=<AddBackward0>)\n",
      "5.506158129337731 19.018366240580146 794.7519617168182 819.2764847606694\n"
     ]
    },
    {
     "name": "stderr",
     "output_type": "stream",
     "text": [
      "\n",
      " 83%|████████▎ | 109/131 [18:54<03:50, 10.48s/it]\u001b[A"
     ]
    },
    {
     "name": "stdout",
     "output_type": "stream",
     "text": [
      "tensor(7.3485, device='cuda:0', grad_fn=<MulBackward0>)\n",
      "tensor(13.3427, device='cuda:0', grad_fn=<MulBackward0>)\n",
      "tensor(2096.1199, device='cuda:0', grad_fn=<MulBackward0>)\n",
      "110 tensor(2116.8110, device='cuda:0', grad_fn=<AddBackward0>)\n",
      "5.522907136245207 18.966769517551768 806.582579092546 831.0722534006292\n"
     ]
    },
    {
     "name": "stderr",
     "output_type": "stream",
     "text": [
      "\n",
      " 84%|████████▍ | 110/131 [19:04<03:40, 10.48s/it]\u001b[A"
     ]
    },
    {
     "name": "stdout",
     "output_type": "stream",
     "text": [
      "tensor(7.4822, device='cuda:0', grad_fn=<MulBackward0>)\n",
      "tensor(8.7458, device='cuda:0', grad_fn=<MulBackward0>)\n",
      "tensor(138.2884, device='cuda:0', grad_fn=<MulBackward0>)\n",
      "111 tensor(154.5164, device='cuda:0', grad_fn=<AddBackward0>)\n",
      "5.540558716735324 18.874688453502483 800.5619111447721 824.9771560634579\n"
     ]
    },
    {
     "name": "stderr",
     "output_type": "stream",
     "text": [
      "\n",
      " 85%|████████▍ | 111/131 [19:15<03:29, 10.47s/it]\u001b[A"
     ]
    },
    {
     "name": "stdout",
     "output_type": "stream",
     "text": [
      "tensor(3.4746, device='cuda:0', grad_fn=<MulBackward0>)\n",
      "tensor(23.1072, device='cuda:0', grad_fn=<MulBackward0>)\n",
      "tensor(95.2472, device='cuda:0', grad_fn=<MulBackward0>)\n",
      "112 tensor(121.8290, device='cuda:0', grad_fn=<AddBackward0>)\n",
      "5.522112953343561 18.912478706666402 794.2644582986832 818.699047752789\n"
     ]
    },
    {
     "name": "stderr",
     "output_type": "stream",
     "text": [
      "\n",
      " 85%|████████▌ | 112/131 [19:25<03:19, 10.48s/it]\u001b[A"
     ]
    },
    {
     "name": "stdout",
     "output_type": "stream",
     "text": [
      "tensor(4.6511, device='cuda:0', grad_fn=<MulBackward0>)\n",
      "tensor(8.0295, device='cuda:0', grad_fn=<MulBackward0>)\n",
      "tensor(2782.5537, device='cuda:0', grad_fn=<MulBackward0>)\n",
      "113 tensor(2795.2344, device='cuda:0', grad_fn=<AddBackward0>)\n",
      "5.514405111823462 18.816169447603478 811.8599384105311 836.1905108257732\n"
     ]
    },
    {
     "name": "stderr",
     "output_type": "stream",
     "text": [
      "\n",
      " 86%|████████▋ | 113/131 [19:36<03:07, 10.44s/it]\u001b[A"
     ]
    },
    {
     "name": "stdout",
     "output_type": "stream",
     "text": [
      "tensor(7.8974, device='cuda:0', grad_fn=<MulBackward0>)\n",
      "tensor(22.0788, device='cuda:0', grad_fn=<MulBackward0>)\n",
      "tensor(643.9488, device='cuda:0', grad_fn=<MulBackward0>)\n",
      "114 tensor(673.9249, device='cuda:0', grad_fn=<AddBackward0>)\n",
      "5.535308269555109 18.844788965425995 810.3870336131046 834.7671285093876\n"
     ]
    },
    {
     "name": "stderr",
     "output_type": "stream",
     "text": [
      "\n",
      " 87%|████████▋ | 114/131 [19:46<02:58, 10.48s/it]\u001b[A"
     ]
    },
    {
     "name": "stdout",
     "output_type": "stream",
     "text": [
      "tensor(15.7820, device='cuda:0', grad_fn=<MulBackward0>)\n",
      "tensor(22.6646, device='cuda:0', grad_fn=<MulBackward0>)\n",
      "tensor(198.8528, device='cuda:0', grad_fn=<MulBackward0>)\n",
      "115 tensor(237.2994, device='cuda:0', grad_fn=<AddBackward0>)\n",
      "5.624410281492316 18.878004783132802 805.0693443464196 829.5717570263406\n"
     ]
    },
    {
     "name": "stderr",
     "output_type": "stream",
     "text": [
      "\n",
      " 88%|████████▊ | 115/131 [19:57<02:47, 10.46s/it]\u001b[A"
     ]
    },
    {
     "name": "stdout",
     "output_type": "stream",
     "text": [
      "tensor(32.4125, device='cuda:0', grad_fn=<MulBackward0>)\n",
      "tensor(24.8944, device='cuda:0', grad_fn=<MulBackward0>)\n",
      "tensor(2019.8268, device='cuda:0', grad_fn=<MulBackward0>)\n",
      "116 tensor(2077.1335, device='cuda:0', grad_fn=<AddBackward0>)\n",
      "5.855341977600394 18.929869927208998 815.5413912246967 840.32660002544\n"
     ]
    },
    {
     "name": "stderr",
     "output_type": "stream",
     "text": [
      "\n",
      " 89%|████████▊ | 116/131 [20:07<02:36, 10.41s/it]\u001b[A"
     ]
    },
    {
     "name": "stdout",
     "output_type": "stream",
     "text": [
      "tensor(10.7647, device='cuda:0', grad_fn=<MulBackward0>)\n",
      "tensor(12.0886, device='cuda:0', grad_fn=<MulBackward0>)\n",
      "tensor(3531.6604, device='cuda:0', grad_fn=<MulBackward0>)\n",
      "117 tensor(3554.5137, device='cuda:0', grad_fn=<AddBackward0>)\n",
      "5.897302587317605 18.871397169227276 838.7560836107303 863.5247801267184\n"
     ]
    },
    {
     "name": "stderr",
     "output_type": "stream",
     "text": [
      "\n",
      " 89%|████████▉ | 117/131 [20:17<02:25, 10.40s/it]\u001b[A"
     ]
    },
    {
     "name": "stdout",
     "output_type": "stream",
     "text": [
      "tensor(2.2816, device='cuda:0', grad_fn=<MulBackward0>)\n",
      "tensor(10.0015, device='cuda:0', grad_fn=<MulBackward0>)\n",
      "tensor(1878.6267, device='cuda:0', grad_fn=<MulBackward0>)\n",
      "118 tensor(1890.9099, device='cuda:0', grad_fn=<AddBackward0>)\n",
      "5.866661191491757 18.79622892201957 847.5685465376256 872.2314337875883\n"
     ]
    },
    {
     "name": "stderr",
     "output_type": "stream",
     "text": [
      "\n",
      " 90%|█████████ | 118/131 [20:28<02:14, 10.36s/it]\u001b[A"
     ]
    },
    {
     "name": "stdout",
     "output_type": "stream",
     "text": [
      "tensor(3.2314, device='cuda:0', grad_fn=<MulBackward0>)\n",
      "tensor(20.0583, device='cuda:0', grad_fn=<MulBackward0>)\n",
      "tensor(570.0721, device='cuda:0', grad_fn=<MulBackward0>)\n",
      "119 tensor(593.3618, device='cuda:0', grad_fn=<AddBackward0>)\n",
      "5.844516462137719 18.806834433259084 845.23664347865 869.8879916247199\n"
     ]
    },
    {
     "name": "stderr",
     "output_type": "stream",
     "text": [
      "\n",
      " 91%|█████████ | 119/131 [20:38<02:04, 10.39s/it]\u001b[A"
     ]
    },
    {
     "name": "stdout",
     "output_type": "stream",
     "text": [
      "tensor(6.7950, device='cuda:0', grad_fn=<MulBackward0>)\n",
      "tensor(30.6683, device='cuda:0', grad_fn=<MulBackward0>)\n",
      "tensor(207.2560, device='cuda:0', grad_fn=<MulBackward0>)\n",
      "120 tensor(244.7193, device='cuda:0', grad_fn=<AddBackward0>)\n",
      "5.852437556286653 18.90567988952001 839.9201377073924 864.678252394994\n"
     ]
    },
    {
     "name": "stderr",
     "output_type": "stream",
     "text": [
      "\n",
      " 92%|█████████▏| 120/131 [20:49<01:54, 10.41s/it]\u001b[A"
     ]
    },
    {
     "name": "stdout",
     "output_type": "stream",
     "text": [
      "tensor(12.6337, device='cuda:0', grad_fn=<MulBackward0>)\n",
      "tensor(25.1315, device='cuda:0', grad_fn=<MulBackward0>)\n",
      "tensor(625.3167, device='cuda:0', grad_fn=<MulBackward0>)\n",
      "121 tensor(663.0820, device='cuda:0', grad_fn=<AddBackward0>)\n",
      "5.908481389530434 18.957133170986964 838.1465556720071 863.0121674182986\n"
     ]
    },
    {
     "name": "stderr",
     "output_type": "stream",
     "text": [
      "\n",
      " 92%|█████████▏| 121/131 [20:59<01:44, 10.42s/it]\u001b[A"
     ]
    },
    {
     "name": "stdout",
     "output_type": "stream",
     "text": [
      "tensor(3.8322, device='cuda:0', grad_fn=<MulBackward0>)\n",
      "tensor(32.9846, device='cuda:0', grad_fn=<MulBackward0>)\n",
      "tensor(32.3637, device='cuda:0', grad_fn=<MulBackward0>)\n",
      "122 tensor(69.1805, device='cuda:0', grad_fn=<AddBackward0>)\n",
      "5.891462844414789 19.072112095160563 831.541778204871 856.5053503161571\n"
     ]
    },
    {
     "name": "stderr",
     "output_type": "stream",
     "text": [
      "\n",
      " 93%|█████████▎| 122/131 [21:09<01:33, 10.43s/it]\u001b[A"
     ]
    },
    {
     "name": "stdout",
     "output_type": "stream",
     "text": [
      "tensor(2.8095, device='cuda:0', grad_fn=<MulBackward0>)\n",
      "tensor(20.1590, device='cuda:0', grad_fn=<MulBackward0>)\n",
      "tensor(167.3005, device='cuda:0', grad_fn=<MulBackward0>)\n",
      "123 tensor(190.2690, device='cuda:0', grad_fn=<AddBackward0>)\n",
      "5.866406487740152 19.080948445855118 826.1414427873565 851.0887949718692\n"
     ]
    },
    {
     "name": "stderr",
     "output_type": "stream",
     "text": [
      "\n",
      " 94%|█████████▍| 123/131 [21:20<01:23, 10.44s/it]\u001b[A"
     ]
    },
    {
     "name": "stdout",
     "output_type": "stream",
     "text": [
      "tensor(1.6597, device='cuda:0', grad_fn=<MulBackward0>)\n",
      "tensor(10.0601, device='cuda:0', grad_fn=<MulBackward0>)\n",
      "tensor(143.0687, device='cuda:0', grad_fn=<MulBackward0>)\n",
      "124 tensor(154.7885, device='cuda:0', grad_fn=<AddBackward0>)\n",
      "5.8324817375790685 19.008199434126578 820.6327915960743 845.4734699956832\n"
     ]
    },
    {
     "name": "stderr",
     "output_type": "stream",
     "text": [
      "\n",
      " 95%|█████████▍| 124/131 [21:30<01:13, 10.45s/it]\u001b[A"
     ]
    },
    {
     "name": "stdout",
     "output_type": "stream",
     "text": [
      "tensor(5.0913, device='cuda:0', grad_fn=<MulBackward0>)\n",
      "tensor(15.3858, device='cuda:0', grad_fn=<MulBackward0>)\n",
      "tensor(101.2712, device='cuda:0', grad_fn=<MulBackward0>)\n",
      "125 tensor(121.7483, device='cuda:0', grad_fn=<AddBackward0>)\n",
      "5.826552241802216 18.97922017288208 814.8778988189697 839.6836685028076\n"
     ]
    },
    {
     "name": "stderr",
     "output_type": "stream",
     "text": [
      "\n",
      " 95%|█████████▌| 125/131 [21:41<01:02, 10.44s/it]\u001b[A"
     ]
    },
    {
     "name": "stdout",
     "output_type": "stream",
     "text": [
      "tensor(6.2582, device='cuda:0', grad_fn=<MulBackward0>)\n",
      "tensor(23.7209, device='cuda:0', grad_fn=<MulBackward0>)\n",
      "tensor(1815.6311, device='cuda:0', grad_fn=<MulBackward0>)\n",
      "126 tensor(1845.6102, device='cuda:0', grad_fn=<AddBackward0>)\n",
      "5.829978382303601 19.016852261528136 822.8203845705305 847.667212637644\n"
     ]
    },
    {
     "name": "stderr",
     "output_type": "stream",
     "text": [
      "\n",
      " 96%|█████████▌| 126/131 [21:51<00:52, 10.48s/it]\u001b[A"
     ]
    },
    {
     "name": "stdout",
     "output_type": "stream",
     "text": [
      "tensor(9.0673, device='cuda:0', grad_fn=<MulBackward0>)\n",
      "tensor(25.2727, device='cuda:0', grad_fn=<MulBackward0>)\n",
      "tensor(469.6421, device='cuda:0', grad_fn=<MulBackward0>)\n",
      "127 tensor(503.9821, device='cuda:0', grad_fn=<AddBackward0>)\n",
      "5.855469200085468 19.06611120043777 820.0394531159889 844.961031020157\n"
     ]
    },
    {
     "name": "stderr",
     "output_type": "stream",
     "text": [
      "\n",
      " 97%|█████████▋| 127/131 [22:02<00:41, 10.45s/it]\u001b[A"
     ]
    },
    {
     "name": "stdout",
     "output_type": "stream",
     "text": [
      "tensor(5.5630, device='cuda:0', grad_fn=<MulBackward0>)\n",
      "tensor(16.6595, device='cuda:0', grad_fn=<MulBackward0>)\n",
      "tensor(697.5610, device='cuda:0', grad_fn=<MulBackward0>)\n",
      "128 tensor(719.7834, device='cuda:0', grad_fn=<AddBackward0>)\n",
      "5.853184535633773 19.047309312969446 819.0825899988413 843.9830811470747\n"
     ]
    },
    {
     "name": "stderr",
     "output_type": "stream",
     "text": [
      "\n",
      " 98%|█████████▊| 128/131 [22:12<00:31, 10.45s/it]\u001b[A"
     ]
    },
    {
     "name": "stdout",
     "output_type": "stream",
     "text": [
      "tensor(7.0176, device='cuda:0', grad_fn=<MulBackward0>)\n",
      "tensor(39.0348, device='cuda:0', grad_fn=<MulBackward0>)\n",
      "tensor(52.6903, device='cuda:0', grad_fn=<MulBackward0>)\n",
      "129 tensor(98.7427, device='cuda:0', grad_fn=<AddBackward0>)\n",
      "5.862211119758991 19.20225084659665 813.1415643765945 838.2060236228529\n"
     ]
    },
    {
     "name": "stderr",
     "output_type": "stream",
     "text": [
      "\n",
      " 98%|█████████▊| 129/131 [22:23<00:20, 10.41s/it]\u001b[A"
     ]
    },
    {
     "name": "stdout",
     "output_type": "stream",
     "text": [
      "tensor(0.8278, device='cuda:0', grad_fn=<MulBackward0>)\n",
      "tensor(13.0461, device='cuda:0', grad_fn=<MulBackward0>)\n",
      "tensor(11.7455, device='cuda:0', grad_fn=<MulBackward0>)\n",
      "130 tensor(25.6194, device='cuda:0', grad_fn=<AddBackward0>)\n",
      "5.823484533566695 19.154895881506114 806.9769795197707 831.9553572287926\n"
     ]
    },
    {
     "name": "stderr",
     "output_type": "stream",
     "text": [
      "\n",
      " 99%|█████████▉| 130/131 [22:33<00:10, 10.40s/it]\u001b[A"
     ]
    },
    {
     "name": "stdout",
     "output_type": "stream",
     "text": [
      "tensor(6.9866e-05, device='cuda:0', grad_fn=<MulBackward0>)\n",
      "tensor(0.7289, device='cuda:0', grad_fn=<MulBackward0>)\n",
      "tensor(6.4339, device='cuda:0', grad_fn=<MulBackward0>)\n",
      "131 tensor(7.1629, device='cuda:0', grad_fn=<AddBackward0>)\n",
      "5.779030986483149 19.014239506867096 800.8659639940917 825.6592318010694\n"
     ]
    },
    {
     "name": "stderr",
     "output_type": "stream",
     "text": [
      "\n",
      "100%|██████████| 131/131 [22:40<00:00,  9.47s/it]\u001b[A\n",
      "  0%|          | 0/131 [00:00<?, ?it/s]\u001b[A"
     ]
    },
    {
     "name": "stdout",
     "output_type": "stream",
     "text": [
      "epoch_cohe_loss 5.779030986483149\n",
      "epoch_occ_loss 19.014239506867096\n",
      "epoch_flow_loss 800.8659639940917\n",
      "epoch_total_loss 825.6592318010694\n",
      "tensor(1.8237, device='cuda:0', grad_fn=<MulBackward0>)\n",
      "tensor(22.1781, device='cuda:0', grad_fn=<MulBackward0>)\n",
      "tensor(77.8213, device='cuda:0', grad_fn=<MulBackward0>)\n",
      "1 tensor(101.8232, device='cuda:0', grad_fn=<AddBackward0>)\n",
      "1.8237329721450806 22.178131103515625 77.8213119506836 101.82317352294922\n"
     ]
    },
    {
     "name": "stderr",
     "output_type": "stream",
     "text": [
      "\n",
      "  1%|          | 1/131 [00:11<24:01, 11.09s/it]\u001b[A"
     ]
    },
    {
     "name": "stdout",
     "output_type": "stream",
     "text": [
      "tensor(6.0121, device='cuda:0', grad_fn=<MulBackward0>)\n",
      "tensor(10.8155, device='cuda:0', grad_fn=<MulBackward0>)\n",
      "tensor(14067.3438, device='cuda:0', grad_fn=<MulBackward0>)\n",
      "2 tensor(14084.1709, device='cuda:0', grad_fn=<AddBackward0>)\n",
      "3.9179099202156067 16.49683141708374 7072.582530975342 7092.997035980225\n"
     ]
    },
    {
     "name": "stderr",
     "output_type": "stream",
     "text": [
      "\n",
      "  2%|▏         | 2/131 [00:21<23:22, 10.87s/it]\u001b[A"
     ]
    },
    {
     "name": "stdout",
     "output_type": "stream",
     "text": [
      "tensor(3.0870, device='cuda:0', grad_fn=<MulBackward0>)\n",
      "tensor(12.3223, device='cuda:0', grad_fn=<MulBackward0>)\n",
      "tensor(1054.8290, device='cuda:0', grad_fn=<MulBackward0>)\n",
      "3 tensor(1070.2383, device='cuda:0', grad_fn=<AddBackward0>)\n",
      "3.6409257650375366 15.105321248372396 5066.664680480957 5085.410784403483\n"
     ]
    },
    {
     "name": "stderr",
     "output_type": "stream",
     "text": [
      "\n",
      "  2%|▏         | 3/131 [00:31<22:57, 10.76s/it]\u001b[A"
     ]
    },
    {
     "name": "stdout",
     "output_type": "stream",
     "text": [
      "tensor(12.8885, device='cuda:0', grad_fn=<MulBackward0>)\n",
      "tensor(27.9002, device='cuda:0', grad_fn=<MulBackward0>)\n",
      "tensor(405.2795, device='cuda:0', grad_fn=<MulBackward0>)\n",
      "4 tensor(446.0682, device='cuda:0', grad_fn=<AddBackward0>)\n",
      "5.95282581448555 18.30404758453369 3901.318380355835 3925.575147628784\n"
     ]
    },
    {
     "name": "stderr",
     "output_type": "stream",
     "text": [
      "\n",
      "  3%|▎         | 4/131 [00:42<22:27, 10.61s/it]\u001b[A"
     ]
    },
    {
     "name": "stdout",
     "output_type": "stream",
     "text": [
      "tensor(1.3343, device='cuda:0', grad_fn=<MulBackward0>)\n",
      "tensor(16.4959, device='cuda:0', grad_fn=<MulBackward0>)\n",
      "tensor(59.8025, device='cuda:0', grad_fn=<MulBackward0>)\n",
      "5 tensor(77.6327, device='cuda:0', grad_fn=<AddBackward0>)\n",
      "5.029119610786438 17.94241409301758 3133.0152000427247 3155.9866485595703\n"
     ]
    },
    {
     "name": "stderr",
     "output_type": "stream",
     "text": [
      "\n",
      "  4%|▍         | 5/131 [00:52<22:04, 10.51s/it]\u001b[A"
     ]
    },
    {
     "name": "stdout",
     "output_type": "stream",
     "text": [
      "tensor(6.3049, device='cuda:0', grad_fn=<MulBackward0>)\n",
      "tensor(16.3092, device='cuda:0', grad_fn=<MulBackward0>)\n",
      "tensor(190.8911, device='cuda:0', grad_fn=<MulBackward0>)\n",
      "6 tensor(213.5051, device='cuda:0', grad_fn=<AddBackward0>)\n",
      "5.241751134395599 17.670207977294922 2642.6611754099526 2665.5730641682944\n"
     ]
    },
    {
     "name": "stderr",
     "output_type": "stream",
     "text": [
      "\n",
      "  5%|▍         | 6/131 [01:02<21:47, 10.46s/it]\u001b[A"
     ]
    },
    {
     "name": "stdout",
     "output_type": "stream",
     "text": [
      "tensor(5.5461, device='cuda:0', grad_fn=<MulBackward0>)\n",
      "tensor(19.7223, device='cuda:0', grad_fn=<MulBackward0>)\n",
      "tensor(428.6387, device='cuda:0', grad_fn=<MulBackward0>)\n",
      "7 tensor(453.9071, device='cuda:0', grad_fn=<AddBackward0>)\n",
      "5.285232833453587 17.96335928780692 2326.372250693185 2349.6207842145645\n"
     ]
    },
    {
     "name": "stderr",
     "output_type": "stream",
     "text": [
      "\n",
      "  5%|▌         | 7/131 [01:13<21:39, 10.48s/it]\u001b[A"
     ]
    },
    {
     "name": "stdout",
     "output_type": "stream",
     "text": [
      "tensor(2.5478, device='cuda:0', grad_fn=<MulBackward0>)\n",
      "tensor(16.0734, device='cuda:0', grad_fn=<MulBackward0>)\n",
      "tensor(2079.9224, device='cuda:0', grad_fn=<MulBackward0>)\n",
      "8 tensor(2098.5437, device='cuda:0', grad_fn=<AddBackward0>)\n",
      "4.943058326840401 17.72711944580078 2295.566014766693 2318.2361488342285\n"
     ]
    },
    {
     "name": "stderr",
     "output_type": "stream",
     "text": [
      "\n",
      "  6%|▌         | 8/131 [01:23<21:22, 10.43s/it]\u001b[A"
     ]
    },
    {
     "name": "stdout",
     "output_type": "stream",
     "text": [
      "tensor(12.9672, device='cuda:0', grad_fn=<MulBackward0>)\n",
      "tensor(13.6193, device='cuda:0', grad_fn=<MulBackward0>)\n",
      "tensor(784371.5625, device='cuda:0', grad_fn=<MulBackward0>)\n",
      "9 tensor(784398.1250, device='cuda:0', grad_fn=<AddBackward0>)\n",
      "5.834628277354771 17.27069992489285 89192.89895757039 89216.00157674153\n"
     ]
    },
    {
     "name": "stderr",
     "output_type": "stream",
     "text": [
      "\n",
      "  7%|▋         | 9/131 [01:34<21:08, 10.40s/it]\u001b[A"
     ]
    },
    {
     "name": "stdout",
     "output_type": "stream",
     "text": [
      "tensor(1.9826, device='cuda:0', grad_fn=<MulBackward0>)\n",
      "tensor(21.7011, device='cuda:0', grad_fn=<MulBackward0>)\n",
      "tensor(636.0244, device='cuda:0', grad_fn=<MulBackward0>)\n",
      "10 tensor(659.7082, device='cuda:0', grad_fn=<AddBackward0>)\n",
      "5.449429202079773 17.713743877410888 80337.2115032196 80360.37223815918\n"
     ]
    },
    {
     "name": "stderr",
     "output_type": "stream",
     "text": [
      "\n",
      "  8%|▊         | 10/131 [01:44<20:56, 10.38s/it]\u001b[A"
     ]
    },
    {
     "name": "stdout",
     "output_type": "stream",
     "text": [
      "tensor(14.3777, device='cuda:0', grad_fn=<MulBackward0>)\n",
      "tensor(13.5328, device='cuda:0', grad_fn=<MulBackward0>)\n",
      "tensor(6305.4062, device='cuda:0', grad_fn=<MulBackward0>)\n",
      "11 tensor(6333.3169, device='cuda:0', grad_fn=<AddBackward0>)\n",
      "6.26108566197482 17.333654923872515 73607.04738929054 73630.63993419301\n"
     ]
    },
    {
     "name": "stderr",
     "output_type": "stream",
     "text": [
      "\n",
      "  8%|▊         | 11/131 [01:54<20:44, 10.37s/it]\u001b[A"
     ]
    },
    {
     "name": "stdout",
     "output_type": "stream",
     "text": [
      "tensor(0.7944, device='cuda:0', grad_fn=<MulBackward0>)\n",
      "tensor(17.0442, device='cuda:0', grad_fn=<MulBackward0>)\n",
      "tensor(127.4795, device='cuda:0', grad_fn=<MulBackward0>)\n",
      "12 tensor(145.3182, device='cuda:0', grad_fn=<AddBackward0>)\n",
      "5.805531814694405 17.309532165527344 67483.75006898244 67506.86311976115\n"
     ]
    },
    {
     "name": "stderr",
     "output_type": "stream",
     "text": [
      "\n",
      "  9%|▉         | 12/131 [02:05<20:39, 10.42s/it]\u001b[A"
     ]
    },
    {
     "name": "stdout",
     "output_type": "stream",
     "text": [
      "tensor(3.2452, device='cuda:0', grad_fn=<MulBackward0>)\n",
      "tensor(28.5172, device='cuda:0', grad_fn=<MulBackward0>)\n",
      "tensor(126.6054, device='cuda:0', grad_fn=<MulBackward0>)\n",
      "13 tensor(158.3679, device='cuda:0', grad_fn=<AddBackward0>)\n",
      "5.608584069288694 18.17166225726788 62302.43125064556 62326.20963815542\n"
     ]
    },
    {
     "name": "stderr",
     "output_type": "stream",
     "text": [
      "\n",
      " 10%|▉         | 13/131 [02:15<20:33, 10.45s/it]\u001b[A"
     ]
    },
    {
     "name": "stdout",
     "output_type": "stream",
     "text": [
      "tensor(5.8347, device='cuda:0', grad_fn=<MulBackward0>)\n",
      "tensor(37.2963, device='cuda:0', grad_fn=<MulBackward0>)\n",
      "tensor(1071.9435, device='cuda:0', grad_fn=<MulBackward0>)\n",
      "14 tensor(1115.0746, device='cuda:0', grad_fn=<AddBackward0>)\n",
      "5.624738144023078 19.537710462297714 57928.824981416976 57953.98570578439\n"
     ]
    },
    {
     "name": "stderr",
     "output_type": "stream",
     "text": [
      "\n",
      " 11%|█         | 14/131 [02:26<20:18, 10.42s/it]\u001b[A"
     ]
    },
    {
     "name": "stdout",
     "output_type": "stream",
     "text": [
      "tensor(4.4118, device='cuda:0', grad_fn=<MulBackward0>)\n",
      "tensor(17.2845, device='cuda:0', grad_fn=<MulBackward0>)\n",
      "tensor(1614.6147, device='cuda:0', grad_fn=<MulBackward0>)\n",
      "15 tensor(1636.3110, device='cuda:0', grad_fn=<AddBackward0>)\n",
      "5.543878519535065 19.387495295206705 54174.544299062094 54199.474061075845\n"
     ]
    },
    {
     "name": "stderr",
     "output_type": "stream",
     "text": [
      "\n",
      " 11%|█▏        | 15/131 [02:36<20:10, 10.44s/it]\u001b[A"
     ]
    },
    {
     "name": "stdout",
     "output_type": "stream",
     "text": [
      "tensor(4.9467, device='cuda:0', grad_fn=<MulBackward0>)\n",
      "tensor(23.0399, device='cuda:0', grad_fn=<MulBackward0>)\n",
      "tensor(5409.6694, device='cuda:0', grad_fn=<MulBackward0>)\n",
      "16 tensor(5437.6558, device='cuda:0', grad_fn=<AddBackward0>)\n",
      "5.506551798433065 19.615768432617188 51126.73961997032 51151.86041736603\n"
     ]
    },
    {
     "name": "stderr",
     "output_type": "stream",
     "text": [
      "\n",
      " 12%|█▏        | 16/131 [02:46<19:57, 10.42s/it]\u001b[A"
     ]
    },
    {
     "name": "stdout",
     "output_type": "stream",
     "text": [
      "tensor(2.9482, device='cuda:0', grad_fn=<MulBackward0>)\n",
      "tensor(23.6168, device='cuda:0', grad_fn=<MulBackward0>)\n",
      "tensor(1149.3204, device='cuda:0', grad_fn=<MulBackward0>)\n",
      "17 tensor(1175.8854, device='cuda:0', grad_fn=<AddBackward0>)\n",
      "5.3560576824580926 19.851121004889993 48186.89143259385 48212.09717963723\n"
     ]
    },
    {
     "name": "stderr",
     "output_type": "stream",
     "text": [
      "\n",
      " 13%|█▎        | 17/131 [02:57<19:49, 10.43s/it]\u001b[A"
     ]
    },
    {
     "name": "stdout",
     "output_type": "stream",
     "text": [
      "tensor(3.0722, device='cuda:0', grad_fn=<MulBackward0>)\n",
      "tensor(10.7077, device='cuda:0', grad_fn=<MulBackward0>)\n",
      "tensor(4783.2593, device='cuda:0', grad_fn=<MulBackward0>)\n",
      "18 tensor(4797.0391, device='cuda:0', grad_fn=<AddBackward0>)\n",
      "5.229176226589415 19.34315257602268 45775.578535079956 45800.14950646294\n"
     ]
    },
    {
     "name": "stderr",
     "output_type": "stream",
     "text": [
      "\n",
      " 14%|█▎        | 18/131 [03:07<19:37, 10.42s/it]\u001b[A"
     ]
    },
    {
     "name": "stdout",
     "output_type": "stream",
     "text": [
      "tensor(5.7561, device='cuda:0', grad_fn=<MulBackward0>)\n",
      "tensor(21.4832, device='cuda:0', grad_fn=<MulBackward0>)\n",
      "tensor(793383.5000, device='cuda:0', grad_fn=<MulBackward0>)\n",
      "19 tensor(793410.7500, device='cuda:0', grad_fn=<AddBackward0>)\n",
      "5.256907635613492 19.45578916449296 85123.36387533891 85148.07584822805\n"
     ]
    },
    {
     "name": "stderr",
     "output_type": "stream",
     "text": [
      "\n",
      " 15%|█▍        | 19/131 [03:18<19:36, 10.51s/it]\u001b[A"
     ]
    },
    {
     "name": "stdout",
     "output_type": "stream",
     "text": [
      "tensor(4.0347, device='cuda:0', grad_fn=<MulBackward0>)\n",
      "tensor(7.8517, device='cuda:0', grad_fn=<MulBackward0>)\n",
      "tensor(963269.8125, device='cuda:0', grad_fn=<MulBackward0>)\n",
      "20 tensor(963281.6875, device='cuda:0', grad_fn=<AddBackward0>)\n",
      "5.1957954376935955 18.87558434009552 129030.68630657197 129054.75643081665\n"
     ]
    },
    {
     "name": "stderr",
     "output_type": "stream",
     "text": [
      "\n",
      " 15%|█▌        | 20/131 [03:28<19:25, 10.50s/it]\u001b[A"
     ]
    },
    {
     "name": "stdout",
     "output_type": "stream",
     "text": [
      "tensor(2.6805, device='cuda:0', grad_fn=<MulBackward0>)\n",
      "tensor(18.0260, device='cuda:0', grad_fn=<MulBackward0>)\n",
      "tensor(2.8093e+12, device='cuda:0', grad_fn=<MulBackward0>)\n",
      "21 tensor(2.8093e+12, device='cuda:0', grad_fn=<AddBackward0>)\n",
      "5.07601862578165 18.83512608210246 133778335262.74886 133778335285.67278\n"
     ]
    },
    {
     "name": "stderr",
     "output_type": "stream",
     "text": [
      "\n",
      " 16%|█▌        | 21/131 [03:39<19:16, 10.51s/it]\u001b[A"
     ]
    },
    {
     "name": "stdout",
     "output_type": "stream",
     "text": [
      "tensor(2.7358, device='cuda:0', grad_fn=<MulBackward0>)\n",
      "tensor(8.4828, device='cuda:0', grad_fn=<MulBackward0>)\n",
      "tensor(9.2527e+10, device='cuda:0', grad_fn=<MulBackward0>)\n",
      "22 tensor(9.2527e+10, device='cuda:0', grad_fn=<AddBackward0>)\n",
      "4.969643665985628 18.364564483815972 131903287674.4421 131903287696.32402\n"
     ]
    },
    {
     "name": "stderr",
     "output_type": "stream",
     "text": [
      "\n",
      " 17%|█▋        | 22/131 [03:50<19:07, 10.53s/it]\u001b[A"
     ]
    },
    {
     "name": "stdout",
     "output_type": "stream",
     "text": [
      "tensor(12.5885, device='cuda:0', grad_fn=<MulBackward0>)\n",
      "tensor(26.3586, device='cuda:0', grad_fn=<MulBackward0>)\n",
      "tensor(5.5363e+10, device='cuda:0', grad_fn=<MulBackward0>)\n",
      "23 tensor(5.5363e+10, device='cuda:0', grad_fn=<AddBackward0>)\n",
      "5.300896216993746 18.71213035998137 128575427990.50983 128575428011.44037\n"
     ]
    },
    {
     "name": "stderr",
     "output_type": "stream",
     "text": [
      "\n",
      " 18%|█▊        | 23/131 [04:00<19:01, 10.57s/it]\u001b[A"
     ]
    },
    {
     "name": "stdout",
     "output_type": "stream",
     "text": [
      "tensor(1.7769, device='cuda:0', grad_fn=<MulBackward0>)\n",
      "tensor(5.9501, device='cuda:0', grad_fn=<MulBackward0>)\n",
      "tensor(8395576., device='cuda:0', grad_fn=<MulBackward0>)\n",
      "24 tensor(8395584., device='cuda:0', grad_fn=<AddBackward0>)\n",
      "5.154061498741309 18.180380682150524 123218468306.57191 123218468326.96368\n"
     ]
    },
    {
     "name": "stderr",
     "output_type": "stream",
     "text": [
      "\n",
      " 18%|█▊        | 24/131 [04:11<18:47, 10.54s/it]\u001b[A"
     ]
    },
    {
     "name": "stdout",
     "output_type": "stream",
     "text": [
      "tensor(2.0101, device='cuda:0', grad_fn=<MulBackward0>)\n",
      "tensor(16.0605, device='cuda:0', grad_fn=<MulBackward0>)\n",
      "tensor(5003762., device='cuda:0', grad_fn=<MulBackward0>)\n",
      "25 tensor(5003780., device='cuda:0', grad_fn=<AddBackward0>)\n",
      "5.028304493427276 18.095583744049073 118289929724.78905 118289929745.08514\n"
     ]
    },
    {
     "name": "stderr",
     "output_type": "stream",
     "text": [
      "\n",
      " 19%|█▉        | 25/131 [04:21<18:36, 10.53s/it]\u001b[A"
     ]
    },
    {
     "name": "stdout",
     "output_type": "stream",
     "text": [
      "tensor(4.1059, device='cuda:0', grad_fn=<MulBackward0>)\n",
      "tensor(14.9026, device='cuda:0', grad_fn=<MulBackward0>)\n",
      "tensor(1.4718e+12, device='cuda:0', grad_fn=<MulBackward0>)\n",
      "26 tensor(1.4718e+12, device='cuda:0', grad_fn=<AddBackward0>)\n",
      "4.992826785032566 17.97277540426988 170347843639.98947 170347843659.50494\n"
     ]
    },
    {
     "name": "stderr",
     "output_type": "stream",
     "text": [
      "\n",
      " 20%|█▉        | 26/131 [04:32<18:29, 10.57s/it]\u001b[A"
     ]
    },
    {
     "name": "stdout",
     "output_type": "stream",
     "text": [
      "tensor(3.2696, device='cuda:0', grad_fn=<MulBackward0>)\n",
      "tensor(32.6025, device='cuda:0', grad_fn=<MulBackward0>)\n",
      "tensor(6.4953e+11, device='cuda:0', grad_fn=<MulBackward0>)\n",
      "27 tensor(6.4953e+11, device='cuda:0', grad_fn=<AddBackward0>)\n",
      "4.929002534460138 18.514617089872008 188095255037.02692 188095255055.81958\n"
     ]
    },
    {
     "name": "stderr",
     "output_type": "stream",
     "text": [
      "\n",
      " 21%|██        | 27/131 [04:42<18:16, 10.54s/it]\u001b[A"
     ]
    },
    {
     "name": "stdout",
     "output_type": "stream",
     "text": [
      "tensor(3.0193, device='cuda:0', grad_fn=<MulBackward0>)\n",
      "tensor(25.9025, device='cuda:0', grad_fn=<MulBackward0>)\n",
      "tensor(2.3596e+20, device='cuda:0', grad_fn=<MulBackward0>)\n",
      "28 tensor(2.3596e+20, device='cuda:0', grad_fn=<AddBackward0>)\n",
      "4.86079931472029 18.778469102723257 8.427006627204284e+18 8.427006627204284e+18\n"
     ]
    },
    {
     "name": "stderr",
     "output_type": "stream",
     "text": [
      "\n",
      " 21%|██▏       | 28/131 [04:53<18:03, 10.52s/it]\u001b[A"
     ]
    },
    {
     "name": "stdout",
     "output_type": "stream",
     "text": [
      "tensor(6.7346, device='cuda:0', grad_fn=<MulBackward0>)\n",
      "tensor(23.8994, device='cuda:0', grad_fn=<MulBackward0>)\n",
      "tensor(1.5999e+15, device='cuda:0', grad_fn=<MulBackward0>)\n",
      "29 tensor(1.5999e+15, device='cuda:0', grad_fn=<AddBackward0>)\n",
      "4.925411604601761 18.955053543222363 8.136475360249596e+18 8.136475360249596e+18\n"
     ]
    },
    {
     "name": "stderr",
     "output_type": "stream",
     "text": [
      "\n",
      " 22%|██▏       | 29/131 [05:04<17:58, 10.57s/it]\u001b[A"
     ]
    },
    {
     "name": "stdout",
     "output_type": "stream",
     "text": [
      "tensor(13.3590, device='cuda:0', grad_fn=<MulBackward0>)\n",
      "tensor(29.2218, device='cuda:0', grad_fn=<MulBackward0>)\n",
      "tensor(5.8971e+15, device='cuda:0', grad_fn=<MulBackward0>)\n",
      "30 tensor(5.8971e+15, device='cuda:0', grad_fn=<AddBackward0>)\n",
      "5.206530493497849 19.297278356552123 7.865456083857294e+18 7.865456083857294e+18\n"
     ]
    },
    {
     "name": "stderr",
     "output_type": "stream",
     "text": [
      "\n",
      " 23%|██▎       | 30/131 [05:14<17:48, 10.58s/it]\u001b[A"
     ]
    },
    {
     "name": "stdout",
     "output_type": "stream",
     "text": [
      "tensor(5.4472, device='cuda:0', grad_fn=<MulBackward0>)\n",
      "tensor(12.4508, device='cuda:0', grad_fn=<MulBackward0>)\n",
      "tensor(5.0364e+23, device='cuda:0', grad_fn=<MulBackward0>)\n",
      "31 tensor(5.0364e+23, device='cuda:0', grad_fn=<AddBackward0>)\n",
      "5.214293543369539 19.07642322970975 1.625402254715032e+22 1.625402254715032e+22\n"
     ]
    },
    {
     "name": "stderr",
     "output_type": "stream",
     "text": [
      "\n",
      " 24%|██▎       | 31/131 [05:25<17:35, 10.55s/it]\u001b[A"
     ]
    },
    {
     "name": "stdout",
     "output_type": "stream",
     "text": [
      "tensor(2.0170, device='cuda:0', grad_fn=<MulBackward0>)\n",
      "tensor(5.9342, device='cuda:0', grad_fn=<MulBackward0>)\n",
      "tensor(1.2273e+23, device='cuda:0', grad_fn=<MulBackward0>)\n",
      "32 tensor(1.2273e+23, device='cuda:0', grad_fn=<AddBackward0>)\n",
      "5.114378223195672 18.665727615356445 1.9581462938161223e+22 1.9581462938161223e+22\n"
     ]
    },
    {
     "name": "stderr",
     "output_type": "stream",
     "text": [
      "\n",
      " 24%|██▍       | 32/131 [05:35<17:25, 10.56s/it]\u001b[A"
     ]
    },
    {
     "ename": "KeyboardInterrupt",
     "evalue": "",
     "output_type": "error",
     "traceback": [
      "\u001b[0;31m---------------------------------------------------------------------------\u001b[0m",
      "\u001b[0;31mKeyboardInterrupt\u001b[0m                         Traceback (most recent call last)",
      "\u001b[0;32m<ipython-input-11-a81e0af91f26>\u001b[0m in \u001b[0;36m<module>\u001b[0;34m\u001b[0m\n\u001b[0;32m----> 1\u001b[0;31m \u001b[0msolv\u001b[0m\u001b[0;34m.\u001b[0m\u001b[0mtrain\u001b[0m\u001b[0;34m(\u001b[0m\u001b[0mtrain_loader\u001b[0m\u001b[0;34m)\u001b[0m\u001b[0;34m\u001b[0m\u001b[0;34m\u001b[0m\u001b[0m\n\u001b[0m",
      "\u001b[0;32m<ipython-input-3-01a9ce948e85>\u001b[0m in \u001b[0;36mtrain\u001b[0;34m(self, train_loader)\u001b[0m\n\u001b[1;32m    127\u001b[0m                 \u001b[0;31m#print(F_est.shape)\u001b[0m\u001b[0;34m\u001b[0m\u001b[0;34m\u001b[0m\u001b[0;34m\u001b[0m\u001b[0m\n\u001b[1;32m    128\u001b[0m \u001b[0;34m\u001b[0m\u001b[0m\n\u001b[0;32m--> 129\u001b[0;31m                 \u001b[0mlcohe\u001b[0m \u001b[0;34m=\u001b[0m \u001b[0mself\u001b[0m\u001b[0;34m.\u001b[0m\u001b[0malpha\u001b[0m\u001b[0;34m*\u001b[0m\u001b[0mself\u001b[0m\u001b[0;34m.\u001b[0m\u001b[0mcohe_loss\u001b[0m\u001b[0;34m(\u001b[0m\u001b[0mO_2\u001b[0m\u001b[0;34m,\u001b[0m\u001b[0mS_1\u001b[0m\u001b[0;34m,\u001b[0m\u001b[0mflow\u001b[0m\u001b[0;34m,\u001b[0m\u001b[0mmask\u001b[0m\u001b[0;34m)\u001b[0m\u001b[0;34m\u001b[0m\u001b[0;34m\u001b[0m\u001b[0m\n\u001b[0m\u001b[1;32m    130\u001b[0m                 \u001b[0mlocc\u001b[0m \u001b[0;34m=\u001b[0m \u001b[0mself\u001b[0m\u001b[0;34m.\u001b[0m\u001b[0mbeta\u001b[0m\u001b[0;34m*\u001b[0m\u001b[0mself\u001b[0m\u001b[0;34m.\u001b[0m\u001b[0mocc_loss\u001b[0m\u001b[0;34m(\u001b[0m\u001b[0mO_2\u001b[0m\u001b[0;34m,\u001b[0m\u001b[0mS_2\u001b[0m\u001b[0;34m,\u001b[0m\u001b[0mmask\u001b[0m\u001b[0;34m)\u001b[0m\u001b[0;34m\u001b[0m\u001b[0;34m\u001b[0m\u001b[0m\n\u001b[1;32m    131\u001b[0m                 \u001b[0mlflow\u001b[0m \u001b[0;34m=\u001b[0m \u001b[0mself\u001b[0m\u001b[0;34m.\u001b[0m\u001b[0mgamma\u001b[0m\u001b[0;34m*\u001b[0m\u001b[0mself\u001b[0m\u001b[0;34m.\u001b[0m\u001b[0mflow_loss\u001b[0m\u001b[0;34m(\u001b[0m\u001b[0mF_est\u001b[0m\u001b[0;34m,\u001b[0m\u001b[0mflow\u001b[0m\u001b[0;34m)\u001b[0m\u001b[0;34m\u001b[0m\u001b[0;34m\u001b[0m\u001b[0m\n",
      "\u001b[0;32m<ipython-input-3-01a9ce948e85>\u001b[0m in \u001b[0;36mcohe_loss\u001b[0;34m(self, O_2, S_1, flow, mask)\u001b[0m\n\u001b[1;32m     77\u001b[0m \u001b[0;34m\u001b[0m\u001b[0m\n\u001b[1;32m     78\u001b[0m     \u001b[0;32mdef\u001b[0m \u001b[0mcohe_loss\u001b[0m\u001b[0;34m(\u001b[0m\u001b[0mself\u001b[0m\u001b[0;34m,\u001b[0m \u001b[0mO_2\u001b[0m\u001b[0;34m,\u001b[0m \u001b[0mS_1\u001b[0m\u001b[0;34m,\u001b[0m \u001b[0mflow\u001b[0m\u001b[0;34m,\u001b[0m \u001b[0mmask\u001b[0m\u001b[0;34m)\u001b[0m\u001b[0;34m:\u001b[0m\u001b[0;34m\u001b[0m\u001b[0;34m\u001b[0m\u001b[0m\n\u001b[0;32m---> 79\u001b[0;31m         \u001b[0mR_2\u001b[0m \u001b[0;34m=\u001b[0m \u001b[0mself\u001b[0m\u001b[0;34m.\u001b[0m\u001b[0mpixel_flow\u001b[0m\u001b[0;34m(\u001b[0m\u001b[0mflow\u001b[0m\u001b[0;34m,\u001b[0m \u001b[0mS_1\u001b[0m\u001b[0;34m)\u001b[0m\u001b[0;34m\u001b[0m\u001b[0;34m\u001b[0m\u001b[0m\n\u001b[0m\u001b[1;32m     80\u001b[0m         \u001b[0mL_cohe\u001b[0m \u001b[0;34m=\u001b[0m \u001b[0mtorch\u001b[0m\u001b[0;34m.\u001b[0m\u001b[0msum\u001b[0m\u001b[0;34m(\u001b[0m\u001b[0mmask\u001b[0m \u001b[0;34m*\u001b[0m \u001b[0;34m(\u001b[0m\u001b[0mO_2\u001b[0m \u001b[0;34m-\u001b[0m \u001b[0mR_2\u001b[0m\u001b[0;34m)\u001b[0m \u001b[0;34m*\u001b[0m \u001b[0;34m(\u001b[0m\u001b[0mO_2\u001b[0m \u001b[0;34m-\u001b[0m \u001b[0mR_2\u001b[0m\u001b[0;34m)\u001b[0m\u001b[0;34m)\u001b[0m\u001b[0;34m\u001b[0m\u001b[0;34m\u001b[0m\u001b[0m\n\u001b[1;32m     81\u001b[0m         \u001b[0mprint\u001b[0m \u001b[0;34m(\u001b[0m\u001b[0mself\u001b[0m\u001b[0;34m.\u001b[0m\u001b[0malpha\u001b[0m\u001b[0;34m*\u001b[0m\u001b[0mL_cohe\u001b[0m\u001b[0;34m)\u001b[0m\u001b[0;34m\u001b[0m\u001b[0;34m\u001b[0m\u001b[0m\n",
      "\u001b[0;32m<ipython-input-3-01a9ce948e85>\u001b[0m in \u001b[0;36mpixel_flow\u001b[0;34m(self, flow, img)\u001b[0m\n\u001b[1;32m     68\u001b[0m                 \u001b[0;32melif\u001b[0m \u001b[0mres_w\u001b[0m \u001b[0;34m>\u001b[0m \u001b[0mW\u001b[0m\u001b[0;34m-\u001b[0m\u001b[0;36m1\u001b[0m\u001b[0;34m:\u001b[0m\u001b[0;34m\u001b[0m\u001b[0;34m\u001b[0m\u001b[0m\n\u001b[1;32m     69\u001b[0m                     \u001b[0mres_w\u001b[0m \u001b[0;34m=\u001b[0m \u001b[0mW\u001b[0m\u001b[0;34m-\u001b[0m\u001b[0;36m1\u001b[0m\u001b[0;34m\u001b[0m\u001b[0;34m\u001b[0m\u001b[0m\n\u001b[0;32m---> 70\u001b[0;31m                 \u001b[0mnext_img\u001b[0m\u001b[0;34m[\u001b[0m\u001b[0;34m:\u001b[0m\u001b[0;34m,\u001b[0m\u001b[0;34m:\u001b[0m\u001b[0;34m,\u001b[0m\u001b[0mres_h\u001b[0m\u001b[0;34m,\u001b[0m\u001b[0mres_w\u001b[0m\u001b[0;34m]\u001b[0m \u001b[0;34m=\u001b[0m \u001b[0mimg\u001b[0m\u001b[0;34m[\u001b[0m\u001b[0;34m:\u001b[0m\u001b[0;34m,\u001b[0m\u001b[0;34m:\u001b[0m\u001b[0;34m,\u001b[0m\u001b[0mh\u001b[0m\u001b[0;34m,\u001b[0m\u001b[0mw\u001b[0m\u001b[0;34m]\u001b[0m\u001b[0;34m\u001b[0m\u001b[0;34m\u001b[0m\u001b[0m\n\u001b[0m\u001b[1;32m     71\u001b[0m         \u001b[0;32mreturn\u001b[0m \u001b[0mnext_img\u001b[0m\u001b[0;34m\u001b[0m\u001b[0;34m\u001b[0m\u001b[0m\n\u001b[1;32m     72\u001b[0m \u001b[0;34m\u001b[0m\u001b[0m\n",
      "\u001b[0;31mKeyboardInterrupt\u001b[0m: "
     ]
    }
   ],
   "source": [
    "solv.train(train_loader)"
   ]
  },
  {
   "cell_type": "code",
   "execution_count": 12,
   "metadata": {},
   "outputs": [
    {
     "data": {
      "text/plain": [
       "[[5.234981638784627, 19.361601509665714, 707.2549589572062, 731.8515388037413],\n",
       " [5.779030986483149, 19.014239506867096, 800.8659639940917, 825.6592318010694]]"
      ]
     },
     "execution_count": 12,
     "metadata": {},
     "output_type": "execute_result"
    }
   ],
   "source": [
    "solv.train_records"
   ]
  },
  {
   "cell_type": "code",
   "execution_count": null,
   "metadata": {},
   "outputs": [],
   "source": []
  }
 ],
 "metadata": {
  "kernelspec": {
   "display_name": "Python 3",
   "language": "python",
   "name": "python3"
  },
  "language_info": {
   "codemirror_mode": {
    "name": "ipython",
    "version": 3
   },
   "file_extension": ".py",
   "mimetype": "text/x-python",
   "name": "python",
   "nbconvert_exporter": "python",
   "pygments_lexer": "ipython3",
   "version": "3.7.1"
  }
 },
 "nbformat": 4,
 "nbformat_minor": 2
}
